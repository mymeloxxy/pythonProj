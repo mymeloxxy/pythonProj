{
 "cells": [
  {
   "cell_type": "code",
   "execution_count": 1,
   "id": "c16d116a",
   "metadata": {},
   "outputs": [
    {
     "name": "stdout",
     "output_type": "stream",
     "text": [
      "hello world!!!\n"
     ]
    }
   ],
   "source": [
    "print('hello world!!!')"
   ]
  },
  {
   "cell_type": "code",
   "execution_count": 7,
   "id": "ad69f01b",
   "metadata": {},
   "outputs": [],
   "source": [
    "# 한글작업"
   ]
  },
  {
   "cell_type": "code",
   "execution_count": 32,
   "id": "31a0b275-6007-47a5-8428-66ff7279f62b",
   "metadata": {
    "tags": []
   },
   "outputs": [],
   "source": [
    "a = 5\n",
    "if a == 10:\n",
    "    print('10입니다')\n",
    "    print('10입니다')"
   ]
  },
  {
   "cell_type": "code",
   "execution_count": 13,
   "id": "a1a1bc8c-800f-43ad-9375-108b804edb37",
   "metadata": {},
   "outputs": [
    {
     "data": {
      "text/plain": [
       "3"
      ]
     },
     "execution_count": 13,
     "metadata": {},
     "output_type": "execute_result"
    }
   ],
   "source": [
    "1+1+1"
   ]
  },
  {
   "cell_type": "code",
   "execution_count": 15,
   "id": "fd8dd10d-8810-413f-b4b5-61575199794e",
   "metadata": {},
   "outputs": [
    {
     "data": {
      "text/plain": [
       "2.0"
      ]
     },
     "execution_count": 15,
     "metadata": {},
     "output_type": "execute_result"
    }
   ],
   "source": [
    "1+1.0"
   ]
  },
  {
   "cell_type": "code",
   "execution_count": 17,
   "id": "35366650-ac23-46e6-bee0-b8fd7ba5ef75",
   "metadata": {},
   "outputs": [
    {
     "data": {
      "text/plain": [
       "2.0"
      ]
     },
     "execution_count": 17,
     "metadata": {},
     "output_type": "execute_result"
    }
   ],
   "source": [
    "4/2"
   ]
  },
  {
   "cell_type": "raw",
   "id": "d7428701-bad1-41a1-94d9-d573cf9e7aec",
   "metadata": {},
   "source": [
    "+,-,*,/,//(몫),%(나머지),**(거듭제곱)"
   ]
  },
  {
   "cell_type": "markdown",
   "id": "c73536b2-50b6-416a-afe7-6b8a5c87e7c6",
   "metadata": {
    "tags": []
   },
   "source": [
    "# 제목"
   ]
  },
  {
   "cell_type": "markdown",
   "id": "e08a292e-db84-4515-acaf-702a4bf94014",
   "metadata": {
    "tags": []
   },
   "source": [
    "[네이버](http://www.naver.com)"
   ]
  },
  {
   "cell_type": "markdown",
   "id": "585e1c49-f601-4c63-8d12-3b6d8415515d",
   "metadata": {
    "tags": []
   },
   "source": [
    "![](img01.jfif)"
   ]
  },
  {
   "cell_type": "code",
   "execution_count": 25,
   "id": "e6f62be5-a328-4d94-9c75-fd2f65e55580",
   "metadata": {},
   "outputs": [
    {
     "name": "stdin",
     "output_type": "stream",
     "text": [
      "숫자를 입력하세요 >>>  56\n"
     ]
    }
   ],
   "source": [
    "a = input('숫자를 입력하세요 >>> ')"
   ]
  },
  {
   "cell_type": "code",
   "execution_count": 24,
   "id": "51435c9d-337e-4025-8245-46dcdeab8ff4",
   "metadata": {
    "collapsed": true,
    "jupyter": {
     "outputs_hidden": true
    },
    "tags": []
   },
   "outputs": [
    {
     "data": {
      "text/plain": [
       "\u001b[1;31mSignature:\u001b[0m \u001b[0minput\u001b[0m\u001b[1;33m(\u001b[0m\u001b[0mprompt\u001b[0m\u001b[1;33m=\u001b[0m\u001b[1;34m''\u001b[0m\u001b[1;33m)\u001b[0m\u001b[1;33m\u001b[0m\u001b[1;33m\u001b[0m\u001b[0m\n",
       "\u001b[1;31mDocstring:\u001b[0m\n",
       "Forward raw_input to frontends\n",
       "\n",
       "Raises\n",
       "------\n",
       "StdinNotImplementedError if active frontend doesn't support stdin.\n",
       "\u001b[1;31mFile:\u001b[0m      c:\\users\\admin\\anaconda3\\lib\\site-packages\\ipykernel\\kernelbase.py\n",
       "\u001b[1;31mType:\u001b[0m      method\n"
      ]
     },
     "metadata": {},
     "output_type": "display_data"
    }
   ],
   "source": [
    "input? #input() 범위안에 커서 두고 tab+shift"
   ]
  },
  {
   "cell_type": "code",
   "execution_count": 28,
   "id": "8ceb287d-72c6-4370-8546-e118504ae2d4",
   "metadata": {},
   "outputs": [
    {
     "data": {
      "text/plain": [
       "str"
      ]
     },
     "execution_count": 28,
     "metadata": {},
     "output_type": "execute_result"
    }
   ],
   "source": [
    "type(a)"
   ]
  },
  {
   "cell_type": "code",
   "execution_count": 30,
   "id": "eda877f2-edc9-44d0-b0b6-5a95fcda338b",
   "metadata": {},
   "outputs": [],
   "source": [
    "a = int(a)"
   ]
  },
  {
   "cell_type": "code",
   "execution_count": 34,
   "id": "f0df0021-ad37-4a4d-b6a9-8dae98bf6f51",
   "metadata": {},
   "outputs": [
    {
     "data": {
      "text/plain": [
       "int"
      ]
     },
     "execution_count": 34,
     "metadata": {},
     "output_type": "execute_result"
    }
   ],
   "source": [
    "type(a)"
   ]
  },
  {
   "cell_type": "code",
   "execution_count": 39,
   "id": "064a8735-7cae-474b-860f-a6f2559378f9",
   "metadata": {},
   "outputs": [
    {
     "data": {
      "text/plain": [
       "float"
      ]
     },
     "execution_count": 39,
     "metadata": {},
     "output_type": "execute_result"
    }
   ],
   "source": [
    "a = float(a)\n",
    "type(a)"
   ]
  },
  {
   "cell_type": "code",
   "execution_count": 41,
   "id": "eed78cc7-70ac-4ee9-ad91-3f7fd3820b77",
   "metadata": {},
   "outputs": [
    {
     "data": {
      "text/plain": [
       "str"
      ]
     },
     "execution_count": 41,
     "metadata": {},
     "output_type": "execute_result"
    }
   ],
   "source": [
    "a = str(a)\n",
    "type(a)"
   ]
  },
  {
   "cell_type": "code",
   "execution_count": 43,
   "id": "4cc85c31-eb28-4f94-82f0-272b6b764558",
   "metadata": {},
   "outputs": [
    {
     "name": "stdin",
     "output_type": "stream",
     "text": [
      "숫자를 입력하세요 가나다\n"
     ]
    },
    {
     "data": {
      "text/plain": [
       "str"
      ]
     },
     "execution_count": 43,
     "metadata": {},
     "output_type": "execute_result"
    }
   ],
   "source": [
    "b = input('숫자를 입력하세요')\n",
    "type(b)"
   ]
  },
  {
   "cell_type": "code",
   "execution_count": 46,
   "id": "61481da4-278c-4152-9ccc-b8831ddb9718",
   "metadata": {
    "tags": []
   },
   "outputs": [
    {
     "ename": "ValueError",
     "evalue": "invalid literal for int() with base 10: '가나다'",
     "output_type": "error",
     "traceback": [
      "\u001b[1;31m---------------------------------------------------------------------------\u001b[0m",
      "\u001b[1;31mValueError\u001b[0m                                Traceback (most recent call last)",
      "\u001b[1;32m~\\AppData\\Local\\Temp/ipykernel_5524/3956108814.py\u001b[0m in \u001b[0;36m<module>\u001b[1;34m\u001b[0m\n\u001b[1;32m----> 1\u001b[1;33m \u001b[0mint\u001b[0m\u001b[1;33m(\u001b[0m\u001b[0mb\u001b[0m\u001b[1;33m)\u001b[0m\u001b[1;33m\u001b[0m\u001b[1;33m\u001b[0m\u001b[0m\n\u001b[0m",
      "\u001b[1;31mValueError\u001b[0m: invalid literal for int() with base 10: '가나다'"
     ]
    }
   ],
   "source": [
    "int(b)"
   ]
  },
  {
   "cell_type": "code",
   "execution_count": 49,
   "id": "3eef039d-eb23-49d8-a39c-df98445bb809",
   "metadata": {},
   "outputs": [
    {
     "data": {
      "text/plain": [
       "False"
      ]
     },
     "execution_count": 49,
     "metadata": {},
     "output_type": "execute_result"
    }
   ],
   "source": [
    "b.isdecimal()"
   ]
  },
  {
   "cell_type": "code",
   "execution_count": 50,
   "id": "18b43b83-66ae-4da9-b712-ba13723a4004",
   "metadata": {},
   "outputs": [
    {
     "name": "stdout",
     "output_type": "stream",
     "text": [
      "문자일때 할일\n"
     ]
    }
   ],
   "source": [
    "if b.isdecimal():\n",
    "    print('참일때 해야될일')\n",
    "elif b.isalpha:\n",
    "    print('문자일때 할일')\n",
    "else:\n",
    "    print('그외 나머지')"
   ]
  },
  {
   "cell_type": "code",
   "execution_count": 52,
   "id": "bc6f8255-49b0-46a4-b92a-842e30f8a486",
   "metadata": {},
   "outputs": [
    {
     "ename": "SyntaxError",
     "evalue": "invalid syntax (Temp/ipykernel_5524/323850909.py, line 1)",
     "output_type": "error",
     "traceback": [
      "\u001b[1;36m  File \u001b[1;32m\"C:\\Users\\Admin\\AppData\\Local\\Temp/ipykernel_5524/323850909.py\"\u001b[1;36m, line \u001b[1;32m1\u001b[0m\n\u001b[1;33m    박스당 과일을 넣어서 몇박스 몇개인지를 출력해주는 프로그램 작성\u001b[0m\n\u001b[1;37m        ^\u001b[0m\n\u001b[1;31mSyntaxError\u001b[0m\u001b[1;31m:\u001b[0m invalid syntax\n"
     ]
    }
   ],
   "source": [
    "박스당 과일을 넣어서 몇박스 몇개인지를 출력해주는 프로그램 작성\n",
    "- 조건체크 : 입력값이 숫자인지 여부 체크해서 진행 \n",
    "- 입력 받을 값 : 박스당 과일수, 전체 과일수\n",
    "- 출력 내용 : X박스 X개"
   ]
  },
  {
   "cell_type": "code",
   "execution_count": 55,
   "id": "d83547dd-a3c3-499b-8158-440947bd2ce8",
   "metadata": {},
   "outputs": [
    {
     "name": "stdin",
     "output_type": "stream",
     "text": [
      "숫자를 입력하세요 X박스 X개\n"
     ]
    },
    {
     "data": {
      "text/plain": [
       "str"
      ]
     },
     "execution_count": 55,
     "metadata": {},
     "output_type": "execute_result"
    }
   ],
   "source": [
    "x = input('숫자를 입력하세요')\n",
    "type(x)"
   ]
  },
  {
   "cell_type": "code",
   "execution_count": 57,
   "id": "d0e83c88-38f4-4001-a490-c43cd0815ba3",
   "metadata": {},
   "outputs": [
    {
     "name": "stdout",
     "output_type": "stream",
     "text": [
      "박스당 과일수\n"
     ]
    }
   ],
   "source": [
    "if x.isalpha:\n",
    "    print('박스당 과일수')"
   ]
  },
  {
   "cell_type": "code",
   "execution_count": null,
   "id": "b81470dd-51f4-484b-bea9-98aafae71ca0",
   "metadata": {},
   "outputs": [],
   "source": [
    "a1 = input('박스당 과일의 갯수 >>>')\n",
    "a2 = input('전체 과일수 >>>')\n",
    "if a1.isdecimal() and a2.isdecimal():\n",
    "    a1 = int(a1)   도 가능\n",
    "    a2 = int(a2)"
   ]
  },
  {
   "cell_type": "code",
   "execution_count": 60,
   "id": "d474e6dd-19c4-406f-811d-1fd7dc04f812",
   "metadata": {},
   "outputs": [
    {
     "name": "stdin",
     "output_type": "stream",
     "text": [
      "박스당 과일의 갯수 >>> 두개\n",
      "전체 과일수 >>> 456\n"
     ]
    },
    {
     "name": "stdout",
     "output_type": "stream",
     "text": [
      "입력값이 잘못되었습니다.\n"
     ]
    }
   ],
   "source": [
    "a1 = input('박스당 과일의 갯수 >>>')\n",
    "a2 = input('전체 과일수 >>>')\n",
    "if a1.isdecimal() and a2.isdecimal():\n",
    "    a1,a2 = int(a1),int(a2)\n",
    "    box = a2//a1\n",
    "    count = a2%a1\n",
    "    print(box,'박스 ',count,'개')\n",
    "else:\n",
    "    print('입력값이 잘못되었습니다.')"
   ]
  },
  {
   "cell_type": "code",
   "execution_count": 62,
   "id": "7425c039-da8c-40bd-b5c0-4a833fd093c5",
   "metadata": {},
   "outputs": [
    {
     "name": "stdin",
     "output_type": "stream",
     "text": [
      "박스당 과일의 갯수 >>> 3\n",
      "전체 과일수 >>> 456\n"
     ]
    },
    {
     "name": "stdout",
     "output_type": "stream",
     "text": [
      "152 박스  0 개\n"
     ]
    }
   ],
   "source": [
    "a1 = input('박스당 과일의 갯수 >>>')\n",
    "a2 = input('전체 과일수 >>>')\n",
    "if a1.isdecimal() and a2.isdecimal():\n",
    "    a1,a2 = int(a1),int(a2)\n",
    "    box = a2//a1\n",
    "    count = a2%a1\n",
    "    print(box,'박스 ',count,'개')\n",
    "else:\n",
    "    print('입력값이 잘못되었습니다.')"
   ]
  },
  {
   "cell_type": "code",
   "execution_count": 65,
   "id": "d30a879c-ba54-4dfb-a6e1-5c8e03234d62",
   "metadata": {},
   "outputs": [],
   "source": [
    "a=divmod(5,2)"
   ]
  },
  {
   "cell_type": "code",
   "execution_count": 67,
   "id": "c1d3d384-3364-4a1e-821b-8559b498c45a",
   "metadata": {},
   "outputs": [
    {
     "data": {
      "text/plain": [
       "(2, 1)"
      ]
     },
     "execution_count": 67,
     "metadata": {},
     "output_type": "execute_result"
    }
   ],
   "source": [
    "a"
   ]
  },
  {
   "cell_type": "code",
   "execution_count": 69,
   "id": "72e6a562-4b66-49bf-a712-7d40cf248495",
   "metadata": {},
   "outputs": [
    {
     "data": {
      "text/plain": [
       "2"
      ]
     },
     "execution_count": 69,
     "metadata": {},
     "output_type": "execute_result"
    }
   ],
   "source": [
    "a[0]"
   ]
  },
  {
   "cell_type": "code",
   "execution_count": 71,
   "id": "2fdc8b97-e92f-4c51-abe8-98b43d1966ce",
   "metadata": {},
   "outputs": [
    {
     "data": {
      "text/plain": [
       "5"
      ]
     },
     "execution_count": 71,
     "metadata": {},
     "output_type": "execute_result"
    }
   ],
   "source": [
    "0b00101"
   ]
  },
  {
   "cell_type": "code",
   "execution_count": 73,
   "id": "0ff66408-1422-4e88-9be7-f6e9c7eff47b",
   "metadata": {},
   "outputs": [
    {
     "data": {
      "text/plain": [
       "342391"
      ]
     },
     "execution_count": 73,
     "metadata": {},
     "output_type": "execute_result"
    }
   ],
   "source": [
    "0o1234567"
   ]
  },
  {
   "cell_type": "code",
   "execution_count": 74,
   "id": "987863bb-205b-4a27-9a45-2827cbd75a35",
   "metadata": {},
   "outputs": [
    {
     "data": {
      "text/plain": [
       "16777215"
      ]
     },
     "execution_count": 74,
     "metadata": {},
     "output_type": "execute_result"
    }
   ],
   "source": [
    "0xffffff"
   ]
  },
  {
   "cell_type": "code",
   "execution_count": 76,
   "id": "35f99bf6-be04-4f7e-bfa6-c1da2ff88789",
   "metadata": {},
   "outputs": [
    {
     "data": {
      "text/plain": [
       "2479"
      ]
     },
     "execution_count": 76,
     "metadata": {},
     "output_type": "execute_result"
    }
   ],
   "source": [
    "0x09af"
   ]
  },
  {
   "cell_type": "code",
   "execution_count": 77,
   "id": "366b49b1-e95e-4889-9b2c-4739c98d4353",
   "metadata": {},
   "outputs": [
    {
     "ename": "NameError",
     "evalue": "name 'up7' is not defined",
     "output_type": "error",
     "traceback": [
      "\u001b[1;31m---------------------------------------------------------------------------\u001b[0m",
      "\u001b[1;31mNameError\u001b[0m                                 Traceback (most recent call last)",
      "\u001b[1;32m~\\AppData\\Local\\Temp/ipykernel_5524/3814078378.py\u001b[0m in \u001b[0;36m<module>\u001b[1;34m\u001b[0m\n\u001b[1;32m----> 1\u001b[1;33m \u001b[1;32mdel\u001b[0m \u001b[0mup7\u001b[0m\u001b[1;33m\u001b[0m\u001b[1;33m\u001b[0m\u001b[0m\n\u001b[0m",
      "\u001b[1;31mNameError\u001b[0m: name 'up7' is not defined"
     ]
    }
   ],
   "source": [
    "del up7"
   ]
  },
  {
   "cell_type": "code",
   "execution_count": 78,
   "id": "fcae3746-fc7b-4997-b320-360e66aa2f48",
   "metadata": {},
   "outputs": [
    {
     "ename": "NameError",
     "evalue": "name 'up7' is not defined",
     "output_type": "error",
     "traceback": [
      "\u001b[1;31m---------------------------------------------------------------------------\u001b[0m",
      "\u001b[1;31mNameError\u001b[0m                                 Traceback (most recent call last)",
      "\u001b[1;32m~\\AppData\\Local\\Temp/ipykernel_5524/1661159455.py\u001b[0m in \u001b[0;36m<module>\u001b[1;34m\u001b[0m\n\u001b[1;32m----> 1\u001b[1;33m \u001b[0mup7\u001b[0m\u001b[1;33m\u001b[0m\u001b[1;33m\u001b[0m\u001b[0m\n\u001b[0m",
      "\u001b[1;31mNameError\u001b[0m: name 'up7' is not defined"
     ]
    }
   ],
   "source": [
    "up7"
   ]
  },
  {
   "cell_type": "code",
   "execution_count": 82,
   "id": "cad1607c-5903-4a23-b021-ed71dbf28083",
   "metadata": {},
   "outputs": [],
   "source": [
    "a = [1,2,3,4,5]"
   ]
  },
  {
   "cell_type": "code",
   "execution_count": 83,
   "id": "959347ff-2d13-4004-91c8-36a2e9c6ccf7",
   "metadata": {},
   "outputs": [
    {
     "data": {
      "text/plain": [
       "list"
      ]
     },
     "execution_count": 83,
     "metadata": {},
     "output_type": "execute_result"
    }
   ],
   "source": [
    "type(a)"
   ]
  },
  {
   "cell_type": "code",
   "execution_count": 85,
   "id": "f7bbdfc9-9824-4321-8a8a-dfcd27a243fb",
   "metadata": {},
   "outputs": [
    {
     "data": {
      "text/plain": [
       "5"
      ]
     },
     "execution_count": 85,
     "metadata": {},
     "output_type": "execute_result"
    }
   ],
   "source": [
    "a[4]"
   ]
  },
  {
   "cell_type": "code",
   "execution_count": 90,
   "id": "a2f1528b-e40d-4931-bbb0-9645a14d8fee",
   "metadata": {},
   "outputs": [],
   "source": [
    "del a[1]"
   ]
  },
  {
   "cell_type": "code",
   "execution_count": 92,
   "id": "1fbff3fd-212f-4be3-b8aa-eafced79ab0d",
   "metadata": {},
   "outputs": [
    {
     "data": {
      "text/plain": [
       "[1]"
      ]
     },
     "execution_count": 92,
     "metadata": {},
     "output_type": "execute_result"
    }
   ],
   "source": [
    "a"
   ]
  },
  {
   "cell_type": "code",
   "execution_count": 95,
   "id": "02efc124-ffc3-40b3-92c5-fb0b50b820fc",
   "metadata": {},
   "outputs": [],
   "source": [
    "a = [1,2,3,4,5]"
   ]
  },
  {
   "cell_type": "code",
   "execution_count": 96,
   "id": "12309ac3-dbdf-4d57-89f4-e1d602ab1382",
   "metadata": {},
   "outputs": [
    {
     "data": {
      "text/plain": [
       "list"
      ]
     },
     "execution_count": 96,
     "metadata": {},
     "output_type": "execute_result"
    }
   ],
   "source": [
    "type(a)"
   ]
  },
  {
   "cell_type": "code",
   "execution_count": 97,
   "id": "a2daaca2-d0da-4a48-befa-22d4bf2f0387",
   "metadata": {},
   "outputs": [
    {
     "data": {
      "text/plain": [
       "5"
      ]
     },
     "execution_count": 97,
     "metadata": {},
     "output_type": "execute_result"
    }
   ],
   "source": [
    "a[4]"
   ]
  },
  {
   "cell_type": "code",
   "execution_count": 99,
   "id": "8f387c3b-ef30-47b0-a648-edaa182a01c4",
   "metadata": {},
   "outputs": [],
   "source": [
    "del a[1]"
   ]
  },
  {
   "cell_type": "code",
   "execution_count": 101,
   "id": "5be972ae-2272-4db5-9803-99b9b1d07b58",
   "metadata": {},
   "outputs": [
    {
     "ename": "KeyboardInterrupt",
     "evalue": "Interrupted by user",
     "output_type": "error",
     "traceback": [
      "\u001b[1;31m---------------------------------------------------------------------------\u001b[0m",
      "\u001b[1;31mKeyboardInterrupt\u001b[0m                         Traceback (most recent call last)",
      "\u001b[1;32m~\\AppData\\Local\\Temp/ipykernel_5524/4025546921.py\u001b[0m in \u001b[0;36m<module>\u001b[1;34m\u001b[0m\n\u001b[1;32m----> 1\u001b[1;33m \u001b[0mint\u001b[0m\u001b[1;33m(\u001b[0m\u001b[0minput\u001b[0m\u001b[1;33m(\u001b[0m\u001b[1;33m)\u001b[0m\u001b[1;33m)\u001b[0m\u001b[1;33m\u001b[0m\u001b[1;33m\u001b[0m\u001b[0m\n\u001b[0m",
      "\u001b[1;32m~\\anaconda3\\lib\\site-packages\\ipykernel\\kernelbase.py\u001b[0m in \u001b[0;36mraw_input\u001b[1;34m(self, prompt)\u001b[0m\n\u001b[0;32m   1004\u001b[0m                 \u001b[1;34m\"raw_input was called, but this frontend does not support input requests.\"\u001b[0m\u001b[1;33m\u001b[0m\u001b[1;33m\u001b[0m\u001b[0m\n\u001b[0;32m   1005\u001b[0m             )\n\u001b[1;32m-> 1006\u001b[1;33m         return self._input_request(\n\u001b[0m\u001b[0;32m   1007\u001b[0m             \u001b[0mstr\u001b[0m\u001b[1;33m(\u001b[0m\u001b[0mprompt\u001b[0m\u001b[1;33m)\u001b[0m\u001b[1;33m,\u001b[0m\u001b[1;33m\u001b[0m\u001b[1;33m\u001b[0m\u001b[0m\n\u001b[0;32m   1008\u001b[0m             \u001b[0mself\u001b[0m\u001b[1;33m.\u001b[0m\u001b[0m_parent_ident\u001b[0m\u001b[1;33m[\u001b[0m\u001b[1;34m\"shell\"\u001b[0m\u001b[1;33m]\u001b[0m\u001b[1;33m,\u001b[0m\u001b[1;33m\u001b[0m\u001b[1;33m\u001b[0m\u001b[0m\n",
      "\u001b[1;32m~\\anaconda3\\lib\\site-packages\\ipykernel\\kernelbase.py\u001b[0m in \u001b[0;36m_input_request\u001b[1;34m(self, prompt, ident, parent, password)\u001b[0m\n\u001b[0;32m   1049\u001b[0m             \u001b[1;32mexcept\u001b[0m \u001b[0mKeyboardInterrupt\u001b[0m\u001b[1;33m:\u001b[0m\u001b[1;33m\u001b[0m\u001b[1;33m\u001b[0m\u001b[0m\n\u001b[0;32m   1050\u001b[0m                 \u001b[1;31m# re-raise KeyboardInterrupt, to truncate traceback\u001b[0m\u001b[1;33m\u001b[0m\u001b[1;33m\u001b[0m\u001b[0m\n\u001b[1;32m-> 1051\u001b[1;33m                 \u001b[1;32mraise\u001b[0m \u001b[0mKeyboardInterrupt\u001b[0m\u001b[1;33m(\u001b[0m\u001b[1;34m\"Interrupted by user\"\u001b[0m\u001b[1;33m)\u001b[0m \u001b[1;32mfrom\u001b[0m \u001b[1;32mNone\u001b[0m\u001b[1;33m\u001b[0m\u001b[1;33m\u001b[0m\u001b[0m\n\u001b[0m\u001b[0;32m   1052\u001b[0m             \u001b[1;32mexcept\u001b[0m \u001b[0mException\u001b[0m\u001b[1;33m:\u001b[0m\u001b[1;33m\u001b[0m\u001b[1;33m\u001b[0m\u001b[0m\n\u001b[0;32m   1053\u001b[0m                 \u001b[0mself\u001b[0m\u001b[1;33m.\u001b[0m\u001b[0mlog\u001b[0m\u001b[1;33m.\u001b[0m\u001b[0mwarning\u001b[0m\u001b[1;33m(\u001b[0m\u001b[1;34m\"Invalid Message:\"\u001b[0m\u001b[1;33m,\u001b[0m \u001b[0mexc_info\u001b[0m\u001b[1;33m=\u001b[0m\u001b[1;32mTrue\u001b[0m\u001b[1;33m)\u001b[0m\u001b[1;33m\u001b[0m\u001b[1;33m\u001b[0m\u001b[0m\n",
      "\u001b[1;31mKeyboardInterrupt\u001b[0m: Interrupted by user"
     ]
    }
   ],
   "source": [
    "int(input())"
   ]
  },
  {
   "cell_type": "code",
   "execution_count": 102,
   "id": "2e0a1a6e-4ee2-40b4-b00d-8888df843fb0",
   "metadata": {},
   "outputs": [
    {
     "name": "stdout",
     "output_type": "stream",
     "text": [
      "ggggg\n"
     ]
    }
   ],
   "source": [
    "print('ggggg')"
   ]
  },
  {
   "cell_type": "code",
   "execution_count": 103,
   "id": "1ae5772e-5496-4d68-b30e-922e906f0b79",
   "metadata": {},
   "outputs": [
    {
     "data": {
      "text/plain": [
       "['안녕', '하세요']"
      ]
     },
     "execution_count": 103,
     "metadata": {},
     "output_type": "execute_result"
    }
   ],
   "source": [
    "'안녕 하세요'.split()"
   ]
  },
  {
   "cell_type": "code",
   "execution_count": 106,
   "id": "9d2e1dd4-f504-45e2-8269-172a5b56465a",
   "metadata": {},
   "outputs": [
    {
     "data": {
      "text/plain": [
       "['안녕', '하세요']"
      ]
     },
     "execution_count": 106,
     "metadata": {},
     "output_type": "execute_result"
    }
   ],
   "source": [
    "a = '안녕 하세요'\n",
    "a.split()"
   ]
  },
  {
   "cell_type": "code",
   "execution_count": 105,
   "id": "de83d698-5644-4541-8089-a5066aca58fd",
   "metadata": {},
   "outputs": [
    {
     "name": "stdin",
     "output_type": "stream",
     "text": [
      " 안녕 하세요 오늘 정말 날씨가 좋아요\n"
     ]
    },
    {
     "data": {
      "text/plain": [
       "['안녕', '하세요', '오늘', '정말', '날씨가', '좋아요']"
      ]
     },
     "execution_count": 105,
     "metadata": {},
     "output_type": "execute_result"
    }
   ],
   "source": [
    " input().split()"
   ]
  },
  {
   "cell_type": "code",
   "execution_count": 107,
   "id": "7e6ddb1f-c106-43b2-b64e-0386ef23025e",
   "metadata": {},
   "outputs": [
    {
     "name": "stdout",
     "output_type": "stream",
     "text": [
      "\n"
     ]
    }
   ],
   "source": [
    "print()"
   ]
  },
  {
   "cell_type": "code",
   "execution_count": 108,
   "id": "d2f68875-2839-4fe0-8ef4-6f5f9cb2f2e4",
   "metadata": {},
   "outputs": [
    {
     "name": "stdout",
     "output_type": "stream",
     "text": [
      "a b c\n"
     ]
    }
   ],
   "source": [
    "print('a','b','c')"
   ]
  },
  {
   "cell_type": "code",
   "execution_count": 109,
   "id": "83fbdc06-d550-4633-aa89-86d836d617e5",
   "metadata": {},
   "outputs": [
    {
     "name": "stdout",
     "output_type": "stream",
     "text": [
      "a,b,c"
     ]
    }
   ],
   "source": [
    "print('a','b','c',sep=',',end='')"
   ]
  },
  {
   "cell_type": "code",
   "execution_count": 110,
   "id": "ff3a7417-b8b3-43f4-a0d1-1e94b91f8ae9",
   "metadata": {},
   "outputs": [
    {
     "name": "stdout",
     "output_type": "stream",
     "text": [
      "a,b,cddd\n"
     ]
    }
   ],
   "source": [
    "print('a','b','c',sep=',',end='')\n",
    "print('ddd')"
   ]
  },
  {
   "cell_type": "code",
   "execution_count": 111,
   "id": "2a3038c0-06a2-4a4a-9215-271ea37790cd",
   "metadata": {},
   "outputs": [
    {
     "data": {
      "text/plain": [
       "(True, False)"
      ]
     },
     "execution_count": 111,
     "metadata": {},
     "output_type": "execute_result"
    }
   ],
   "source": [
    "True,False"
   ]
  },
  {
   "cell_type": "raw",
   "id": "46188a7c-fb1d-43f1-be4f-23b29a91f8bf",
   "metadata": {},
   "source": [
    "!=,==,>=,<=,>,<"
   ]
  },
  {
   "cell_type": "code",
   "execution_count": 115,
   "id": "4ec234f2-ec20-4468-a261-df34d132627f",
   "metadata": {},
   "outputs": [
    {
     "data": {
      "text/plain": [
       "True"
      ]
     },
     "execution_count": 115,
     "metadata": {},
     "output_type": "execute_result"
    }
   ],
   "source": [
    "a = 1\n",
    "b = 1.0\n",
    "a == b"
   ]
  },
  {
   "cell_type": "code",
   "execution_count": 116,
   "id": "ecdf80fa-5937-4187-8b03-0909a35e383d",
   "metadata": {},
   "outputs": [
    {
     "data": {
      "text/plain": [
       "False"
      ]
     },
     "execution_count": 116,
     "metadata": {},
     "output_type": "execute_result"
    }
   ],
   "source": [
    "a is b"
   ]
  },
  {
   "cell_type": "code",
   "execution_count": 117,
   "id": "4ea08c4c-ef54-4044-a192-00bf1907e63a",
   "metadata": {},
   "outputs": [
    {
     "data": {
      "text/plain": [
       "True"
      ]
     },
     "execution_count": 117,
     "metadata": {},
     "output_type": "execute_result"
    }
   ],
   "source": [
    "a = 1\n",
    "b = 1\n",
    "a == b"
   ]
  },
  {
   "cell_type": "code",
   "execution_count": 118,
   "id": "dbba3035-1a97-499d-b89c-20be7ebfbf49",
   "metadata": {},
   "outputs": [
    {
     "data": {
      "text/plain": [
       "True"
      ]
     },
     "execution_count": 118,
     "metadata": {},
     "output_type": "execute_result"
    }
   ],
   "source": [
    "a is b"
   ]
  },
  {
   "cell_type": "code",
   "execution_count": 120,
   "id": "0eecbd51-73a2-4f96-8486-97d83ce1fde1",
   "metadata": {},
   "outputs": [
    {
     "data": {
      "text/plain": [
       "'교실에서 \"안녕!\"이라고 인사하기'"
      ]
     },
     "execution_count": 120,
     "metadata": {},
     "output_type": "execute_result"
    }
   ],
   "source": [
    "'교실에서 \"안녕!\"이라고 인사하기'"
   ]
  },
  {
   "cell_type": "code",
   "execution_count": 126,
   "id": "0797cbca-396a-4e8f-ad79-27627ba29d2f",
   "metadata": {},
   "outputs": [
    {
     "ename": "SyntaxError",
     "evalue": "invalid syntax (Temp/ipykernel_5524/1770545712.py, line 1)",
     "output_type": "error",
     "traceback": [
      "\u001b[1;36m  File \u001b[1;32m\"C:\\Users\\Admin\\AppData\\Local\\Temp/ipykernel_5524/1770545712.py\"\u001b[1;36m, line \u001b[1;32m1\u001b[0m\n\u001b[1;33m    '교실에서 \"안녕!'이라고 인사하기'\u001b[0m\n\u001b[1;37m               ^\u001b[0m\n\u001b[1;31mSyntaxError\u001b[0m\u001b[1;31m:\u001b[0m invalid syntax\n"
     ]
    }
   ],
   "source": [
    "'교실에서 \"안녕!'이라고 인사하기'"
   ]
  },
  {
   "cell_type": "code",
   "execution_count": 127,
   "id": "9a46ffd5-07d2-4f86-af56-a27a49e4a380",
   "metadata": {},
   "outputs": [
    {
     "data": {
      "text/plain": [
       "\"교실에서 '안녕!'이라고 인사하기\""
      ]
     },
     "execution_count": 127,
     "metadata": {},
     "output_type": "execute_result"
    }
   ],
   "source": [
    "\"교실에서 '안녕!'이라고 인사하기\""
   ]
  },
  {
   "cell_type": "code",
   "execution_count": 130,
   "id": "2069a698-b13a-433a-9688-0970ff1c3e27",
   "metadata": {},
   "outputs": [
    {
     "data": {
      "text/plain": [
       "'안녕\\n하세요\\n안녕!\\n'"
      ]
     },
     "execution_count": 130,
     "metadata": {},
     "output_type": "execute_result"
    }
   ],
   "source": [
    "'''안녕\n",
    "하세요\n",
    "안녕!\n",
    "'''"
   ]
  },
  {
   "cell_type": "code",
   "execution_count": 134,
   "id": "9094be80-2e34-4484-92d1-734cba49bd5d",
   "metadata": {},
   "outputs": [
    {
     "data": {
      "text/plain": [
       "'안녕\\n하세요\\n안녕!\\n'"
      ]
     },
     "execution_count": 134,
     "metadata": {},
     "output_type": "execute_result"
    }
   ],
   "source": [
    "\"\"\"안녕\n",
    "하세요\n",
    "안녕!\n",
    "\"\"\""
   ]
  },
  {
   "cell_type": "code",
   "execution_count": 136,
   "id": "77299a8f-58ee-42a2-b6b1-d689e82893c6",
   "metadata": {},
   "outputs": [
    {
     "data": {
      "text/plain": [
       "'아\\n니\\n'"
      ]
     },
     "execution_count": 136,
     "metadata": {},
     "output_type": "execute_result"
    }
   ],
   "source": [
    "'아\\n니\\n'"
   ]
  },
  {
   "cell_type": "code",
   "execution_count": 138,
   "id": "edc11384-ea45-4d31-ae2d-622e0e415b98",
   "metadata": {},
   "outputs": [
    {
     "data": {
      "text/plain": [
       "'i eat 3 apple.total '"
      ]
     },
     "execution_count": 138,
     "metadata": {},
     "output_type": "execute_result"
    }
   ],
   "source": [
    "'i eat {} apple.total '.format(3,6)"
   ]
  },
  {
   "cell_type": "code",
   "execution_count": 150,
   "id": "b336bc8a-334c-4de2-a11d-1bb50c6408aa",
   "metadata": {},
   "outputs": [
    {
     "data": {
      "text/plain": [
       "'i eat 3.1235 apple.total 6'"
      ]
     },
     "execution_count": 150,
     "metadata": {},
     "output_type": "execute_result"
    }
   ],
   "source": [
    "'i eat {:.4f} apple.total {}'.format(3.1234567,6)"
   ]
  },
  {
   "cell_type": "code",
   "execution_count": 149,
   "id": "58d0a3c4-0f0b-4db1-bb09-4ea9cd684914",
   "metadata": {},
   "outputs": [
    {
     "data": {
      "text/plain": [
       "'i eat 3.12       apple.total 6'"
      ]
     },
     "execution_count": 149,
     "metadata": {},
     "output_type": "execute_result"
    }
   ],
   "source": [
    "'i eat {:<10.2f} apple.total {}'.format(3.1234567,6)"
   ]
  },
  {
   "cell_type": "code",
   "execution_count": 148,
   "id": "d56a32bb-f565-4d43-82d8-b46211f3c350",
   "metadata": {},
   "outputs": [
    {
     "data": {
      "text/plain": [
       "'i eat    3.12    apple.total 6'"
      ]
     },
     "execution_count": 148,
     "metadata": {},
     "output_type": "execute_result"
    }
   ],
   "source": [
    "'i eat {:^10.2f} apple.total {}'.format(3.1234567,6)"
   ]
  },
  {
   "cell_type": "code",
   "execution_count": 147,
   "id": "b038b42d-cdb4-4737-a0ce-483eb4aa2c0e",
   "metadata": {},
   "outputs": [
    {
     "data": {
      "text/plain": [
       "'i eat       3.12 apple.total 6'"
      ]
     },
     "execution_count": 147,
     "metadata": {},
     "output_type": "execute_result"
    }
   ],
   "source": [
    "'i eat {:>10.2f} apple.total {}'.format(3.1234567,6)"
   ]
  },
  {
   "cell_type": "code",
   "execution_count": 146,
   "id": "4444193b-9b43-4da7-813c-ccc4806a2f47",
   "metadata": {},
   "outputs": [
    {
     "data": {
      "text/plain": [
       "'i eat 3.12       apple.total 6'"
      ]
     },
     "execution_count": 146,
     "metadata": {},
     "output_type": "execute_result"
    }
   ],
   "source": [
    "value = 3.1234567\n",
    "'i eat {:<10.2f} apple.total {}'.format(value,6)"
   ]
  },
  {
   "cell_type": "code",
   "execution_count": 153,
   "id": "9cdf40ad-dd20-47ec-bc2e-6cd9373b03bf",
   "metadata": {},
   "outputs": [
    {
     "data": {
      "text/plain": [
       "'i eat    3.12    apple.'"
      ]
     },
     "execution_count": 153,
     "metadata": {},
     "output_type": "execute_result"
    }
   ],
   "source": [
    "f'i eat {value:^10.2f} apple.'"
   ]
  },
  {
   "cell_type": "code",
   "execution_count": 155,
   "id": "14fe31ae-dd06-4f33-b99b-1edc1a8bd0ce",
   "metadata": {},
   "outputs": [
    {
     "data": {
      "text/plain": [
       "'i eat 321212.12  apple.total 6'"
      ]
     },
     "execution_count": 155,
     "metadata": {},
     "output_type": "execute_result"
    }
   ],
   "source": [
    "value = 321212.1234567\n",
    "'i eat {:<10.2f} apple.total {}'.format(value,6)"
   ]
  },
  {
   "cell_type": "code",
   "execution_count": 157,
   "id": "9c2e3a16-c183-43c7-95d0-8a04797be36e",
   "metadata": {},
   "outputs": [
    {
     "data": {
      "text/plain": [
       "'i eat 321,212.12 apple.'"
      ]
     },
     "execution_count": 157,
     "metadata": {},
     "output_type": "execute_result"
    }
   ],
   "source": [
    "f'i eat {value:^10,.2f} apple.'"
   ]
  },
  {
   "cell_type": "code",
   "execution_count": null,
   "id": "09475c90-9422-4f9f-aed9-b06b831a83c1",
   "metadata": {},
   "outputs": [],
   "source": []
  }
 ],
 "metadata": {
  "interpreter": {
   "hash": "2043299c89c8cd0b4d1a6f5cf4529bd58e6a4e0fe3181a25e0d328c821cdc5c5"
  },
  "kernelspec": {
   "display_name": "Python 3 (ipykernel)",
   "language": "python",
   "name": "python3"
  },
  "language_info": {
   "codemirror_mode": {
    "name": "ipython",
    "version": 3
   },
   "file_extension": ".py",
   "mimetype": "text/x-python",
   "name": "python",
   "nbconvert_exporter": "python",
   "pygments_lexer": "ipython3",
   "version": "3.9.7"
  }
 },
 "nbformat": 4,
 "nbformat_minor": 5
}
