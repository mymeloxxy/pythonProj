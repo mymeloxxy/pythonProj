{
 "cells": [
  {
   "cell_type": "raw",
   "id": "8877b446-50d6-4fcd-a5bb-8bc5542acc2b",
   "metadata": {},
   "source": [
    "quiz 02>\n",
    "로또 번호 추출기\n",
    "총 5세트의 번호를 추출합니다.\n",
    "한 세트당 번호는 6개 입니다.\n",
    "번호는 1-45 사이의 번호만 가능합니다.\n",
    "번호는 중복되면 안됩니다.\n",
    "번호를 출력시 오름차순으로 정렬해서 출력합니다.\n"
   ]
  },
  {
   "cell_type": "code",
   "execution_count": 11,
   "id": "53b5794a-55bd-4dd2-8dc7-cc1b27be51dd",
   "metadata": {},
   "outputs": [
    {
     "name": "stdout",
     "output_type": "stream",
     "text": [
      "[5, 7, 8, 21, 36, 42]\n"
     ]
    }
   ],
   "source": [
    "lotto = [0,0,0,0,0,0]\n",
    "for x in range(6):\n",
    "    num = 0\n",
    "    while (num in lotto):\n",
    "        num = random.randint(1,45)\n",
    "    lotto[x] = num\n",
    "lotto.sort()\n",
    "print(lotto)"
   ]
  },
  {
   "cell_type": "code",
   "execution_count": 10,
   "id": "20e3476c-2d19-4460-9fb6-6d7b8e77fc90",
   "metadata": {},
   "outputs": [
    {
     "name": "stdout",
     "output_type": "stream",
     "text": [
      "[3, 9, 27, 34, 42, 45]\n",
      "[3, 11, 16, 28, 30, 35]\n",
      "[1, 14, 16, 23, 25, 33]\n",
      "[6, 12, 30, 34, 38, 41]\n",
      "[17, 21, 27, 36, 37, 39]\n"
     ]
    }
   ],
   "source": [
    "for i in range(5):\n",
    "    lotto = [0,0,0,0,0,0]\n",
    "    for x in range(6):\n",
    "        num = 0\n",
    "        while (num in lotto):\n",
    "            num = random.randint(1,45)\n",
    "        lotto[x] = num\n",
    "    lotto.sort()\n",
    "    print(lotto)"
   ]
  },
  {
   "cell_type": "code",
   "execution_count": 12,
   "id": "fe11e008-1be1-40ef-a030-964d5d2a666e",
   "metadata": {},
   "outputs": [
    {
     "name": "stdout",
     "output_type": "stream",
     "text": [
      "[1, 4, 11, 15, 25, 33]\n",
      "[4, 12, 32, 37, 39, 45]\n",
      "[2, 28, 34, 37, 42, 44]\n",
      "[9, 21, 29, 35, 36, 38]\n",
      "[3, 13, 14, 19, 28, 33]\n"
     ]
    }
   ],
   "source": [
    "import random\n",
    "for i in range(5):\n",
    "    lotto = [0,0,0,0,0,0]\n",
    "    for x in range(6):\n",
    "        num = 0\n",
    "        while (num in lotto):\n",
    "            num = random.randint(1,45)\n",
    "        lotto[x] = num\n",
    "    lotto.sort()\n",
    "    print(lotto)"
   ]
  },
  {
   "cell_type": "code",
   "execution_count": 17,
   "id": "db9bb8c3-31db-4a41-b1ad-76873f37c1dd",
   "metadata": {},
   "outputs": [
    {
     "name": "stdout",
     "output_type": "stream",
     "text": [
      "[1, 30, 40, 26, 24, 33]\n",
      "[25, 11, 1, 19, 36, 33]\n",
      "[32, 42, 33, 11, 15, 40]\n",
      "[23, 1, 19, 34, 20, 36]\n",
      "[24, 6, 10, 3, 7, 23]\n",
      "[23, 44, 33, 12, 5, 17]\n"
     ]
    }
   ],
   "source": [
    "for i in range(6):\n",
    "    print(random.sample(range(1,46),6))"
   ]
  },
  {
   "cell_type": "code",
   "execution_count": 20,
   "id": "c0906fb9-36ad-45b3-9634-a5d6a177c3f8",
   "metadata": {},
   "outputs": [
    {
     "name": "stdout",
     "output_type": "stream",
     "text": [
      "[3, 6, 18, 28, 33, 37]\n",
      "[5, 8, 32, 33, 35, 38]\n",
      "[18, 19, 23, 32, 35, 43]\n",
      "[2, 14, 16, 26, 29, 43]\n",
      "[2, 6, 9, 23, 31, 45]\n",
      "[6, 9, 10, 19, 22, 28]\n"
     ]
    }
   ],
   "source": [
    "for i in range(6):\n",
    "    lotto = random.sample(range(1,46),6)\n",
    "    lotto.sort()\n",
    "    print(lotto)"
   ]
  },
  {
   "cell_type": "code",
   "execution_count": null,
   "id": "20c628cf-d306-4c10-a8a0-68cd1b6c380d",
   "metadata": {},
   "outputs": [],
   "source": []
  }
 ],
 "metadata": {
  "kernelspec": {
   "display_name": "Python 3 (ipykernel)",
   "language": "python",
   "name": "python3"
  },
  "language_info": {
   "codemirror_mode": {
    "name": "ipython",
    "version": 3
   },
   "file_extension": ".py",
   "mimetype": "text/x-python",
   "name": "python",
   "nbconvert_exporter": "python",
   "pygments_lexer": "ipython3",
   "version": "3.9.7"
  }
 },
 "nbformat": 4,
 "nbformat_minor": 5
}
