{
 "cells": [
  {
   "cell_type": "code",
   "execution_count": 1,
   "id": "22420c66-4caa-4634-bc77-565672889d04",
   "metadata": {},
   "outputs": [],
   "source": [
    "a = 'hello'"
   ]
  },
  {
   "cell_type": "code",
   "execution_count": 2,
   "id": "a04c9075-4527-430c-80a9-c68d4963b5e4",
   "metadata": {},
   "outputs": [
    {
     "data": {
      "text/plain": [
       "str"
      ]
     },
     "execution_count": 2,
     "metadata": {},
     "output_type": "execute_result"
    }
   ],
   "source": [
    "type(a)"
   ]
  },
  {
   "cell_type": "code",
   "execution_count": 3,
   "id": "4db2653d-1d95-4f2f-afef-51e205ae913c",
   "metadata": {},
   "outputs": [
    {
     "data": {
      "text/plain": [
       "['hello']"
      ]
     },
     "execution_count": 3,
     "metadata": {},
     "output_type": "execute_result"
    }
   ],
   "source": [
    "a.split()"
   ]
  },
  {
   "cell_type": "code",
   "execution_count": 4,
   "id": "b3eb4098-e1f8-464f-af60-e544e2563d7a",
   "metadata": {},
   "outputs": [],
   "source": [
    "a = 'h e l l o'"
   ]
  },
  {
   "cell_type": "code",
   "execution_count": 6,
   "id": "effbc67c-8011-4cbe-921e-ac2d24eaaab9",
   "metadata": {},
   "outputs": [
    {
     "data": {
      "text/plain": [
       "['h', 'e', 'l', 'l', 'o']"
      ]
     },
     "execution_count": 6,
     "metadata": {},
     "output_type": "execute_result"
    }
   ],
   "source": [
    "a.split()"
   ]
  },
  {
   "cell_type": "code",
   "execution_count": 12,
   "id": "782d0cb8-4a85-487d-bb87-2280963df737",
   "metadata": {},
   "outputs": [],
   "source": [
    "a = 'hello,hi,hi'"
   ]
  },
  {
   "cell_type": "code",
   "execution_count": 13,
   "id": "83add0b2-aeaa-41e6-ad77-46ee58d12406",
   "metadata": {},
   "outputs": [
    {
     "data": {
      "text/plain": [
       "['hello', 'hi', 'hi']"
      ]
     },
     "execution_count": 13,
     "metadata": {},
     "output_type": "execute_result"
    }
   ],
   "source": [
    "a.split(sep=',')"
   ]
  },
  {
   "cell_type": "code",
   "execution_count": 16,
   "id": "b844bb4a-600b-4c81-bd37-2af9a9cf4108",
   "metadata": {},
   "outputs": [],
   "source": [
    "b = a.split(sep=',')"
   ]
  },
  {
   "cell_type": "code",
   "execution_count": 17,
   "id": "3a470db9-21ce-4aef-b9f4-827e312f1693",
   "metadata": {},
   "outputs": [
    {
     "data": {
      "text/plain": [
       "'hello, hi, hi'"
      ]
     },
     "execution_count": 17,
     "metadata": {},
     "output_type": "execute_result"
    }
   ],
   "source": [
    "', '.join(b)"
   ]
  },
  {
   "cell_type": "code",
   "execution_count": 19,
   "id": "894b2077-b26c-4859-8382-82cbadb46aa0",
   "metadata": {},
   "outputs": [
    {
     "data": {
      "text/plain": [
       "'hello,hi,hi'"
      ]
     },
     "execution_count": 19,
     "metadata": {},
     "output_type": "execute_result"
    }
   ],
   "source": [
    "a"
   ]
  },
  {
   "cell_type": "code",
   "execution_count": 21,
   "id": "f06ed04d-ddf3-4a71-89d1-a6acd8441f13",
   "metadata": {},
   "outputs": [
    {
     "data": {
      "text/plain": [
       "'HELLO,HI,HI'"
      ]
     },
     "execution_count": 21,
     "metadata": {},
     "output_type": "execute_result"
    }
   ],
   "source": [
    "a.upper()"
   ]
  },
  {
   "cell_type": "code",
   "execution_count": 22,
   "id": "99f892c8-0809-41b1-a177-9dc7aad5c3f9",
   "metadata": {},
   "outputs": [
    {
     "data": {
      "text/plain": [
       "'hello,hi,hi'"
      ]
     },
     "execution_count": 22,
     "metadata": {},
     "output_type": "execute_result"
    }
   ],
   "source": [
    "a"
   ]
  },
  {
   "cell_type": "code",
   "execution_count": 24,
   "id": "cf340336-368e-4036-8a0d-05232698c3b7",
   "metadata": {},
   "outputs": [],
   "source": [
    "a1 = a.upper()"
   ]
  },
  {
   "cell_type": "code",
   "execution_count": 26,
   "id": "b75cc750-aade-48da-9ae6-dc6da0d9c341",
   "metadata": {},
   "outputs": [
    {
     "data": {
      "text/plain": [
       "'HELLO,HI,HI'"
      ]
     },
     "execution_count": 26,
     "metadata": {},
     "output_type": "execute_result"
    }
   ],
   "source": [
    "a1"
   ]
  },
  {
   "cell_type": "code",
   "execution_count": 29,
   "id": "5787d41a-f8f2-4bf1-bd31-4f95e019ca24",
   "metadata": {},
   "outputs": [
    {
     "data": {
      "text/plain": [
       "'hello,hi,hi'"
      ]
     },
     "execution_count": 29,
     "metadata": {},
     "output_type": "execute_result"
    }
   ],
   "source": [
    "a1.lower()"
   ]
  },
  {
   "cell_type": "code",
   "execution_count": 31,
   "id": "69f6b41c-f9b0-4c11-91d4-767b547557f4",
   "metadata": {},
   "outputs": [
    {
     "data": {
      "text/plain": [
       "'Hello,hi,hi'"
      ]
     },
     "execution_count": 31,
     "metadata": {},
     "output_type": "execute_result"
    }
   ],
   "source": [
    "a1.capitalize()"
   ]
  },
  {
   "cell_type": "code",
   "execution_count": 32,
   "id": "d7243f39-567f-4666-b72c-510784316c1c",
   "metadata": {},
   "outputs": [],
   "source": [
    "a = ' hi '"
   ]
  },
  {
   "cell_type": "code",
   "execution_count": 33,
   "id": "31366154-40c7-4125-84ea-820bde580df0",
   "metadata": {},
   "outputs": [
    {
     "data": {
      "text/plain": [
       "' hi '"
      ]
     },
     "execution_count": 33,
     "metadata": {},
     "output_type": "execute_result"
    }
   ],
   "source": [
    "a"
   ]
  },
  {
   "cell_type": "code",
   "execution_count": 35,
   "id": "a8b3d5f4-ed4f-4af7-9644-28a6855210ca",
   "metadata": {},
   "outputs": [
    {
     "data": {
      "text/plain": [
       "'hi'"
      ]
     },
     "execution_count": 35,
     "metadata": {},
     "output_type": "execute_result"
    }
   ],
   "source": [
    "a.strip()"
   ]
  },
  {
   "cell_type": "code",
   "execution_count": 36,
   "id": "0cf3d064-f680-4f31-8f2b-e68911392321",
   "metadata": {},
   "outputs": [
    {
     "data": {
      "text/plain": [
       "'hi '"
      ]
     },
     "execution_count": 36,
     "metadata": {},
     "output_type": "execute_result"
    }
   ],
   "source": [
    "a.lstrip()"
   ]
  },
  {
   "cell_type": "code",
   "execution_count": 37,
   "id": "a14a59c1-b364-45a6-935e-d5001ce34553",
   "metadata": {},
   "outputs": [
    {
     "data": {
      "text/plain": [
       "' hi'"
      ]
     },
     "execution_count": 37,
     "metadata": {},
     "output_type": "execute_result"
    }
   ],
   "source": [
    "a.rstrip()"
   ]
  },
  {
   "cell_type": "code",
   "execution_count": 39,
   "id": "ada3fda2-c804-476d-b2dc-e6ffbabad787",
   "metadata": {},
   "outputs": [],
   "source": [
    "a = 'Life is too short'"
   ]
  },
  {
   "cell_type": "code",
   "execution_count": 40,
   "id": "a9b4adc1-7573-400d-8e40-13679597ca10",
   "metadata": {},
   "outputs": [
    {
     "data": {
      "text/plain": [
       "'Life is  short'"
      ]
     },
     "execution_count": 40,
     "metadata": {},
     "output_type": "execute_result"
    }
   ],
   "source": [
    "a.replace('too','')"
   ]
  },
  {
   "cell_type": "code",
   "execution_count": 45,
   "id": "39e28c29-55ac-4cc5-a729-5af4146d165d",
   "metadata": {},
   "outputs": [],
   "source": [
    "# 리스트 자료형,튜플자료형=>순서ㅇ,인덱스가됨 그래서 인덱싱도 되고 슬라이싱도 됨"
   ]
  },
  {
   "cell_type": "code",
   "execution_count": 183,
   "id": "617e54cc-9a25-4be8-a4ce-7668e11b0dd3",
   "metadata": {},
   "outputs": [],
   "source": [
    "# 딕셔너리 자료형, 집합자료형=>순서x=>구분이 안되니 key값으로 구분,정수는 가능하지만 실수는 소수이하값 맞추기 힘드니 key로 쓸수없고 문자열로는 사용가능"
   ]
  },
  {
   "cell_type": "code",
   "execution_count": 48,
   "id": "8286a311-c666-4289-811f-f9e041db6c62",
   "metadata": {},
   "outputs": [],
   "source": [
    "e = [1, 2, ['Life', 'is']]"
   ]
  },
  {
   "cell_type": "code",
   "execution_count": 49,
   "id": "a161e07f-7f4d-4162-96f7-cd4542759735",
   "metadata": {},
   "outputs": [
    {
     "data": {
      "text/plain": [
       "list"
      ]
     },
     "execution_count": 49,
     "metadata": {},
     "output_type": "execute_result"
    }
   ],
   "source": [
    "type(e)"
   ]
  },
  {
   "cell_type": "code",
   "execution_count": 51,
   "id": "0a07657d-a63b-4d73-8cca-cf42dac951c5",
   "metadata": {},
   "outputs": [
    {
     "data": {
      "text/plain": [
       "'Life'"
      ]
     },
     "execution_count": 51,
     "metadata": {},
     "output_type": "execute_result"
    }
   ],
   "source": [
    "e[2][0]"
   ]
  },
  {
   "cell_type": "code",
   "execution_count": 52,
   "id": "1b049354-2277-4547-a76b-423c5ab38a56",
   "metadata": {},
   "outputs": [
    {
     "data": {
      "text/plain": [
       "'Life'"
      ]
     },
     "execution_count": 52,
     "metadata": {},
     "output_type": "execute_result"
    }
   ],
   "source": [
    "e[-1][-2]"
   ]
  },
  {
   "cell_type": "code",
   "execution_count": 53,
   "id": "21335377-3b63-4eb5-9e47-09283ad21d21",
   "metadata": {},
   "outputs": [],
   "source": [
    "a = [1,2,3]\n",
    "b = [4,5,6]"
   ]
  },
  {
   "cell_type": "code",
   "execution_count": 54,
   "id": "71460e4d-4edc-4c26-9853-ce19fc5f3f3b",
   "metadata": {},
   "outputs": [
    {
     "data": {
      "text/plain": [
       "[1, 2, 3, 4, 5, 6]"
      ]
     },
     "execution_count": 54,
     "metadata": {},
     "output_type": "execute_result"
    }
   ],
   "source": [
    "a + b"
   ]
  },
  {
   "cell_type": "code",
   "execution_count": 55,
   "id": "fe60a79f-bde6-471b-b457-c85665f74137",
   "metadata": {},
   "outputs": [
    {
     "data": {
      "text/plain": [
       "[1, 2, 3, 1, 2, 3, 1, 2, 3]"
      ]
     },
     "execution_count": 55,
     "metadata": {},
     "output_type": "execute_result"
    }
   ],
   "source": [
    "a * 3"
   ]
  },
  {
   "cell_type": "code",
   "execution_count": 59,
   "id": "96bb0d40-49bf-4a97-8554-f557ec999894",
   "metadata": {},
   "outputs": [
    {
     "data": {
      "text/plain": [
       "3"
      ]
     },
     "execution_count": 59,
     "metadata": {},
     "output_type": "execute_result"
    }
   ],
   "source": [
    "len(a)"
   ]
  },
  {
   "cell_type": "code",
   "execution_count": 69,
   "id": "140da808-dffb-404d-a090-6dbadb84dcbc",
   "metadata": {},
   "outputs": [],
   "source": [
    "a = [1,2,3,[2,3,4]]\n",
    "b = [4,5,6]"
   ]
  },
  {
   "cell_type": "code",
   "execution_count": 66,
   "id": "287a120e-31d3-421e-bb11-2fe9256fc2d9",
   "metadata": {},
   "outputs": [
    {
     "data": {
      "text/plain": [
       "[1, 2, 3, [2, 3, 4], 4, 5, 6]"
      ]
     },
     "execution_count": 66,
     "metadata": {},
     "output_type": "execute_result"
    }
   ],
   "source": [
    "a + b"
   ]
  },
  {
   "cell_type": "code",
   "execution_count": 67,
   "id": "299e8e89-e2f7-4944-81b5-d967be0f5b34",
   "metadata": {},
   "outputs": [
    {
     "data": {
      "text/plain": [
       "[1, 2, 3, [2, 3, 4], 1, 2, 3, [2, 3, 4], 1, 2, 3, [2, 3, 4]]"
      ]
     },
     "execution_count": 67,
     "metadata": {},
     "output_type": "execute_result"
    }
   ],
   "source": [
    "a * 3"
   ]
  },
  {
   "cell_type": "code",
   "execution_count": 71,
   "id": "5263364e-3e02-46e9-a5d4-2b84e194c6f8",
   "metadata": {},
   "outputs": [
    {
     "data": {
      "text/plain": [
       "4"
      ]
     },
     "execution_count": 71,
     "metadata": {},
     "output_type": "execute_result"
    }
   ],
   "source": [
    "len(a)"
   ]
  },
  {
   "cell_type": "code",
   "execution_count": 81,
   "id": "00714574-6254-43fc-916a-b54bc548e56a",
   "metadata": {},
   "outputs": [],
   "source": [
    "a = [1,2,3]\n",
    "a[2]=4"
   ]
  },
  {
   "cell_type": "code",
   "execution_count": 82,
   "id": "0471bdcc-425e-4893-be93-d301de7e4d3c",
   "metadata": {},
   "outputs": [
    {
     "data": {
      "text/plain": [
       "[1, 2, 4]"
      ]
     },
     "execution_count": 82,
     "metadata": {},
     "output_type": "execute_result"
    }
   ],
   "source": [
    "a"
   ]
  },
  {
   "cell_type": "code",
   "execution_count": 83,
   "id": "cae3e046-2c5a-4bc0-b690-149bc79624e8",
   "metadata": {},
   "outputs": [],
   "source": [
    "del a[0]"
   ]
  },
  {
   "cell_type": "code",
   "execution_count": 84,
   "id": "2d4dcf12-8f9f-4c00-aba4-7a8564d1a2f6",
   "metadata": {},
   "outputs": [
    {
     "data": {
      "text/plain": [
       "[2, 4]"
      ]
     },
     "execution_count": 84,
     "metadata": {},
     "output_type": "execute_result"
    }
   ],
   "source": [
    "a"
   ]
  },
  {
   "cell_type": "code",
   "execution_count": 106,
   "id": "57a15c35-2bbf-4a4c-becf-c54a72aa3af4",
   "metadata": {},
   "outputs": [],
   "source": [
    "a = [1,2,3]\n",
    "a.append(4)"
   ]
  },
  {
   "cell_type": "code",
   "execution_count": 107,
   "id": "340c793b-cc1f-4122-ac55-34248dae3cc3",
   "metadata": {},
   "outputs": [
    {
     "data": {
      "text/plain": [
       "[1, 2, 3, 4]"
      ]
     },
     "execution_count": 107,
     "metadata": {},
     "output_type": "execute_result"
    }
   ],
   "source": [
    "a"
   ]
  },
  {
   "cell_type": "code",
   "execution_count": 94,
   "id": "bc3f17a7-e0c8-4fd4-a14a-73bfec822915",
   "metadata": {},
   "outputs": [],
   "source": [
    "# append는 데이터를 마지막에 추가할 때 사용"
   ]
  },
  {
   "cell_type": "code",
   "execution_count": 108,
   "id": "cfb78b80-5370-4190-9fce-b813e61bf950",
   "metadata": {},
   "outputs": [],
   "source": [
    "a.append([5,6])"
   ]
  },
  {
   "cell_type": "code",
   "execution_count": 109,
   "id": "18eaaae6-96a7-4054-ae34-2804de01803c",
   "metadata": {},
   "outputs": [
    {
     "data": {
      "text/plain": [
       "[1, 2, 3, 4, [5, 6]]"
      ]
     },
     "execution_count": 109,
     "metadata": {},
     "output_type": "execute_result"
    }
   ],
   "source": [
    "a"
   ]
  },
  {
   "cell_type": "code",
   "execution_count": 110,
   "id": "60f99190-9807-43dd-b72a-b2ef91cc2edf",
   "metadata": {},
   "outputs": [],
   "source": [
    "a.extend([7,8])"
   ]
  },
  {
   "cell_type": "code",
   "execution_count": 111,
   "id": "4088113c-ac8a-4f83-bc0b-c528bda56cce",
   "metadata": {},
   "outputs": [
    {
     "data": {
      "text/plain": [
       "[1, 2, 3, 4, [5, 6], 7, 8]"
      ]
     },
     "execution_count": 111,
     "metadata": {},
     "output_type": "execute_result"
    }
   ],
   "source": [
    "a"
   ]
  },
  {
   "cell_type": "code",
   "execution_count": 122,
   "id": "9f68d8ec-f780-4e46-bc0e-0d49e6296ab4",
   "metadata": {},
   "outputs": [],
   "source": [
    "#sorted(), only리스트에서만 사용"
   ]
  },
  {
   "cell_type": "code",
   "execution_count": 115,
   "id": "a07f4196-72c2-43aa-b9f5-fdc5dc73e252",
   "metadata": {},
   "outputs": [
    {
     "ename": "TypeError",
     "evalue": "'<' not supported between instances of 'list' and 'int'",
     "output_type": "error",
     "traceback": [
      "\u001b[1;31m---------------------------------------------------------------------------\u001b[0m",
      "\u001b[1;31mTypeError\u001b[0m                                 Traceback (most recent call last)",
      "\u001b[1;32m~\\AppData\\Local\\Temp/ipykernel_10252/2629139315.py\u001b[0m in \u001b[0;36m<module>\u001b[1;34m\u001b[0m\n\u001b[1;32m----> 1\u001b[1;33m \u001b[0ma\u001b[0m\u001b[1;33m.\u001b[0m\u001b[0msort\u001b[0m\u001b[1;33m(\u001b[0m\u001b[1;33m)\u001b[0m\u001b[1;33m\u001b[0m\u001b[1;33m\u001b[0m\u001b[0m\n\u001b[0m",
      "\u001b[1;31mTypeError\u001b[0m: '<' not supported between instances of 'list' and 'int'"
     ]
    }
   ],
   "source": [
    "a.sort()"
   ]
  },
  {
   "cell_type": "code",
   "execution_count": 116,
   "id": "559c3e11-9545-4f70-b3e4-e2534eb48437",
   "metadata": {},
   "outputs": [],
   "source": [
    "a = [4,6,2,8,1,3]"
   ]
  },
  {
   "cell_type": "code",
   "execution_count": 117,
   "id": "22e14ad7-b959-4fa2-b824-4f82ff292291",
   "metadata": {},
   "outputs": [],
   "source": [
    "a.sort()"
   ]
  },
  {
   "cell_type": "code",
   "execution_count": 118,
   "id": "aa1acc11-a645-4240-924a-06fd6d3d2a92",
   "metadata": {},
   "outputs": [
    {
     "data": {
      "text/plain": [
       "[1, 2, 3, 4, 6, 8]"
      ]
     },
     "execution_count": 118,
     "metadata": {},
     "output_type": "execute_result"
    }
   ],
   "source": [
    "a"
   ]
  },
  {
   "cell_type": "code",
   "execution_count": 119,
   "id": "8683a722-bfe8-4564-83fe-5050cbf1059d",
   "metadata": {},
   "outputs": [],
   "source": [
    "a.sort(reverse=True)"
   ]
  },
  {
   "cell_type": "code",
   "execution_count": 120,
   "id": "70d001da-4df3-4634-96ce-4bcb7ca090be",
   "metadata": {},
   "outputs": [
    {
     "data": {
      "text/plain": [
       "[8, 6, 4, 3, 2, 1]"
      ]
     },
     "execution_count": 120,
     "metadata": {},
     "output_type": "execute_result"
    }
   ],
   "source": [
    "a"
   ]
  },
  {
   "cell_type": "code",
   "execution_count": 125,
   "id": "4f79e2ae-947c-4210-9d08-16548209ffa8",
   "metadata": {},
   "outputs": [],
   "source": [
    "a = [4,6,2,8,1,3]"
   ]
  },
  {
   "cell_type": "code",
   "execution_count": 126,
   "id": "7aca78ad-69dc-4543-9bfe-9c3b59420899",
   "metadata": {},
   "outputs": [],
   "source": [
    "a.reverse()"
   ]
  },
  {
   "cell_type": "code",
   "execution_count": 127,
   "id": "af9c667a-e581-41f4-9885-6ab49bac0928",
   "metadata": {},
   "outputs": [
    {
     "data": {
      "text/plain": [
       "[3, 1, 8, 2, 6, 4]"
      ]
     },
     "execution_count": 127,
     "metadata": {},
     "output_type": "execute_result"
    }
   ],
   "source": [
    "a"
   ]
  },
  {
   "cell_type": "code",
   "execution_count": 128,
   "id": "cd7773f6-1e05-45f4-8b00-5a53d275fba5",
   "metadata": {},
   "outputs": [
    {
     "data": {
      "text/plain": [
       "0"
      ]
     },
     "execution_count": 128,
     "metadata": {},
     "output_type": "execute_result"
    }
   ],
   "source": [
    "a.index(3)"
   ]
  },
  {
   "cell_type": "code",
   "execution_count": 129,
   "id": "f3135a2e-6597-4cc1-8ec5-58e6f495a463",
   "metadata": {},
   "outputs": [],
   "source": [
    "# 0은 첫번째에 있다는 뜻"
   ]
  },
  {
   "cell_type": "code",
   "execution_count": 130,
   "id": "e02850e6-dcc0-4bb5-95df-99b7dc14f261",
   "metadata": {},
   "outputs": [
    {
     "ename": "ValueError",
     "evalue": "5 is not in list",
     "output_type": "error",
     "traceback": [
      "\u001b[1;31m---------------------------------------------------------------------------\u001b[0m",
      "\u001b[1;31mValueError\u001b[0m                                Traceback (most recent call last)",
      "\u001b[1;32m~\\AppData\\Local\\Temp/ipykernel_10252/2975071546.py\u001b[0m in \u001b[0;36m<module>\u001b[1;34m\u001b[0m\n\u001b[1;32m----> 1\u001b[1;33m \u001b[0ma\u001b[0m\u001b[1;33m.\u001b[0m\u001b[0mindex\u001b[0m\u001b[1;33m(\u001b[0m\u001b[1;36m5\u001b[0m\u001b[1;33m)\u001b[0m\u001b[1;33m\u001b[0m\u001b[1;33m\u001b[0m\u001b[0m\n\u001b[0m",
      "\u001b[1;31mValueError\u001b[0m: 5 is not in list"
     ]
    }
   ],
   "source": [
    "a.index(5)"
   ]
  },
  {
   "cell_type": "code",
   "execution_count": 131,
   "id": "1ca11a8e-c118-445e-a25f-f4a38e0c08d1",
   "metadata": {},
   "outputs": [],
   "source": [
    "# 5가 없어서 오류로 뜸"
   ]
  },
  {
   "cell_type": "code",
   "execution_count": 132,
   "id": "27fe266d-50dc-4ce0-8a0f-0666e897daeb",
   "metadata": {},
   "outputs": [
    {
     "data": {
      "text/plain": [
       "[3, 1, 8, 2, 6, 4]"
      ]
     },
     "execution_count": 132,
     "metadata": {},
     "output_type": "execute_result"
    }
   ],
   "source": [
    "a"
   ]
  },
  {
   "cell_type": "code",
   "execution_count": 133,
   "id": "b0133ccb-e8ea-4e54-b648-0cf3cad76ac3",
   "metadata": {},
   "outputs": [],
   "source": [
    "a.insert(1,5)"
   ]
  },
  {
   "cell_type": "code",
   "execution_count": 135,
   "id": "a3aef552-ece1-4aee-b5ed-e26bb7a26006",
   "metadata": {},
   "outputs": [
    {
     "data": {
      "text/plain": [
       "[3, 5, 1, 8, 2, 6, 4]"
      ]
     },
     "execution_count": 135,
     "metadata": {},
     "output_type": "execute_result"
    }
   ],
   "source": [
    "a"
   ]
  },
  {
   "cell_type": "code",
   "execution_count": 136,
   "id": "45b28497-a55c-4fa3-b633-af02cc9d0cf9",
   "metadata": {},
   "outputs": [],
   "source": [
    "a = [1, 2, 3, 1, 2, 3]"
   ]
  },
  {
   "cell_type": "code",
   "execution_count": 137,
   "id": "4a153a44-df73-49cc-851b-ce052e0e8d13",
   "metadata": {},
   "outputs": [],
   "source": [
    "a.remove(3)"
   ]
  },
  {
   "cell_type": "code",
   "execution_count": 138,
   "id": "7e58e2b0-7685-4e63-8007-bdec6ff8bfbd",
   "metadata": {},
   "outputs": [
    {
     "data": {
      "text/plain": [
       "[1, 2, 1, 2, 3]"
      ]
     },
     "execution_count": 138,
     "metadata": {},
     "output_type": "execute_result"
    }
   ],
   "source": [
    "a"
   ]
  },
  {
   "cell_type": "code",
   "execution_count": 139,
   "id": "205b8753-36ff-4974-9414-aef9ce9a9c75",
   "metadata": {},
   "outputs": [],
   "source": [
    "a.remove(3)"
   ]
  },
  {
   "cell_type": "code",
   "execution_count": 140,
   "id": "b12d8ba9-067a-459e-a146-9d6a6b42f1b3",
   "metadata": {},
   "outputs": [
    {
     "data": {
      "text/plain": [
       "[1, 2, 1, 2]"
      ]
     },
     "execution_count": 140,
     "metadata": {},
     "output_type": "execute_result"
    }
   ],
   "source": [
    "a"
   ]
  },
  {
   "cell_type": "code",
   "execution_count": 141,
   "id": "108abb19-8bf0-43af-88e3-b1733424b2c9",
   "metadata": {},
   "outputs": [
    {
     "ename": "ValueError",
     "evalue": "list.remove(x): x not in list",
     "output_type": "error",
     "traceback": [
      "\u001b[1;31m---------------------------------------------------------------------------\u001b[0m",
      "\u001b[1;31mValueError\u001b[0m                                Traceback (most recent call last)",
      "\u001b[1;32m~\\AppData\\Local\\Temp/ipykernel_10252/253791346.py\u001b[0m in \u001b[0;36m<module>\u001b[1;34m\u001b[0m\n\u001b[1;32m----> 1\u001b[1;33m \u001b[0ma\u001b[0m\u001b[1;33m.\u001b[0m\u001b[0mremove\u001b[0m\u001b[1;33m(\u001b[0m\u001b[1;36m3\u001b[0m\u001b[1;33m)\u001b[0m\u001b[1;33m\u001b[0m\u001b[1;33m\u001b[0m\u001b[0m\n\u001b[0m",
      "\u001b[1;31mValueError\u001b[0m: list.remove(x): x not in list"
     ]
    }
   ],
   "source": [
    "a.remove(3)"
   ]
  },
  {
   "cell_type": "code",
   "execution_count": 142,
   "id": "41ebb0d6-dc0f-4a92-b404-8ff9b4892e1e",
   "metadata": {},
   "outputs": [],
   "source": [
    "# 3이 더이상 없어서 오류가 뜸(값이 반드시 있어야 함)"
   ]
  },
  {
   "cell_type": "code",
   "execution_count": 152,
   "id": "387a836c-e7e4-4e05-88de-ed7f59d7b175",
   "metadata": {},
   "outputs": [],
   "source": [
    "a = [1,2,3]"
   ]
  },
  {
   "cell_type": "code",
   "execution_count": 153,
   "id": "8dd2962b-06a2-4b06-a19d-de511a39cbf2",
   "metadata": {},
   "outputs": [
    {
     "data": {
      "text/plain": [
       "3"
      ]
     },
     "execution_count": 153,
     "metadata": {},
     "output_type": "execute_result"
    }
   ],
   "source": [
    "a.pop()"
   ]
  },
  {
   "cell_type": "code",
   "execution_count": 154,
   "id": "463afe82-95cd-4f5f-98bb-a7ccbbafa3f0",
   "metadata": {},
   "outputs": [
    {
     "data": {
      "text/plain": [
       "2"
      ]
     },
     "execution_count": 154,
     "metadata": {},
     "output_type": "execute_result"
    }
   ],
   "source": [
    "a.pop()"
   ]
  },
  {
   "cell_type": "code",
   "execution_count": 155,
   "id": "b8579703-8757-4e2a-b1de-b16d00e8b60f",
   "metadata": {},
   "outputs": [
    {
     "data": {
      "text/plain": [
       "[1]"
      ]
     },
     "execution_count": 155,
     "metadata": {},
     "output_type": "execute_result"
    }
   ],
   "source": [
    "a"
   ]
  },
  {
   "cell_type": "code",
   "execution_count": 156,
   "id": "60c4ecbe-5dff-4ce5-8d97-fa2ed4c54f24",
   "metadata": {},
   "outputs": [
    {
     "data": {
      "text/plain": [
       "1"
      ]
     },
     "execution_count": 156,
     "metadata": {},
     "output_type": "execute_result"
    }
   ],
   "source": [
    "a.pop()"
   ]
  },
  {
   "cell_type": "code",
   "execution_count": 157,
   "id": "91ade59e-729b-4407-a1ee-c2a1ae2932d4",
   "metadata": {},
   "outputs": [
    {
     "ename": "IndexError",
     "evalue": "pop from empty list",
     "output_type": "error",
     "traceback": [
      "\u001b[1;31m---------------------------------------------------------------------------\u001b[0m",
      "\u001b[1;31mIndexError\u001b[0m                                Traceback (most recent call last)",
      "\u001b[1;32m~\\AppData\\Local\\Temp/ipykernel_10252/3178909854.py\u001b[0m in \u001b[0;36m<module>\u001b[1;34m\u001b[0m\n\u001b[1;32m----> 1\u001b[1;33m \u001b[0ma\u001b[0m\u001b[1;33m.\u001b[0m\u001b[0mpop\u001b[0m\u001b[1;33m(\u001b[0m\u001b[1;33m)\u001b[0m\u001b[1;33m\u001b[0m\u001b[1;33m\u001b[0m\u001b[0m\n\u001b[0m",
      "\u001b[1;31mIndexError\u001b[0m: pop from empty list"
     ]
    }
   ],
   "source": [
    "a.pop()"
   ]
  },
  {
   "cell_type": "code",
   "execution_count": 158,
   "id": "032e5f5f-0bc4-4467-8ead-9139415b7bd4",
   "metadata": {},
   "outputs": [],
   "source": [
    "t4 = 1,2,3"
   ]
  },
  {
   "cell_type": "code",
   "execution_count": 159,
   "id": "f2184e7d-d2c3-48bb-b8cb-5929cf65d587",
   "metadata": {},
   "outputs": [
    {
     "data": {
      "text/plain": [
       "(1, 2, 3)"
      ]
     },
     "execution_count": 159,
     "metadata": {},
     "output_type": "execute_result"
    }
   ],
   "source": [
    "t4"
   ]
  },
  {
   "cell_type": "code",
   "execution_count": 160,
   "id": "3c996e1a-fd97-4e12-86b9-f20db9945339",
   "metadata": {},
   "outputs": [],
   "source": [
    "t1 = (1, 2, 'a', 'b')"
   ]
  },
  {
   "cell_type": "code",
   "execution_count": 161,
   "id": "bccf5840-85f6-4e8f-8fed-77f5d2770f0f",
   "metadata": {},
   "outputs": [
    {
     "ename": "TypeError",
     "evalue": "'tuple' object doesn't support item deletion",
     "output_type": "error",
     "traceback": [
      "\u001b[1;31m---------------------------------------------------------------------------\u001b[0m",
      "\u001b[1;31mTypeError\u001b[0m                                 Traceback (most recent call last)",
      "\u001b[1;32m~\\AppData\\Local\\Temp/ipykernel_10252/2661958664.py\u001b[0m in \u001b[0;36m<module>\u001b[1;34m\u001b[0m\n\u001b[1;32m----> 1\u001b[1;33m \u001b[1;32mdel\u001b[0m \u001b[0mt1\u001b[0m\u001b[1;33m[\u001b[0m\u001b[1;36m0\u001b[0m\u001b[1;33m]\u001b[0m\u001b[1;33m\u001b[0m\u001b[1;33m\u001b[0m\u001b[0m\n\u001b[0m",
      "\u001b[1;31mTypeError\u001b[0m: 'tuple' object doesn't support item deletion"
     ]
    }
   ],
   "source": [
    "del t1[0]"
   ]
  },
  {
   "cell_type": "code",
   "execution_count": 162,
   "id": "54358221-0d54-41c7-8be4-a34f1ac92425",
   "metadata": {},
   "outputs": [
    {
     "ename": "TypeError",
     "evalue": "'tuple' object does not support item assignment",
     "output_type": "error",
     "traceback": [
      "\u001b[1;31m---------------------------------------------------------------------------\u001b[0m",
      "\u001b[1;31mTypeError\u001b[0m                                 Traceback (most recent call last)",
      "\u001b[1;32m~\\AppData\\Local\\Temp/ipykernel_10252/855147871.py\u001b[0m in \u001b[0;36m<module>\u001b[1;34m\u001b[0m\n\u001b[1;32m----> 1\u001b[1;33m \u001b[0mt1\u001b[0m\u001b[1;33m[\u001b[0m\u001b[1;36m0\u001b[0m\u001b[1;33m]\u001b[0m \u001b[1;33m=\u001b[0m \u001b[1;36m4\u001b[0m\u001b[1;33m\u001b[0m\u001b[1;33m\u001b[0m\u001b[0m\n\u001b[0m",
      "\u001b[1;31mTypeError\u001b[0m: 'tuple' object does not support item assignment"
     ]
    }
   ],
   "source": [
    "t1[0] = 4"
   ]
  },
  {
   "cell_type": "code",
   "execution_count": 163,
   "id": "8c1aec46-c744-45c4-b50e-cb884a46a975",
   "metadata": {},
   "outputs": [],
   "source": [
    "del t1"
   ]
  },
  {
   "cell_type": "code",
   "execution_count": 164,
   "id": "8e934eae-93ac-4ef2-a161-21ccc1475f23",
   "metadata": {},
   "outputs": [
    {
     "ename": "NameError",
     "evalue": "name 't1' is not defined",
     "output_type": "error",
     "traceback": [
      "\u001b[1;31m---------------------------------------------------------------------------\u001b[0m",
      "\u001b[1;31mNameError\u001b[0m                                 Traceback (most recent call last)",
      "\u001b[1;32m~\\AppData\\Local\\Temp/ipykernel_10252/2524635252.py\u001b[0m in \u001b[0;36m<module>\u001b[1;34m\u001b[0m\n\u001b[1;32m----> 1\u001b[1;33m \u001b[0mt1\u001b[0m\u001b[1;33m\u001b[0m\u001b[1;33m\u001b[0m\u001b[0m\n\u001b[0m",
      "\u001b[1;31mNameError\u001b[0m: name 't1' is not defined"
     ]
    }
   ],
   "source": [
    "t1"
   ]
  },
  {
   "cell_type": "code",
   "execution_count": 165,
   "id": "68b7bc20-49b4-4c61-87ee-6f19da57e005",
   "metadata": {},
   "outputs": [],
   "source": [
    "# del t1은 가능"
   ]
  },
  {
   "cell_type": "code",
   "execution_count": 166,
   "id": "2c89deba-2f3c-45bb-88a0-f133933005d8",
   "metadata": {},
   "outputs": [],
   "source": [
    "t1 = (1, 2, 'a', 'b')"
   ]
  },
  {
   "cell_type": "code",
   "execution_count": 204,
   "id": "8b12f3a8-8fbc-4f78-8351-e0d71b10b7f6",
   "metadata": {},
   "outputs": [],
   "source": [
    "# 딕셔너리 자료형"
   ]
  },
  {
   "cell_type": "code",
   "execution_count": 175,
   "id": "2eb683c2-a8f7-41f0-b05b-944b81a5833d",
   "metadata": {},
   "outputs": [],
   "source": [
    "dic = {'name':'pey', 'phone':'0119993323', 'birth': '1118'}"
   ]
  },
  {
   "cell_type": "code",
   "execution_count": 176,
   "id": "33bc0c4d-cc67-41b4-96f2-6e585c295d62",
   "metadata": {},
   "outputs": [
    {
     "data": {
      "text/plain": [
       "'pey'"
      ]
     },
     "execution_count": 176,
     "metadata": {},
     "output_type": "execute_result"
    }
   ],
   "source": [
    "dic['name']"
   ]
  },
  {
   "cell_type": "code",
   "execution_count": 177,
   "id": "e053ef07-0972-401d-9fdc-08b4c23851bc",
   "metadata": {},
   "outputs": [],
   "source": [
    "del dic['name']"
   ]
  },
  {
   "cell_type": "code",
   "execution_count": 178,
   "id": "eee9aa34-da9b-4929-b540-51bbc0f58190",
   "metadata": {},
   "outputs": [
    {
     "data": {
      "text/plain": [
       "{'phone': '0119993323', 'birth': '1118'}"
      ]
     },
     "execution_count": 178,
     "metadata": {},
     "output_type": "execute_result"
    }
   ],
   "source": [
    "dic"
   ]
  },
  {
   "cell_type": "code",
   "execution_count": 179,
   "id": "e198bb1a-f036-4e11-827f-f4417c163d0e",
   "metadata": {},
   "outputs": [],
   "source": [
    "dic['name']='hello'"
   ]
  },
  {
   "cell_type": "code",
   "execution_count": 180,
   "id": "e198ffdf-4ee8-4522-9315-6b22f1a12241",
   "metadata": {},
   "outputs": [
    {
     "data": {
      "text/plain": [
       "{'phone': '0119993323', 'birth': '1118', 'name': 'hello'}"
      ]
     },
     "execution_count": 180,
     "metadata": {},
     "output_type": "execute_result"
    }
   ],
   "source": [
    "dic"
   ]
  },
  {
   "cell_type": "code",
   "execution_count": 181,
   "id": "0c14d754-3049-40db-9d19-4d844ef48f8d",
   "metadata": {},
   "outputs": [],
   "source": [
    "dic['name']='hello1'"
   ]
  },
  {
   "cell_type": "code",
   "execution_count": 182,
   "id": "6abee0d5-d32f-462d-87b8-c014f5ec92e5",
   "metadata": {},
   "outputs": [
    {
     "data": {
      "text/plain": [
       "{'phone': '0119993323', 'birth': '1118', 'name': 'hello1'}"
      ]
     },
     "execution_count": 182,
     "metadata": {},
     "output_type": "execute_result"
    }
   ],
   "source": [
    "dic"
   ]
  },
  {
   "cell_type": "code",
   "execution_count": 185,
   "id": "ad4407f6-003c-4239-bfa9-abda10cb9492",
   "metadata": {},
   "outputs": [],
   "source": [
    "dic[(1,2)]=[2,3,4,5]"
   ]
  },
  {
   "cell_type": "code",
   "execution_count": 186,
   "id": "e25e6441-41ce-4fb9-a2b1-7adb2d098a50",
   "metadata": {},
   "outputs": [
    {
     "data": {
      "text/plain": [
       "{'phone': '0119993323',\n",
       " 'birth': '1118',\n",
       " 'name': 'hello1',\n",
       " (1, 2): [2, 3, 4, 5]}"
      ]
     },
     "execution_count": 186,
     "metadata": {},
     "output_type": "execute_result"
    }
   ],
   "source": [
    "dic"
   ]
  },
  {
   "cell_type": "code",
   "execution_count": 187,
   "id": "a6f59393-624b-4494-8827-f04390f430a9",
   "metadata": {},
   "outputs": [
    {
     "data": {
      "text/plain": [
       "dict_keys(['phone', 'birth', 'name', (1, 2)])"
      ]
     },
     "execution_count": 187,
     "metadata": {},
     "output_type": "execute_result"
    }
   ],
   "source": [
    "dic.keys()"
   ]
  },
  {
   "cell_type": "code",
   "execution_count": 188,
   "id": "3baf86a7-59eb-4669-8167-ab9f98fee86d",
   "metadata": {},
   "outputs": [
    {
     "name": "stdout",
     "output_type": "stream",
     "text": [
      "0119993323\n",
      "1118\n",
      "hello1\n",
      "[2, 3, 4, 5]\n"
     ]
    }
   ],
   "source": [
    "for x in dic.keys():\n",
    "    print(dic[x])"
   ]
  },
  {
   "cell_type": "code",
   "execution_count": 190,
   "id": "7967029a-0db2-47fd-96f7-01420641a74d",
   "metadata": {},
   "outputs": [
    {
     "data": {
      "text/plain": [
       "dict_values(['0119993323', '1118', 'hello1', [2, 3, 4, 5]])"
      ]
     },
     "execution_count": 190,
     "metadata": {},
     "output_type": "execute_result"
    }
   ],
   "source": [
    "dic.values()"
   ]
  },
  {
   "cell_type": "code",
   "execution_count": 191,
   "id": "23024c53-7a38-4cbe-a184-6456cd9b16a3",
   "metadata": {},
   "outputs": [
    {
     "data": {
      "text/plain": [
       "dict_items([('phone', '0119993323'), ('birth', '1118'), ('name', 'hello1'), ((1, 2), [2, 3, 4, 5])])"
      ]
     },
     "execution_count": 191,
     "metadata": {},
     "output_type": "execute_result"
    }
   ],
   "source": [
    "dic.items()"
   ]
  },
  {
   "cell_type": "code",
   "execution_count": 192,
   "id": "d007ded2-f5e1-4e4a-ba2d-f4c9d125a943",
   "metadata": {},
   "outputs": [],
   "source": [
    "dic.clear()"
   ]
  },
  {
   "cell_type": "code",
   "execution_count": 193,
   "id": "239adff7-9740-4ac4-b95b-f86751d8c1e7",
   "metadata": {},
   "outputs": [
    {
     "data": {
      "text/plain": [
       "{}"
      ]
     },
     "execution_count": 193,
     "metadata": {},
     "output_type": "execute_result"
    }
   ],
   "source": [
    "dic"
   ]
  },
  {
   "cell_type": "code",
   "execution_count": 194,
   "id": "09dd152a-7caa-415c-908a-1241164a6247",
   "metadata": {},
   "outputs": [],
   "source": [
    "dic = {'name':'pey', 'phone':'0119993323', 'birth': '1118'}"
   ]
  },
  {
   "cell_type": "code",
   "execution_count": 195,
   "id": "27165ee6-eace-4ef0-ae3c-980b76da9e74",
   "metadata": {},
   "outputs": [
    {
     "data": {
      "text/plain": [
       "'pey'"
      ]
     },
     "execution_count": 195,
     "metadata": {},
     "output_type": "execute_result"
    }
   ],
   "source": [
    "dic['name']"
   ]
  },
  {
   "cell_type": "code",
   "execution_count": 196,
   "id": "09091085-b9a9-4b4f-addb-9610f729f98c",
   "metadata": {},
   "outputs": [
    {
     "ename": "KeyError",
     "evalue": "'name1'",
     "output_type": "error",
     "traceback": [
      "\u001b[1;31m---------------------------------------------------------------------------\u001b[0m",
      "\u001b[1;31mKeyError\u001b[0m                                  Traceback (most recent call last)",
      "\u001b[1;32m~\\AppData\\Local\\Temp/ipykernel_10252/494958058.py\u001b[0m in \u001b[0;36m<module>\u001b[1;34m\u001b[0m\n\u001b[1;32m----> 1\u001b[1;33m \u001b[0mdic\u001b[0m\u001b[1;33m[\u001b[0m\u001b[1;34m'name1'\u001b[0m\u001b[1;33m]\u001b[0m\u001b[1;33m\u001b[0m\u001b[1;33m\u001b[0m\u001b[0m\n\u001b[0m",
      "\u001b[1;31mKeyError\u001b[0m: 'name1'"
     ]
    }
   ],
   "source": [
    "dic['name1']"
   ]
  },
  {
   "cell_type": "code",
   "execution_count": 198,
   "id": "57e88add-30e8-4b59-ada1-53c70d3322bb",
   "metadata": {},
   "outputs": [],
   "source": [
    "dic.get('name1')"
   ]
  },
  {
   "cell_type": "code",
   "execution_count": 199,
   "id": "5b78eaf6-4b3b-41e7-a912-e48977c9c8c7",
   "metadata": {},
   "outputs": [
    {
     "data": {
      "text/plain": [
       "'pey'"
      ]
     },
     "execution_count": 199,
     "metadata": {},
     "output_type": "execute_result"
    }
   ],
   "source": [
    "dic.get('name')"
   ]
  },
  {
   "cell_type": "code",
   "execution_count": 200,
   "id": "85768131-cb2a-4282-86e0-4f5a655c4968",
   "metadata": {},
   "outputs": [
    {
     "data": {
      "text/plain": [
       "{'name': 'pey', 'phone': '0119993323', 'birth': '1118'}"
      ]
     },
     "execution_count": 200,
     "metadata": {},
     "output_type": "execute_result"
    }
   ],
   "source": [
    "dic"
   ]
  },
  {
   "cell_type": "code",
   "execution_count": 201,
   "id": "1447714b-2679-4d96-a17e-5a12b37cfaf7",
   "metadata": {},
   "outputs": [
    {
     "data": {
      "text/plain": [
       "True"
      ]
     },
     "execution_count": 201,
     "metadata": {},
     "output_type": "execute_result"
    }
   ],
   "source": [
    "'name' in dic"
   ]
  },
  {
   "cell_type": "code",
   "execution_count": 202,
   "id": "101277fb-e63e-43c4-8820-9fc66af4bfa0",
   "metadata": {},
   "outputs": [
    {
     "data": {
      "text/plain": [
       "True"
      ]
     },
     "execution_count": 202,
     "metadata": {},
     "output_type": "execute_result"
    }
   ],
   "source": [
    "'pey' in dic.values()"
   ]
  },
  {
   "cell_type": "code",
   "execution_count": 203,
   "id": "479c7797-2930-4855-b0e8-d082b442d69c",
   "metadata": {},
   "outputs": [],
   "source": [
    "# 집합자료형"
   ]
  },
  {
   "cell_type": "code",
   "execution_count": 206,
   "id": "ebc3bd82-f305-45d3-a1a7-c0d45845ebd8",
   "metadata": {},
   "outputs": [],
   "source": [
    "a = [1,2,3,4,2,3,4,5]"
   ]
  },
  {
   "cell_type": "code",
   "execution_count": 208,
   "id": "20b8f8fe-a6c7-41de-902e-8ca6c6f07146",
   "metadata": {},
   "outputs": [],
   "source": [
    "s1 = set(a)"
   ]
  },
  {
   "cell_type": "code",
   "execution_count": 209,
   "id": "da99a5c7-8145-4753-aa0b-d4183ab4e314",
   "metadata": {},
   "outputs": [
    {
     "data": {
      "text/plain": [
       "{1, 2, 3, 4, 5}"
      ]
     },
     "execution_count": 209,
     "metadata": {},
     "output_type": "execute_result"
    }
   ],
   "source": [
    "s1"
   ]
  },
  {
   "cell_type": "code",
   "execution_count": 210,
   "id": "33640cdc-4316-44e9-9a20-2c841bc0c3c1",
   "metadata": {},
   "outputs": [],
   "source": [
    "# 집합자료형은 중복허용하지 않고 순서가 없다"
   ]
  },
  {
   "cell_type": "code",
   "execution_count": 214,
   "id": "e98c32b8-1090-4efc-9c51-551f19034403",
   "metadata": {},
   "outputs": [],
   "source": [
    "# 불자료형-대문자로 시작"
   ]
  },
  {
   "cell_type": "code",
   "execution_count": 216,
   "id": "6cee1d84-757c-4910-9052-541cf6a6d4cb",
   "metadata": {},
   "outputs": [],
   "source": [
    "# 자료형의 참과 거짓을 구분하는 기준"
   ]
  },
  {
   "cell_type": "code",
   "execution_count": 215,
   "id": "3ca4e442-64a2-4613-ba0e-e05568ea865f",
   "metadata": {},
   "outputs": [],
   "source": [
    "# \"python\"-참/\"\"-거짓/[1,2,3]-참/[]-거짓/()-거짓/{}-거짓/1-참/0-거짓/None-거짓"
   ]
  },
  {
   "cell_type": "code",
   "execution_count": 217,
   "id": "fcbdb160-ae82-4c23-9f8d-ec99df123ba0",
   "metadata": {},
   "outputs": [],
   "source": [
    "# If문"
   ]
  },
  {
   "cell_type": "code",
   "execution_count": 218,
   "id": "7e80c3ac-2b0c-49d2-bd59-4378755ba91b",
   "metadata": {},
   "outputs": [],
   "source": [
    "# 조건문 다음에 무조건 쿨론(:) 삽입"
   ]
  },
  {
   "cell_type": "code",
   "execution_count": 220,
   "id": "4e62c55e-2afe-4ff2-ba4d-ea4fdbfd290c",
   "metadata": {},
   "outputs": [],
   "source": [
    "# 조건문은 비교연산(<,>,==,!=,>=,<=)"
   ]
  },
  {
   "cell_type": "code",
   "execution_count": 223,
   "id": "0f36f491-ca98-463c-9a90-1224c6a5fdf3",
   "metadata": {},
   "outputs": [],
   "source": [
    "# 파이썬의 조건부 표현식\n",
    "# -조건문이 참인 경우 if 조건문 else 조건문이 거짓인 경우\n",
    "# -message = \"success\" if scor>= 60 else \"failure\""
   ]
  },
  {
   "cell_type": "code",
   "execution_count": 224,
   "id": "c1b7c52c-9b15-410a-ab32-f2fa79997c53",
   "metadata": {},
   "outputs": [],
   "source": [
    "# while문 - 조건 만족, 반복\n",
    "# for문 - 횟수, 반복"
   ]
  },
  {
   "cell_type": "code",
   "execution_count": 225,
   "id": "a2a920a0-ede0-420f-b715-726e31e7a767",
   "metadata": {
    "collapsed": true,
    "jupyter": {
     "outputs_hidden": true
    },
    "tags": []
   },
   "outputs": [
    {
     "name": "stdout",
     "output_type": "stream",
     "text": [
      "1\n",
      "2\n",
      "3\n",
      "4\n",
      "5\n"
     ]
    }
   ],
   "source": [
    "for i in [1,2,3,4,5]:\n",
    "    print(i)"
   ]
  },
  {
   "cell_type": "code",
   "execution_count": 228,
   "id": "96bea915-385c-40b6-9818-b97df6591d7a",
   "metadata": {
    "collapsed": true,
    "jupyter": {
     "outputs_hidden": true
    },
    "tags": []
   },
   "outputs": [
    {
     "name": "stdout",
     "output_type": "stream",
     "text": [
      "0\n",
      "1\n",
      "2\n",
      "3\n",
      "4\n",
      "5\n",
      "6\n",
      "7\n",
      "8\n",
      "9\n"
     ]
    }
   ],
   "source": [
    "for i in range(10):\n",
    "    print(i)"
   ]
  },
  {
   "cell_type": "code",
   "execution_count": 230,
   "id": "39f9539b-af92-497c-90be-dfc94c6b4a12",
   "metadata": {},
   "outputs": [
    {
     "name": "stdout",
     "output_type": "stream",
     "text": [
      "0 a\n",
      "1 b\n",
      "2 c\n"
     ]
    }
   ],
   "source": [
    "for i,data in enumerate(['a','b','c']):\n",
    "    print(i,data)"
   ]
  },
  {
   "cell_type": "code",
   "execution_count": null,
   "id": "8977eeec-b2a1-4d99-8141-8786995ccd36",
   "metadata": {},
   "outputs": [],
   "source": []
  }
 ],
 "metadata": {
  "kernelspec": {
   "display_name": "Python 3 (ipykernel)",
   "language": "python",
   "name": "python3"
  },
  "language_info": {
   "codemirror_mode": {
    "name": "ipython",
    "version": 3
   },
   "file_extension": ".py",
   "mimetype": "text/x-python",
   "name": "python",
   "nbconvert_exporter": "python",
   "pygments_lexer": "ipython3",
   "version": "3.9.7"
  }
 },
 "nbformat": 4,
 "nbformat_minor": 5
}
