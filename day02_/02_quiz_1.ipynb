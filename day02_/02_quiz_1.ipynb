{
 "cells": [
  {
   "cell_type": "raw",
   "id": "9e50261a-de81-4ab3-a954-a598ccc9d70a",
   "metadata": {},
   "source": [
    "quiz 01>\n",
    "주민등록번호 14자리를 입력받아서 성별을 체크합니다.\n",
    "프로그램 종료는 (q,Q)를 누를때 까지 반복처리합니다.\n",
    "\n",
    "입력예:123456-1234567\n",
    "    조건처리: -길이값 체크\n",
    "-성별 체크(가능값:1,2,3,4)\n",
    "출력 : 여성입니다, or 남성입니다"
   ]
  },
  {
   "cell_type": "code",
   "execution_count": 14,
   "id": "851ae596-97cc-4828-9fc8-c57a0824b0df",
   "metadata": {},
   "outputs": [],
   "source": [
    "a = [2,4]"
   ]
  },
  {
   "cell_type": "code",
   "execution_count": 20,
   "id": "ef5c4383-ede9-43c0-9156-7bbf3e9ccbd4",
   "metadata": {},
   "outputs": [],
   "source": [
    "b = [1,3]"
   ]
  },
  {
   "cell_type": "code",
   "execution_count": 22,
   "id": "401532c1-a86a-4f66-ad8b-941094ae9c7f",
   "metadata": {},
   "outputs": [
    {
     "name": "stdout",
     "output_type": "stream",
     "text": [
      "여성입니다\n",
      "남성입니다\n"
     ]
    }
   ],
   "source": [
    "if a:\n",
    "    print('여성입니다')\n",
    "if b:\n",
    "    print('남성입니다')\n",
    "else:\n",
    "    pass"
   ]
  },
  {
   "cell_type": "raw",
   "id": "f01662d9-bb8c-4419-837f-ab29ecd239ed",
   "metadata": {},
   "source": [
    "주민등록번호 입력(14자리,종료:q,Q) >>> 12345678901234\n",
    "입력 문자의 길이가 안맞거나, 성별값의 범위가 아닙니다.\n",
    "주민등록번호 입력(14자리,종료:q,Q) >>> 123456-5123456\n",
    "입력 문자의 길이가 안맞거나, 성별값의 범위가 아닙니다.\n",
    "주민등록번호 입력(14자리,종료:q,Q) >>> 123456-4123456\n",
    "여성입니다.\n",
    "주민등록번호 입력(14자리,종료:q,Q) >>> q\n",
    "프로그램 종료lue"
   ]
  },
  {
   "cell_type": "code",
   "execution_count": null,
   "id": "bf8c02e1-1f12-480c-acb5-34c60f433a8b",
   "metadata": {},
   "outputs": [],
   "source": [
    "while True:\n",
    "    invalue = input('주민등록번호 입력(14자리,종료:q,Q) >>>')\n",
    "    if len(invalue) == 1 and invalue.lower() == 'q':\n",
    "        print('프로그램 종료')\n",
    "        break\n",
    "    elif len(invalue) == 14 and invalue[6] == '-' and invalue[7] in ['1','2','3','4']:\n",
    "        if invalue[7] in ['1','3']:\n",
    "            print('남성입니다.')\n",
    "        else:\n",
    "            print('여성입니다.')\n",
    "    else:\n",
    "        print('입력 문자의 길이가 안맞거나, 성별값의 범위가 아닙니다.')"
   ]
  },
  {
   "cell_type": "raw",
   "id": "17ce9a8e-77f5-4ab6-91ad-1068b893fc8a",
   "metadata": {},
   "source": [
    "for-갯수만큼 반복\n",
    "while-조건을 만족하는 만큼 반복"
   ]
  },
  {
   "cell_type": "raw",
   "id": "0edceb30-8c8d-4967-899b-4ff64f57a3b9",
   "metadata": {},
   "source": [
    "while True->무한반복, 조건문은 뒤에 : 무조건 붙여야 함"
   ]
  },
  {
   "cell_type": "raw",
   "id": "d7e2cb12-1abf-4ef2-b2d9-a0c48cde14c4",
   "metadata": {},
   "source": [
    "입력받은건 기본적으로 str이 들어옴(invalue)\n",
    "조건1 len(길이값 확인) 1자리 인지 and 조건2 문자열을 소문자로 바꿈\n",
    "두개다 만족하면 종료해달라고 했으니 print(프로그램 종료)찍어줌\n",
    "더이상 실행할게 없거나, 중도 종료시킬 때 break(가장 가까운 반복문 종료)\n",
    "elif(다시 조건) 길이가 14자리인지 확인/, 하이푼 7번째 위치니까 인덱스6([6]) /인덱스 7값이 1,2,3,4인지/셋 다 조건을 만족해야 하니 and로 묶음=====>조건3개\n",
    "인덱스7 즉 8번째 문자의 값이 1과 3 "
   ]
  },
  {
   "cell_type": "raw",
   "id": "86723d27-b3a1-4028-90a9-046bbb6903a7",
   "metadata": {},
   "source": [
    "quiz 02>\n",
    "로또 번호 추출기\n",
    "총 5세트의 번호를 추출합니다.\n",
    "한 세트당 번호는 6개 입니다.\n",
    "번호는 1-45 사이의 번호만 가능합니다.\n",
    "번호는 중복되면 안됩니다.\n",
    "번호를 출력시 오름차순으로 정렬해서 출력합니다."
   ]
  },
  {
   "cell_type": "code",
   "execution_count": 2,
   "id": "ac49471c-0807-4fd7-93c8-375356d184ac",
   "metadata": {},
   "outputs": [],
   "source": [
    "# 랜덤으로 번호추출하는법"
   ]
  },
  {
   "cell_type": "code",
   "execution_count": 3,
   "id": "e09641d2-6da7-477b-8968-9eaa457b4eb8",
   "metadata": {},
   "outputs": [],
   "source": [
    "import random"
   ]
  },
  {
   "cell_type": "code",
   "execution_count": 4,
   "id": "2490d1be-c653-4fb7-b62f-07c07d9ca2fe",
   "metadata": {},
   "outputs": [
    {
     "data": {
      "text/plain": [
       "0.9661651152825255"
      ]
     },
     "execution_count": 4,
     "metadata": {},
     "output_type": "execute_result"
    }
   ],
   "source": [
    "random.random()"
   ]
  },
  {
   "cell_type": "code",
   "execution_count": 6,
   "id": "02e27e5e-df55-4359-a039-4ccc77c6b998",
   "metadata": {},
   "outputs": [
    {
     "ename": "TypeError",
     "evalue": "randint() missing 2 required positional arguments: 'a' and 'b'",
     "output_type": "error",
     "traceback": [
      "\u001b[1;31m---------------------------------------------------------------------------\u001b[0m",
      "\u001b[1;31mTypeError\u001b[0m                                 Traceback (most recent call last)",
      "\u001b[1;32m~\\AppData\\Local\\Temp/ipykernel_9872/290052100.py\u001b[0m in \u001b[0;36m<module>\u001b[1;34m\u001b[0m\n\u001b[1;32m----> 1\u001b[1;33m \u001b[0mrandom\u001b[0m\u001b[1;33m.\u001b[0m\u001b[0mrandint\u001b[0m\u001b[1;33m(\u001b[0m\u001b[1;33m)\u001b[0m\u001b[1;33m\u001b[0m\u001b[1;33m\u001b[0m\u001b[0m\n\u001b[0m",
      "\u001b[1;31mTypeError\u001b[0m: randint() missing 2 required positional arguments: 'a' and 'b'"
     ]
    }
   ],
   "source": [
    "random.randint()"
   ]
  },
  {
   "cell_type": "code",
   "execution_count": 7,
   "id": "e154193e-97b2-49ae-ac7f-ff50542b3db4",
   "metadata": {},
   "outputs": [
    {
     "data": {
      "text/plain": [
       "35"
      ]
     },
     "execution_count": 7,
     "metadata": {},
     "output_type": "execute_result"
    }
   ],
   "source": [
    "random.randint(1,45)"
   ]
  },
  {
   "cell_type": "code",
   "execution_count": 8,
   "id": "2eb2c225-6eb9-4472-ba6c-f53c6afd4302",
   "metadata": {},
   "outputs": [],
   "source": [
    "# 번호 오름차순으로 정렬하는법"
   ]
  },
  {
   "cell_type": "raw",
   "id": "b7d47640-0141-4b97-a94a-7781071970e5",
   "metadata": {},
   "source": [
    "[2,4,6,1].sort() ----x"
   ]
  },
  {
   "cell_type": "code",
   "execution_count": 10,
   "id": "0825563f-d728-48ac-86e1-f4ebcddd558d",
   "metadata": {},
   "outputs": [
    {
     "data": {
      "text/plain": [
       "[1, 2, 4, 6]"
      ]
     },
     "execution_count": 10,
     "metadata": {},
     "output_type": "execute_result"
    }
   ],
   "source": [
    "a = [2,4,6,1]\n",
    "a.sort()\n",
    "a"
   ]
  },
  {
   "cell_type": "raw",
   "id": "769ffcee-6915-4732-8bb3-59752de66f3f",
   "metadata": {},
   "source": []
  },
  {
   "cell_type": "code",
   "execution_count": null,
   "id": "e3f87ca3-115e-4c74-a32a-801e51140110",
   "metadata": {},
   "outputs": [],
   "source": [
    "while True:\n",
    "    invalue = input('로또 번호 추출')\n",
    "    if invalue == random.radiant(1,45) ㅊ"
   ]
  },
  {
   "cell_type": "code",
   "execution_count": null,
   "id": "a51c32ff-a3e9-4ffb-8162-4e1ed6a318f9",
   "metadata": {},
   "outputs": [],
   "source": [
    "import random\n",
    "list = []\n",
    "random.radiant(1,45)"
   ]
  },
  {
   "cell_type": "code",
   "execution_count": null,
   "id": "f81ec606-d271-47c0-b406-8fcafc9b16ed",
   "metadata": {},
   "outputs": [],
   "source": [
    "while True:\n",
    "    invalue = input('로또 번호 추출(5세트,6개) >>>')\n",
    "    if random.radiant(1,45)\n",
    "    a.sort()\n",
    "    a"
   ]
  },
  {
   "cell_type": "raw",
   "id": "68f4f359-77ad-4393-8f6f-45523e599311",
   "metadata": {},
   "source": [
    "range-순차적인 것 발생시킬때\n",
    "range(6) = 0-5\n",
    "0나오면 새로뽑게 되어있음"
   ]
  },
  {
   "cell_type": "code",
   "execution_count": null,
   "id": "8674d02e-04d7-4c56-b8f0-5d15237dc89b",
   "metadata": {},
   "outputs": [],
   "source": [
    "lotto = [0,0,0,0,0,0]\n",
    "for x in range(6):\n",
    "    num = 0\n",
    "    while (num in lotto):\n",
    "        num = random.randint(1,45)\n",
    "    lotto[x] = num\n",
    "lotto.sort()\n",
    "print(lotto)"
   ]
  },
  {
   "cell_type": "code",
   "execution_count": null,
   "id": "a9e81799-f8d2-4d17-b366-24589350272a",
   "metadata": {},
   "outputs": [],
   "source": []
  }
 ],
 "metadata": {
  "kernelspec": {
   "display_name": "Python 3 (ipykernel)",
   "language": "python",
   "name": "python3"
  },
  "language_info": {
   "codemirror_mode": {
    "name": "ipython",
    "version": 3
   },
   "file_extension": ".py",
   "mimetype": "text/x-python",
   "name": "python",
   "nbconvert_exporter": "python",
   "pygments_lexer": "ipython3",
   "version": "3.9.7"
  }
 },
 "nbformat": 4,
 "nbformat_minor": 5
}
