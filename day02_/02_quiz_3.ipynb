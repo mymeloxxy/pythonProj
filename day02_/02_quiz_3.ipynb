{
 "cells": [
  {
   "cell_type": "raw",
   "id": "330816c9-bae6-48a2-a491-abe819351385",
   "metadata": {},
   "source": [
    "quiz 03> 커피메뉴 관리프로그램\n",
    "데이터 저장은 딕셔너리로.. {'메뉴명':가격,'coffee':2000}\n",
    "프로그램에서 사용할 메뉴\n",
    "1. 메뉴입력 2. 메뉴수정 3. 메뉴목록 4. 메뉴삭제 5. 프로그램 종료\n",
    "- 메뉴입력 : 메뉴명과 가격을 입력받아서 저장(딕셔너리에-같은이름은 덮어씀(키는 중복이 안됨))\n",
    "- 메뉴수정 : 메뉴명을 확인하고 있는 메뉴에 가격을 입력받아 수정\n",
    "- 메뉴목록 : 저장된 메뉴명과 가격을 출력(천단위구분기호표기), 메뉴명 순서대로 출력\n",
    "- 메뉴삭제 : 메뉴명을 확인하고 있는 메뉴에서 삭제\n",
    "- 프로그램 종료 : 프로그램을 종료하는 메세지를 출력하고 종료(while True-무한반복 가 들어가야됨)\n",
    "- 메뉴1-5까지만 입력받고 다른 값이 들어오면 관련 에러 메세지를 출력한다.\n",
    "- 가격은 숫자로 입력해야됨"
   ]
  },
  {
   "cell_type": "code",
   "execution_count": 1,
   "id": "14797167-5671-4d48-a06d-e1c37b7e6544",
   "metadata": {},
   "outputs": [],
   "source": [
    "# sorted() = 정렬"
   ]
  },
  {
   "cell_type": "code",
   "execution_count": 6,
   "id": "0036e275-4989-4797-9245-1b8fd49e13d2",
   "metadata": {},
   "outputs": [],
   "source": [
    "list1 = [5,2,3,1,4]\n",
    "dict1 = {'아이스아메리카노':3000,'라떼':4000,'코코아':3500}"
   ]
  },
  {
   "cell_type": "code",
   "execution_count": 8,
   "id": "7e42f990-212b-4eab-8d13-66ef1519b589",
   "metadata": {},
   "outputs": [
    {
     "data": {
      "text/plain": [
       "[1, 2, 3, 4, 5]"
      ]
     },
     "execution_count": 8,
     "metadata": {},
     "output_type": "execute_result"
    }
   ],
   "source": [
    "sorted(list1)"
   ]
  },
  {
   "cell_type": "code",
   "execution_count": 9,
   "id": "e4f3f637-475c-48b6-98bd-9427ad785de9",
   "metadata": {},
   "outputs": [
    {
     "data": {
      "text/plain": [
       "[5, 2, 3, 1, 4]"
      ]
     },
     "execution_count": 9,
     "metadata": {},
     "output_type": "execute_result"
    }
   ],
   "source": [
    "list1"
   ]
  },
  {
   "cell_type": "code",
   "execution_count": 10,
   "id": "804bc38f-2c19-438c-931a-ecd3dcc060ed",
   "metadata": {},
   "outputs": [
    {
     "data": {
      "text/plain": [
       "['라떼', '아이스아메리카노', '코코아']"
      ]
     },
     "execution_count": 10,
     "metadata": {},
     "output_type": "execute_result"
    }
   ],
   "source": [
    "sorted(dict1)"
   ]
  },
  {
   "cell_type": "code",
   "execution_count": 11,
   "id": "0c3fce94-2af5-41c7-9cad-1ac6f3c04155",
   "metadata": {},
   "outputs": [],
   "source": [
    "# 함수"
   ]
  },
  {
   "cell_type": "code",
   "execution_count": 17,
   "id": "d4126e22-d96d-4f07-9a2f-0474dc9b2a80",
   "metadata": {},
   "outputs": [
    {
     "data": {
      "text/plain": [
       "dict_items([('아이스아메리카노', 3000), ('라떼', 4000), ('코코아', 3500)])"
      ]
     },
     "execution_count": 17,
     "metadata": {},
     "output_type": "execute_result"
    }
   ],
   "source": [
    "dict1.items()"
   ]
  },
  {
   "cell_type": "code",
   "execution_count": 16,
   "id": "995863c1-d99d-4d05-859d-b2796785ab2a",
   "metadata": {},
   "outputs": [
    {
     "data": {
      "text/plain": [
       "[('아이스아메리카노', 3000), ('코코아', 3500), ('라떼', 4000)]"
      ]
     },
     "execution_count": 16,
     "metadata": {},
     "output_type": "execute_result"
    }
   ],
   "source": [
    "sorted(dict1.items(),key=lambda data:data[1])"
   ]
  },
  {
   "cell_type": "code",
   "execution_count": 33,
   "id": "bae82ae9-31aa-4950-a845-bea4ad8e3ed9",
   "metadata": {},
   "outputs": [],
   "source": [
    "student_tu = [('john','A',15),\n",
    "              ('jane','B',12),\n",
    "              ('dave','B',10)]"
   ]
  },
  {
   "cell_type": "code",
   "execution_count": 34,
   "id": "81d34277-7db4-4477-95b5-b73df9db2708",
   "metadata": {},
   "outputs": [
    {
     "data": {
      "text/plain": [
       "[('dave', 'B', 10), ('jane', 'B', 12), ('john', 'A', 15)]"
      ]
     },
     "execution_count": 34,
     "metadata": {},
     "output_type": "execute_result"
    }
   ],
   "source": [
    "sorted(student_tu)"
   ]
  },
  {
   "cell_type": "code",
   "execution_count": 38,
   "id": "b580c0f3-a6b2-405f-9fec-15e3b41bbb1d",
   "metadata": {},
   "outputs": [
    {
     "data": {
      "text/plain": [
       "[('dave', 'B', 10), ('jane', 'B', 12), ('john', 'A', 15)]"
      ]
     },
     "execution_count": 38,
     "metadata": {},
     "output_type": "execute_result"
    }
   ],
   "source": [
    "# 나이 적은 순\n",
    "sorted(student_tu,key=lambda x :x[2])"
   ]
  },
  {
   "cell_type": "code",
   "execution_count": 39,
   "id": "60a3f712-a0a3-44ac-ade3-6e0a238806ca",
   "metadata": {},
   "outputs": [
    {
     "data": {
      "text/plain": [
       "[('john', 'A', 15), ('jane', 'B', 12), ('dave', 'B', 10)]"
      ]
     },
     "execution_count": 39,
     "metadata": {},
     "output_type": "execute_result"
    }
   ],
   "source": [
    "# 나이 많은 순\n",
    "sorted(student_tu,key=lambda x :x[2],reverse=True)"
   ]
  },
  {
   "cell_type": "code",
   "execution_count": null,
   "id": "c0a5b29d-ed05-4537-bc00-4721d0592048",
   "metadata": {},
   "outputs": [],
   "source": [
    "while True:\n",
    "     dict1 = {'coffe':2000,'ice choco':2500,'latte':3000,'ade':35000,'tea':2500}:\n",
    "            invalue = input(dict1):\n",
    "            sorted(dict.items(),key=lambda data:data[1]\n",
    "            del dict1[1]\n",
    "        invalue = input('메뉴명 입력 >>>')\n",
    "        if invalue == '':\n",
    "            print('error')\n",
    "            break"
   ]
  },
  {
   "cell_type": "code",
   "execution_count": 18,
   "id": "dc272692-ed1d-470c-8d22-65b3ff845456",
   "metadata": {},
   "outputs": [],
   "source": [
    "# 기본적인 틀 잡기"
   ]
  },
  {
   "cell_type": "code",
   "execution_count": null,
   "id": "93461f42-6cc2-4ff5-a7f8-b6976b96d0fe",
   "metadata": {},
   "outputs": [
    {
     "name": "stdin",
     "output_type": "stream",
     "text": [
      "\n",
      "----------------------------------------------------------\n",
      "1. 메뉴입력 2. 메뉴수정 3. 메뉴목록 4 메뉴삭제 5. 프로그램종료\n",
      "----------------------------------------------------------\n",
      "메뉴선택 >>>  5\n"
     ]
    }
   ],
   "source": [
    "menu = {'아이스아메리카노':3000,'라떼':4000,'코코아':3500}\n",
    "while True:\n",
    "    choice = input('''\n",
    "----------------------------------------------------------\n",
    "1. 메뉴입력 2. 메뉴수정 3. 메뉴목록 4 메뉴삭제 5. 프로그램종료\n",
    "----------------------------------------------------------\n",
    "메뉴선택 >>> ''')\n",
    "    if choice == '1':\n",
    "        pass\n",
    "    elif choice == '2':\n",
    "        pass\n",
    "    elif choice == '3':\n",
    "        pass\n",
    "    elif choice == '4':\n",
    "        pass\n",
    "    elif choice == '5':\n",
    "        pass\n",
    "    else:\n",
    "        print('메뉴를 잘못 선택 하였습니다.')"
   ]
  },
  {
   "cell_type": "code",
   "execution_count": 20,
   "id": "4ad058c2-14c6-48be-95f0-7cf841aaaee1",
   "metadata": {},
   "outputs": [],
   "source": [
    "# 5. 프로그램 종료 입력방법"
   ]
  },
  {
   "cell_type": "code",
   "execution_count": null,
   "id": "2d6595cf-955c-48df-baba-6c37912a0fd9",
   "metadata": {},
   "outputs": [
    {
     "name": "stdin",
     "output_type": "stream",
     "text": [
      "\n",
      "----------------------------------------------------------\n",
      "1. 메뉴입력 2. 메뉴수정 3. 메뉴목록 4 메뉴삭제 5. 프로그램종료\n",
      "----------------------------------------------------------\n",
      "메뉴선택 >>>  5\n"
     ]
    }
   ],
   "source": [
    "menu = {'아이스아메리카노':3000,'라떼':4000,'코코아':3500}\n",
    "while True:\n",
    "    choice = input('''\n",
    "----------------------------------------------------------\n",
    "1. 메뉴입력 2. 메뉴수정 3. 메뉴목록 4 메뉴삭제 5. 프로그램종료\n",
    "----------------------------------------------------------\n",
    "메뉴선택 >>> ''')\n",
    "    if choice == '1':\n",
    "        pass\n",
    "    elif choice == '2':\n",
    "        pass\n",
    "    elif choice == '3':\n",
    "        pass\n",
    "    elif choice == '4':\n",
    "        pass\n",
    "    elif choice == '5':\n",
    "        print('프로그램을 종료합니다.')\n",
    "        break\n",
    "    else:\n",
    "        print('메뉴를 잘못 선택 하였습니다.')"
   ]
  },
  {
   "cell_type": "code",
   "execution_count": 21,
   "id": "4b0debc9-181c-4941-a83a-617774a005a8",
   "metadata": {},
   "outputs": [],
   "source": [
    "# 3. 메뉴목록 입력방법"
   ]
  },
  {
   "cell_type": "code",
   "execution_count": 14,
   "id": "80039910-229e-48a6-9561-8b8c46ad7f1a",
   "metadata": {},
   "outputs": [
    {
     "name": "stdin",
     "output_type": "stream",
     "text": [
      "\n",
      "----------------------------------------------------------\n",
      "1. 메뉴입력 2. 메뉴수정 3. 메뉴목록 4 메뉴삭제 5. 프로그램종료\n",
      "----------------------------------------------------------\n",
      "메뉴선택 >>>  3\n"
     ]
    },
    {
     "name": "stdout",
     "output_type": "stream",
     "text": [
      "----- menu -----\n",
      "아이스아메리카노 : 3,000\n",
      "라떼 : 4,000\n",
      "코코아 : 3,500\n"
     ]
    },
    {
     "name": "stdin",
     "output_type": "stream",
     "text": [
      "\n",
      "----------------------------------------------------------\n",
      "1. 메뉴입력 2. 메뉴수정 3. 메뉴목록 4 메뉴삭제 5. 프로그램종료\n",
      "----------------------------------------------------------\n",
      "메뉴선택 >>>  5\n"
     ]
    },
    {
     "name": "stdout",
     "output_type": "stream",
     "text": [
      "프로그램을 종료합니다.\n"
     ]
    }
   ],
   "source": [
    "menu = {'아이스아메리카노':3000,'라떼':4000,'코코아':3500}\n",
    "while True:\n",
    "    choice = input('''\n",
    "----------------------------------------------------------\n",
    "1. 메뉴입력 2. 메뉴수정 3. 메뉴목록 4 메뉴삭제 5. 프로그램종료\n",
    "----------------------------------------------------------\n",
    "메뉴선택 >>> ''')\n",
    "    if choice == '1':\n",
    "        pass\n",
    "    elif choice == '2':\n",
    "        pass\n",
    "    elif choice == '3':\n",
    "        print('----- menu -----')\n",
    "        for item in menu.items():\n",
    "            print(f'{item[0]} : {item[1]:,}')\n",
    "    elif choice == '4':\n",
    "        pass\n",
    "    elif choice == '5':\n",
    "        print('프로그램을 종료합니다.')\n",
    "        break\n",
    "    else:\n",
    "        print('메뉴를 잘못 선택 하였습니다.')"
   ]
  },
  {
   "cell_type": "code",
   "execution_count": 16,
   "id": "d7d6445c-6b98-40f4-8dc4-e13610f29b7e",
   "metadata": {},
   "outputs": [],
   "source": [
    "# items[(key,value),(key,value)...]\n",
    "# 출력하고자 하는 위치 = {}로 표시\n",
    "# 천단위 구분기호 = ,\n",
    "# int = 숫자값으로 바꾸는 것"
   ]
  },
  {
   "cell_type": "code",
   "execution_count": 22,
   "id": "6b10b1fe-1f17-4637-9e7e-3c0a82ecb4da",
   "metadata": {},
   "outputs": [],
   "source": [
    "# 1. 메뉴입력 입력방법"
   ]
  },
  {
   "cell_type": "code",
   "execution_count": 23,
   "id": "e2481eeb-6346-4bba-84a6-b25a775f5250",
   "metadata": {
    "tags": []
   },
   "outputs": [
    {
     "name": "stdin",
     "output_type": "stream",
     "text": [
      "\n",
      "----------------------------------------------------------\n",
      "1. 메뉴입력 2. 메뉴수정 3. 메뉴목록 4 메뉴삭제 5. 프로그램종료\n",
      "----------------------------------------------------------\n",
      "메뉴선택 >>>  1\n"
     ]
    },
    {
     "name": "stdout",
     "output_type": "stream",
     "text": [
      "현재메뉴 : ['아이스아메리카노', '라떼', '코코아']\n"
     ]
    },
    {
     "name": "stdin",
     "output_type": "stream",
     "text": [
      "추가할 메뉴명을 입력하세요 >>> 5\n",
      "추가할 메뉴의 가격을 입력하세요 >>> 2500\n",
      "\n",
      "----------------------------------------------------------\n",
      "1. 메뉴입력 2. 메뉴수정 3. 메뉴목록 4 메뉴삭제 5. 프로그램종료\n",
      "----------------------------------------------------------\n",
      "메뉴선택 >>>  5\n"
     ]
    },
    {
     "name": "stdout",
     "output_type": "stream",
     "text": [
      "프로그램을 종료합니다.\n"
     ]
    }
   ],
   "source": [
    "menu = {'아이스아메리카노':3000,'라떼':4000,'코코아':3500}\n",
    "while True:\n",
    "    choice = input('''\n",
    "----------------------------------------------------------\n",
    "1. 메뉴입력 2. 메뉴수정 3. 메뉴목록 4 메뉴삭제 5. 프로그램종료\n",
    "----------------------------------------------------------\n",
    "메뉴선택 >>> ''')\n",
    "    if choice == '1':\n",
    "        print('현재메뉴 :',list(menu.keys()))\n",
    "        name = input('추가할 메뉴명을 입력하세요 >>>')\n",
    "        price = 'a'\n",
    "        while not price.isdecimal():\n",
    "            price = input('추가할 메뉴의 가격을 입력하세요 >>>')\n",
    "        menu[name]=int(price)\n",
    "    elif choice == '2':\n",
    "        pass\n",
    "    elif choice == '3':\n",
    "        print('----- menu -----')\n",
    "        for item in menu.items():\n",
    "            print(f'{item[0]} : {item[1]:,}')\n",
    "    elif choice == '4':\n",
    "        pass\n",
    "    elif choice == '5':\n",
    "        print('프로그램을 종료합니다.')\n",
    "        break\n",
    "    else:\n",
    "        print('메뉴를 잘못 선택 하였습니다.')"
   ]
  },
  {
   "cell_type": "code",
   "execution_count": 24,
   "id": "5916b9ae-33d0-4b5c-b575-b0f50d105b6c",
   "metadata": {},
   "outputs": [],
   "source": [
    "# 2. 메뉴수정 입력방법"
   ]
  },
  {
   "cell_type": "code",
   "execution_count": 33,
   "id": "21a51dad-d1b1-4756-b4d8-a9e49f52fe1c",
   "metadata": {},
   "outputs": [
    {
     "name": "stdin",
     "output_type": "stream",
     "text": [
      "\n",
      "----------------------------------------------------------\n",
      "1. 메뉴입력 2. 메뉴수정 3. 메뉴목록 4 메뉴삭제 5. 프로그램종료\n",
      "----------------------------------------------------------\n",
      "메뉴선택 >>>  3\n"
     ]
    },
    {
     "name": "stdout",
     "output_type": "stream",
     "text": [
      "----- menu -----\n",
      "아이스아메리카노 : 3,000\n",
      "라떼 : 4,000\n",
      "코코아 : 3,500\n"
     ]
    },
    {
     "name": "stdin",
     "output_type": "stream",
     "text": [
      "\n",
      "----------------------------------------------------------\n",
      "1. 메뉴입력 2. 메뉴수정 3. 메뉴목록 4 메뉴삭제 5. 프로그램종료\n",
      "----------------------------------------------------------\n",
      "메뉴선택 >>>  코코아\n"
     ]
    },
    {
     "name": "stdout",
     "output_type": "stream",
     "text": [
      "메뉴를 잘못 선택 하였습니다.\n"
     ]
    },
    {
     "name": "stdin",
     "output_type": "stream",
     "text": [
      "\n",
      "----------------------------------------------------------\n",
      "1. 메뉴입력 2. 메뉴수정 3. 메뉴목록 4 메뉴삭제 5. 프로그램종료\n",
      "----------------------------------------------------------\n",
      "메뉴선택 >>>  2\n"
     ]
    },
    {
     "name": "stdout",
     "output_type": "stream",
     "text": [
      "현재메뉴 : ['아이스아메리카노', '라떼', '코코아']\n"
     ]
    },
    {
     "name": "stdin",
     "output_type": "stream",
     "text": [
      "수정할 메뉴명을 입력하세요 >>> 코코아\n",
      "수정할 메뉴의 가격을 입력하세요 >>> 3400\n",
      "\n",
      "----------------------------------------------------------\n",
      "1. 메뉴입력 2. 메뉴수정 3. 메뉴목록 4 메뉴삭제 5. 프로그램종료\n",
      "----------------------------------------------------------\n",
      "메뉴선택 >>>  5\n"
     ]
    },
    {
     "name": "stdout",
     "output_type": "stream",
     "text": [
      "프로그램을 종료합니다.\n"
     ]
    }
   ],
   "source": [
    "menu = {'아이스아메리카노':3000,'라떼':4000,'코코아':3500}\n",
    "while True:\n",
    "    choice = input('''\n",
    "----------------------------------------------------------\n",
    "1. 메뉴입력 2. 메뉴수정 3. 메뉴목록 4 메뉴삭제 5. 프로그램종료\n",
    "----------------------------------------------------------\n",
    "메뉴선택 >>> ''')\n",
    "    if choice == '1':\n",
    "        print('현재메뉴 :',list(menu.keys()))\n",
    "        name = input('추가할 메뉴명을 입력하세요 >>>')\n",
    "        price = 'a'\n",
    "        while not price.isdecimal():\n",
    "            price = input('추가할 메뉴의 가격을 입력하세요 >>>')\n",
    "        menu[name]=int(price)\n",
    "    elif choice == '2':\n",
    "        print('현재메뉴 :',list(menu.keys()))\n",
    "        name = ''\n",
    "        while not name in menu.keys():\n",
    "            name = input('수정할 메뉴명을 입력하세요 >>>')\n",
    "        price = 'a'\n",
    "        while not price.isdecimal():\n",
    "            price = input('수정할 메뉴의 가격을 입력하세요 >>>')\n",
    "        menu[name]=int(price)\n",
    "    elif choice == '3':\n",
    "        print('----- menu -----')\n",
    "        for item in menu.items():\n",
    "            print(f'{item[0]} : {item[1]:,}')\n",
    "    elif choice == '4':\n",
    "        pass\n",
    "    elif choice == '5':\n",
    "        print('프로그램을 종료합니다.')\n",
    "        break\n",
    "    else:\n",
    "        print('메뉴를 잘못 선택 하였습니다.')"
   ]
  },
  {
   "cell_type": "code",
   "execution_count": 35,
   "id": "9bc5135e-327d-4d8c-a2be-d21876b478d6",
   "metadata": {},
   "outputs": [],
   "source": [
    "# 4. 메뉴삭제 입력방법"
   ]
  },
  {
   "cell_type": "code",
   "execution_count": 34,
   "id": "915f5268-b2a3-4f87-ad88-dfd7e47f9927",
   "metadata": {},
   "outputs": [
    {
     "name": "stdin",
     "output_type": "stream",
     "text": [
      "\n",
      "----------------------------------------------------------\n",
      "1. 메뉴입력 2. 메뉴수정 3. 메뉴목록 4 메뉴삭제 5. 프로그램종료\n",
      "----------------------------------------------------------\n",
      "메뉴선택 >>>  4\n"
     ]
    },
    {
     "name": "stdout",
     "output_type": "stream",
     "text": [
      "현재메뉴 : ['아이스아메리카노', '라떼', '코코아']\n"
     ]
    },
    {
     "name": "stdin",
     "output_type": "stream",
     "text": [
      "삭제할 메뉴명을 입력하세요 >>> 라떼\n",
      "\n",
      "----------------------------------------------------------\n",
      "1. 메뉴입력 2. 메뉴수정 3. 메뉴목록 4 메뉴삭제 5. 프로그램종료\n",
      "----------------------------------------------------------\n",
      "메뉴선택 >>>  3\n"
     ]
    },
    {
     "name": "stdout",
     "output_type": "stream",
     "text": [
      "----- menu -----\n",
      "아이스아메리카노 : 3,000\n",
      "코코아 : 3,500\n"
     ]
    },
    {
     "name": "stdin",
     "output_type": "stream",
     "text": [
      "\n",
      "----------------------------------------------------------\n",
      "1. 메뉴입력 2. 메뉴수정 3. 메뉴목록 4 메뉴삭제 5. 프로그램종료\n",
      "----------------------------------------------------------\n",
      "메뉴선택 >>>  5\n"
     ]
    },
    {
     "name": "stdout",
     "output_type": "stream",
     "text": [
      "프로그램을 종료합니다.\n"
     ]
    }
   ],
   "source": [
    "menu = {'아이스아메리카노':3000,'라떼':4000,'코코아':3500}\n",
    "while True:\n",
    "    choice = input('''\n",
    "----------------------------------------------------------\n",
    "1. 메뉴입력 2. 메뉴수정 3. 메뉴목록 4 메뉴삭제 5. 프로그램종료\n",
    "----------------------------------------------------------\n",
    "메뉴선택 >>> ''')\n",
    "    if choice == '1':\n",
    "        print('현재메뉴 :',list(menu.keys()))\n",
    "        name = input('추가할 메뉴명을 입력하세요 >>>')\n",
    "        price = 'a'\n",
    "        while not price.isdecimal():\n",
    "            price = input('추가할 메뉴의 가격을 입력하세요 >>>')\n",
    "        menu[name]=int(price)\n",
    "    elif choice == '2':\n",
    "        print('현재메뉴 :',list(menu.keys()))\n",
    "        name = ''\n",
    "        while not name in menu.keys():\n",
    "            name = input('수정할 메뉴명을 입력하세요 >>>')\n",
    "        price = 'a'\n",
    "        while not price.isdecimal():\n",
    "            price = input('수정할 메뉴의 가격을 입력하세요 >>>')\n",
    "        menu[name]=int(price)\n",
    "    elif choice == '3':\n",
    "        print('----- menu -----')\n",
    "        for item in menu.items():\n",
    "            print(f'{item[0]} : {item[1]:,}')\n",
    "    elif choice == '4':\n",
    "        print('현재메뉴 :',list(menu.keys()))\n",
    "        name = ''\n",
    "        while not name in menu.keys():\n",
    "            name = input('삭제할 메뉴명을 입력하세요 >>>')\n",
    "        del menu[name]\n",
    "    elif choice == '5':\n",
    "        print('프로그램을 종료합니다.')\n",
    "        break\n",
    "    else:\n",
    "        print('메뉴를 잘못 선택 하였습니다.')"
   ]
  },
  {
   "cell_type": "code",
   "execution_count": null,
   "id": "7959a0af-5b32-41b5-b467-7b2e4038d71b",
   "metadata": {},
   "outputs": [],
   "source": [
    "# 정렬하는 법"
   ]
  },
  {
   "cell_type": "code",
   "execution_count": 36,
   "id": "0974b3e9-b6e9-49c7-9e28-faa9d05ecd12",
   "metadata": {},
   "outputs": [
    {
     "name": "stdin",
     "output_type": "stream",
     "text": [
      "\n",
      "----------------------------------------------------------\n",
      "1. 메뉴입력 2. 메뉴수정 3. 메뉴목록 4 메뉴삭제 5. 프로그램종료\n",
      "----------------------------------------------------------\n",
      "메뉴선택 >>>  3\n"
     ]
    },
    {
     "name": "stdout",
     "output_type": "stream",
     "text": [
      "----- menu -----\n",
      "아이스아메리카노 : 3,000\n",
      "코코아 : 3,500\n",
      "라떼 : 4,000\n"
     ]
    },
    {
     "name": "stdin",
     "output_type": "stream",
     "text": [
      "\n",
      "----------------------------------------------------------\n",
      "1. 메뉴입력 2. 메뉴수정 3. 메뉴목록 4 메뉴삭제 5. 프로그램종료\n",
      "----------------------------------------------------------\n",
      "메뉴선택 >>>  5\n"
     ]
    },
    {
     "name": "stdout",
     "output_type": "stream",
     "text": [
      "프로그램을 종료합니다.\n"
     ]
    }
   ],
   "source": [
    "menu = {'아이스아메리카노':3000,'라떼':4000,'코코아':3500}\n",
    "while True:\n",
    "    choice = input('''\n",
    "----------------------------------------------------------\n",
    "1. 메뉴입력 2. 메뉴수정 3. 메뉴목록 4 메뉴삭제 5. 프로그램종료\n",
    "----------------------------------------------------------\n",
    "메뉴선택 >>> ''')\n",
    "    if choice == '1':\n",
    "        print('현재메뉴 :',list(menu.keys()))\n",
    "        name = input('추가할 메뉴명을 입력하세요 >>>')\n",
    "        price = 'a'\n",
    "        while not price.isdecimal():\n",
    "            price = input('추가할 메뉴의 가격을 입력하세요 >>>')\n",
    "        menu[name]=int(price)\n",
    "    elif choice == '2':\n",
    "        print('현재메뉴 :',list(menu.keys()))\n",
    "        name = ''\n",
    "        while not name in menu.keys():\n",
    "            name = input('수정할 메뉴명을 입력하세요 >>>')\n",
    "        price = 'a'\n",
    "        while not price.isdecimal():\n",
    "            price = input('수정할 메뉴의 가격을 입력하세요 >>>')\n",
    "        menu[name]=int(price)\n",
    "    elif choice == '3':\n",
    "        print('----- menu -----')\n",
    "        for item in sorted(menu.items(),key=lambda data:data[1]):\n",
    "            print(f'{item[0]} : {item[1]:,}')\n",
    "    elif choice == '4':\n",
    "        print('현재메뉴 :',list(menu.keys()))\n",
    "        name = ''\n",
    "        while not name in menu.keys():\n",
    "            name = input('삭제할 메뉴명을 입력하세요 >>>')\n",
    "        del menu[name]\n",
    "    elif choice == '5':\n",
    "        print('프로그램을 종료합니다.')\n",
    "        break\n",
    "    else:\n",
    "        print('메뉴를 잘못 선택 하였습니다.')"
   ]
  },
  {
   "cell_type": "code",
   "execution_count": 40,
   "id": "e8811adb-07eb-406d-aba3-47fc54ae6d6d",
   "metadata": {},
   "outputs": [],
   "source": [
    "# 높은 가격 순서대로 정렬하는법"
   ]
  },
  {
   "cell_type": "code",
   "execution_count": 39,
   "id": "458592ba-fd77-41d8-88fc-d4511aa7d6d0",
   "metadata": {},
   "outputs": [
    {
     "name": "stdin",
     "output_type": "stream",
     "text": [
      "\n",
      "----------------------------------------------------------\n",
      "1. 메뉴입력 2. 메뉴수정 3. 메뉴목록 4 메뉴삭제 5. 프로그램종료\n",
      "----------------------------------------------------------\n",
      "메뉴선택 >>>  3\n"
     ]
    },
    {
     "name": "stdout",
     "output_type": "stream",
     "text": [
      "----- menu -----\n",
      "라떼 : 4,000\n",
      "코코아 : 3,500\n",
      "아이스아메리카노 : 3,000\n"
     ]
    },
    {
     "name": "stdin",
     "output_type": "stream",
     "text": [
      "\n",
      "----------------------------------------------------------\n",
      "1. 메뉴입력 2. 메뉴수정 3. 메뉴목록 4 메뉴삭제 5. 프로그램종료\n",
      "----------------------------------------------------------\n",
      "메뉴선택 >>>  5\n"
     ]
    },
    {
     "name": "stdout",
     "output_type": "stream",
     "text": [
      "프로그램을 종료합니다.\n"
     ]
    }
   ],
   "source": [
    "menu = {'아이스아메리카노':3000,'라떼':4000,'코코아':3500}\n",
    "while True:\n",
    "    choice = input('''\n",
    "----------------------------------------------------------\n",
    "1. 메뉴입력 2. 메뉴수정 3. 메뉴목록 4 메뉴삭제 5. 프로그램종료\n",
    "----------------------------------------------------------\n",
    "메뉴선택 >>> ''')\n",
    "    if choice == '1':\n",
    "        print('현재메뉴 :',list(menu.keys()))\n",
    "        name = input('추가할 메뉴명을 입력하세요 >>>')\n",
    "        price = 'a'\n",
    "        while not price.isdecimal():\n",
    "            price = input('추가할 메뉴의 가격을 입력하세요 >>>')\n",
    "        menu[name]=int(price)\n",
    "    elif choice == '2':\n",
    "        print('현재메뉴 :',list(menu.keys()))\n",
    "        name = ''\n",
    "        while not name in menu.keys():\n",
    "            name = input('수정할 메뉴명을 입력하세요 >>>')\n",
    "        price = 'a'\n",
    "        while not price.isdecimal():\n",
    "            price = input('수정할 메뉴의 가격을 입력하세요 >>>')\n",
    "        menu[name]=int(price)\n",
    "    elif choice == '3':\n",
    "        print('----- menu -----')\n",
    "        for item in sorted(menu.items(),key=lambda data:data[1],reverse=True):\n",
    "            print(f'{item[0]} : {item[1]:,}')\n",
    "    elif choice == '4':\n",
    "        print('현재메뉴 :',list(menu.keys()))\n",
    "        name = ''\n",
    "        while not name in menu.keys():\n",
    "            name = input('삭제할 메뉴명을 입력하세요 >>>')\n",
    "        del menu[name]\n",
    "    elif choice == '5':\n",
    "        print('프로그램을 종료합니다.')\n",
    "        break\n",
    "    else:\n",
    "        print('메뉴를 잘못 선택 하였습니다.')"
   ]
  },
  {
   "cell_type": "code",
   "execution_count": null,
   "id": "c82ccf91-a0f1-4c63-a105-b70200b757c9",
   "metadata": {},
   "outputs": [],
   "source": []
  }
 ],
 "metadata": {
  "kernelspec": {
   "display_name": "Python 3 (ipykernel)",
   "language": "python",
   "name": "python3"
  },
  "language_info": {
   "codemirror_mode": {
    "name": "ipython",
    "version": 3
   },
   "file_extension": ".py",
   "mimetype": "text/x-python",
   "name": "python",
   "nbconvert_exporter": "python",
   "pygments_lexer": "ipython3",
   "version": "3.9.7"
  }
 },
 "nbformat": 4,
 "nbformat_minor": 5
}
