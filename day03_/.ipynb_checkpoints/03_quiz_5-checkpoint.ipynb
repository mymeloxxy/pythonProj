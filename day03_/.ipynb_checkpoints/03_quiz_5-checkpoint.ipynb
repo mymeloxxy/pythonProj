{
 "cells": [
  {
   "cell_type": "raw",
   "id": "695235f6-0f57-4062-bec1-52ffdbe679a5",
   "metadata": {},
   "source": [
    "quiz 05>\n",
    "타자게임\n",
    "- 문제는 총 5문제가 랜덤으로 나옵니다.\n",
    "- 데이터는 word = [\"cat\",\"dag\",\"fox\",\"monkey\",\"mouse\",\"panda\",\"frog\",\"snake\",\"wolf\"]\n",
    "- 나온 문제는 맞출때까지 계속 됩니다.\n",
    "- 문제를 맞추면 다음 문제가 나옵니다.\n",
    "- 걸린 시간을 보여줍니다."
   ]
  },
  {
   "cell_type": "raw",
   "id": "4c57767b-da78-4af7-a30a-04e74fc9be87",
   "metadata": {},
   "source": [
    "데이터 랜덤으로 뽑는 것 len으로 길이만큼 주면 숫자니까 index범위안에서 데이터(숫자)를 추출하면 됨\n",
    "set, choice"
   ]
  },
  {
   "cell_type": "code",
   "execution_count": 1,
   "id": "94fc60bd-d819-4bb2-9c85-6f487d94b303",
   "metadata": {},
   "outputs": [],
   "source": [
    "import random"
   ]
  },
  {
   "cell_type": "code",
   "execution_count": 2,
   "id": "a5cf3791-2b80-4331-b81e-4b90fdbeee5d",
   "metadata": {},
   "outputs": [],
   "source": [
    "word = [\"cat\",\"dag\",\"fox\",\"monkey\",\"mouse\",\"panda\",\"frog\",\"snake\",\"wolf\"]"
   ]
  },
  {
   "cell_type": "code",
   "execution_count": 4,
   "id": "18a443ab-283f-431b-94ed-c9993df0b0b0",
   "metadata": {},
   "outputs": [
    {
     "data": {
      "text/plain": [
       "'mouse'"
      ]
     },
     "execution_count": 4,
     "metadata": {},
     "output_type": "execute_result"
    }
   ],
   "source": [
    "random.choice(word)"
   ]
  },
  {
   "cell_type": "code",
   "execution_count": 9,
   "id": "9a5b4fab-6c44-494b-8ad0-e05c5611c3a5",
   "metadata": {},
   "outputs": [
    {
     "data": {
      "text/plain": [
       "7"
      ]
     },
     "execution_count": 9,
     "metadata": {},
     "output_type": "execute_result"
    }
   ],
   "source": [
    "random.randint(0,len(word)-1)"
   ]
  },
  {
   "cell_type": "code",
   "execution_count": 17,
   "id": "4388463e-c1fd-41b2-9bb5-6547189828a2",
   "metadata": {},
   "outputs": [
    {
     "data": {
      "text/plain": [
       "'fox'"
      ]
     },
     "execution_count": 17,
     "metadata": {},
     "output_type": "execute_result"
    }
   ],
   "source": [
    "word[random.randint(0,len(word)-1)]"
   ]
  },
  {
   "cell_type": "code",
   "execution_count": 22,
   "id": "5ffd1a1f-1689-494e-a716-56ac9e78b349",
   "metadata": {},
   "outputs": [
    {
     "ename": "SyntaxError",
     "evalue": "invalid syntax (Temp/ipykernel_5556/3393722527.py, line 5)",
     "output_type": "error",
     "traceback": [
      "\u001b[1;36m  File \u001b[1;32m\"C:\\Users\\Admin\\AppData\\Local\\Temp/ipykernel_5556/3393722527.py\"\u001b[1;36m, line \u001b[1;32m5\u001b[0m\n\u001b[1;33m    num = word[random.randint(0,len(word)-1)]:\u001b[0m\n\u001b[1;37m                                             ^\u001b[0m\n\u001b[1;31mSyntaxError\u001b[0m\u001b[1;31m:\u001b[0m invalid syntax\n"
     ]
    }
   ],
   "source": [
    "# word = [\"cat\",\"dog\",\"fox\",\"monkey\",\"mouse\",\"panda\",\"frog\",\"snake\",\"wolf\"] -[]는 리스트로 만든 것\n",
    "for x in range(5):\n",
    "    num = word\n",
    "    while(num in word):\n",
    "        num = word[random.randint(0,len(word)-1)]:\n",
    "            print('정답')"
   ]
  },
  {
   "cell_type": "code",
   "execution_count": 23,
   "id": "dd61195e-46f6-42fa-8711-d923f3e6e1d5",
   "metadata": {},
   "outputs": [
    {
     "name": "stdout",
     "output_type": "stream",
     "text": [
      "1번\n",
      "mouse\n"
     ]
    },
    {
     "name": "stdin",
     "output_type": "stream",
     "text": [
      " mouse\n"
     ]
    },
    {
     "name": "stdout",
     "output_type": "stream",
     "text": [
      "통과!\n",
      "2번\n",
      "dog\n"
     ]
    },
    {
     "name": "stdin",
     "output_type": "stream",
     "text": [
      " dog\n"
     ]
    },
    {
     "name": "stdout",
     "output_type": "stream",
     "text": [
      "통과!\n",
      "3번\n",
      "wolf\n"
     ]
    },
    {
     "name": "stdin",
     "output_type": "stream",
     "text": [
      " wolf\n"
     ]
    },
    {
     "name": "stdout",
     "output_type": "stream",
     "text": [
      "통과!\n",
      "4번\n",
      "cat\n"
     ]
    },
    {
     "name": "stdin",
     "output_type": "stream",
     "text": [
      " cat\n"
     ]
    },
    {
     "name": "stdout",
     "output_type": "stream",
     "text": [
      "통과!\n",
      "5번\n",
      "fox\n"
     ]
    },
    {
     "name": "stdin",
     "output_type": "stream",
     "text": [
      " fox\n"
     ]
    },
    {
     "name": "stdout",
     "output_type": "stream",
     "text": [
      "통과!\n"
     ]
    }
   ],
   "source": [
    "import random\n",
    "\n",
    "word = [\"cat\",\"dog\",\"fox\",\"monkey\",\"mouse\",\"panda\",\"frog\",\"snake\",\"wolf\"]\n",
    "n = 1\n",
    "quiz = random.choice(word)\n",
    "while n <= 5:\n",
    "    print(f'{n}번')\n",
    "    print(quiz)\n",
    "    x = input()\n",
    "    if quiz == x:\n",
    "        print('통과!')\n",
    "        n += 1\n",
    "        quiz = random.choice(word)\n",
    "    else:\n",
    "        print('오타! 다시 도전!')"
   ]
  },
  {
   "cell_type": "code",
   "execution_count": 24,
   "id": "0550618f-0945-4519-ab0e-50c55ecb015b",
   "metadata": {},
   "outputs": [
    {
     "name": "stdout",
     "output_type": "stream",
     "text": [
      "1번\n",
      "fox\n"
     ]
    },
    {
     "name": "stdin",
     "output_type": "stream",
     "text": [
      " 랱\n"
     ]
    },
    {
     "name": "stdout",
     "output_type": "stream",
     "text": [
      "오타! 다시 도전!\n",
      "1번\n",
      "fox\n"
     ]
    },
    {
     "name": "stdin",
     "output_type": "stream",
     "text": [
      " fox\n"
     ]
    },
    {
     "name": "stdout",
     "output_type": "stream",
     "text": [
      "통과!\n",
      "2번\n",
      "wolf\n"
     ]
    },
    {
     "name": "stdin",
     "output_type": "stream",
     "text": [
      " wolf\n"
     ]
    },
    {
     "name": "stdout",
     "output_type": "stream",
     "text": [
      "통과!\n",
      "3번\n",
      "fox\n"
     ]
    },
    {
     "name": "stdin",
     "output_type": "stream",
     "text": [
      " fox\n"
     ]
    },
    {
     "name": "stdout",
     "output_type": "stream",
     "text": [
      "통과!\n",
      "4번\n",
      "monkey\n"
     ]
    },
    {
     "name": "stdin",
     "output_type": "stream",
     "text": [
      " monkey\n"
     ]
    },
    {
     "name": "stdout",
     "output_type": "stream",
     "text": [
      "통과!\n",
      "5번\n",
      "wolf\n"
     ]
    },
    {
     "name": "stdin",
     "output_type": "stream",
     "text": [
      " wolf\n"
     ]
    },
    {
     "name": "stdout",
     "output_type": "stream",
     "text": [
      "통과!\n",
      "5문제 다 맞췄습니다.\n"
     ]
    }
   ],
   "source": [
    "import random\n",
    "\n",
    "word = [\"cat\",\"dog\",\"fox\",\"monkey\",\"mouse\",\"panda\",\"frog\",\"snake\",\"wolf\"]\n",
    "n = 1\n",
    "quiz = random.choice(word)\n",
    "while n <= 5:\n",
    "    print(f'{n}번')\n",
    "    print(quiz)\n",
    "    x = input()\n",
    "    if quiz == x:\n",
    "        print('통과!')\n",
    "        n += 1\n",
    "        quiz = random.choice(word)\n",
    "    else:\n",
    "        print('오타! 다시 도전!')\n",
    "print('5문제 다 맞췄습니다.')"
   ]
  },
  {
   "cell_type": "raw",
   "id": "ad7afe16-fabf-4b6b-a66a-bcc125b9bf70",
   "metadata": {},
   "source": [
    "# - 걸린 시간을 보여주는 방법\n",
    "import random,time---o\n",
    "\n",
    "import random\n",
    "import time-----o"
   ]
  },
  {
   "cell_type": "code",
   "execution_count": 27,
   "id": "aa17a238-f13a-4f61-86df-c21adee2e2d5",
   "metadata": {},
   "outputs": [
    {
     "name": "stdin",
     "output_type": "stream",
     "text": [
      "시작!(enter) \n"
     ]
    },
    {
     "name": "stdout",
     "output_type": "stream",
     "text": [
      "1번\n",
      "wolf\n"
     ]
    },
    {
     "name": "stdin",
     "output_type": "stream",
     "text": [
      " wolf\n"
     ]
    },
    {
     "name": "stdout",
     "output_type": "stream",
     "text": [
      "통과!\n",
      "2번\n",
      "mouse\n"
     ]
    },
    {
     "name": "stdin",
     "output_type": "stream",
     "text": [
      " mouse\n"
     ]
    },
    {
     "name": "stdout",
     "output_type": "stream",
     "text": [
      "통과!\n",
      "3번\n",
      "frog\n"
     ]
    },
    {
     "name": "stdin",
     "output_type": "stream",
     "text": [
      " frog\n"
     ]
    },
    {
     "name": "stdout",
     "output_type": "stream",
     "text": [
      "통과!\n",
      "4번\n",
      "dog\n"
     ]
    },
    {
     "name": "stdin",
     "output_type": "stream",
     "text": [
      " dog\n"
     ]
    },
    {
     "name": "stdout",
     "output_type": "stream",
     "text": [
      "통과!\n",
      "5번\n",
      "mouse\n"
     ]
    },
    {
     "name": "stdin",
     "output_type": "stream",
     "text": [
      " mouse\n"
     ]
    },
    {
     "name": "stdout",
     "output_type": "stream",
     "text": [
      "통과!\n",
      "5문제 다 맞췄습니다.\n",
      "걸린시간:7초\n"
     ]
    }
   ],
   "source": [
    "import random,time\n",
    "\n",
    "word = [\"cat\",\"dog\",\"fox\",\"monkey\",\"mouse\",\"panda\",\"frog\",\"snake\",\"wolf\"]\n",
    "n = 1\n",
    "quiz = random.choice(word)\n",
    "input('시작!(enter)')\n",
    "start = time.time()\n",
    "while n <= 5:\n",
    "    print(f'{n}번')\n",
    "    print(quiz)\n",
    "    x = input()\n",
    "    if quiz == x:\n",
    "        print('통과!')\n",
    "        n += 1\n",
    "        quiz = random.choice(word)\n",
    "    else:\n",
    "        print('오타! 다시 도전!')\n",
    "print('5문제 다 맞췄습니다.')\n",
    "end = time.time()\n",
    "print(f'걸린시간:{end-start:.0f}초')"
   ]
  }
 ],
 "metadata": {
  "kernelspec": {
   "display_name": "Python 3 (ipykernel)",
   "language": "python",
   "name": "python3"
  },
  "language_info": {
   "codemirror_mode": {
    "name": "ipython",
    "version": 3
   },
   "file_extension": ".py",
   "mimetype": "text/x-python",
   "name": "python",
   "nbconvert_exporter": "python",
   "pygments_lexer": "ipython3",
   "version": "3.9.7"
  }
 },
 "nbformat": 4,
 "nbformat_minor": 5
}
