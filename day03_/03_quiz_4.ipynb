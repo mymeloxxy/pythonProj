{
 "cells": [
  {
   "cell_type": "code",
   "execution_count": 24,
   "id": "549fac2c-85bd-458e-9fb3-75b6f8d1a613",
   "metadata": {},
   "outputs": [
    {
     "name": "stdin",
     "output_type": "stream",
     "text": [
      "\n",
      "----------------------------------------------------------\n",
      "1. 메뉴입력 2. 메뉴수정 3. 메뉴목록 4 메뉴삭제 5. 프로그램종료\n",
      "----------------------------------------------------------\n",
      "메뉴선택 >>>  5\n"
     ]
    },
    {
     "name": "stdout",
     "output_type": "stream",
     "text": [
      "프로그램을 종료합니다.\n"
     ]
    }
   ],
   "source": [
    "menu = {'아이스아메리카노':3000,'라떼':4000,'코코아':3500}\n",
    "while True:\n",
    "    choice = input('''\n",
    "----------------------------------------------------------\n",
    "1. 메뉴입력 2. 메뉴수정 3. 메뉴목록 4 메뉴삭제 5. 프로그램종료\n",
    "----------------------------------------------------------\n",
    "메뉴선택 >>> ''')\n",
    "    if choice == '1':\n",
    "        print('현재메뉴 :',list(menu.keys()))\n",
    "        name = input('추가할 메뉴명을 입력하세요 >>>')\n",
    "        price = 'a'\n",
    "        while not price.isdecimal():\n",
    "            price = input('추가할 메뉴의 가격을 입력하세요 >>>')\n",
    "        menu[name]=int(price)\n",
    "    elif choice == '2':\n",
    "        print('현재메뉴 :',list(menu.keys()))\n",
    "        name = ''\n",
    "        while not name in menu.keys():\n",
    "            name = input('수정할 메뉴명을 입력하세요 >>>')\n",
    "        price = 'a'\n",
    "        while not price.isdecimal():\n",
    "            price = input('수정할 메뉴의 가격을 입력하세요 >>>')\n",
    "        menu[name]=int(price)\n",
    "    elif choice == '3':\n",
    "        print('----- menu -----')\n",
    "        for item in sorted(menu.items(),key=lambda data:data[1],reverse=True):\n",
    "            print(f'{item[0]} : {item[1]:,}')\n",
    "    elif choice == '4':\n",
    "        print('현재메뉴 :',list(menu.keys()))\n",
    "        name = ''\n",
    "        while not name in menu.keys():\n",
    "            name = input('삭제할 메뉴명을 입력하세요 >>>')\n",
    "        del menu[name]\n",
    "    elif choice == '5':\n",
    "        print('프로그램을 종료합니다.')\n",
    "        break\n",
    "    else:\n",
    "        print('메뉴를 잘못 선택 하였습니다.')"
   ]
  },
  {
   "cell_type": "raw",
   "id": "0cd83966-8193-4e59-b320-d3c523d2e189",
   "metadata": {},
   "source": [
    "quiz 04>\n",
    "quiz 03에 내용을 저장하고 읽기\n",
    "파일은 열었으면 무조건 닫아줘야됨"
   ]
  },
  {
   "cell_type": "code",
   "execution_count": 1,
   "id": "cf3725f9-065c-49dc-a194-5301099e5337",
   "metadata": {},
   "outputs": [],
   "source": [
    "file = open('hello.txt','w')"
   ]
  },
  {
   "cell_type": "code",
   "execution_count": 2,
   "id": "6b4ed72f-6592-47b4-a603-4ea38734996c",
   "metadata": {},
   "outputs": [
    {
     "data": {
      "text/plain": [
       "12"
      ]
     },
     "execution_count": 2,
     "metadata": {},
     "output_type": "execute_result"
    }
   ],
   "source": [
    "file.write('hello world!')"
   ]
  },
  {
   "cell_type": "code",
   "execution_count": 34,
   "id": "7af43931-7a72-4abd-ab7d-b2234bd35479",
   "metadata": {},
   "outputs": [],
   "source": [
    "file.close()"
   ]
  },
  {
   "cell_type": "code",
   "execution_count": 13,
   "id": "8422d4c9-8aa3-4a70-b888-0cc894e437e3",
   "metadata": {},
   "outputs": [],
   "source": [
    "file = open('hello.txt','r')\n",
    "text = file.read()"
   ]
  },
  {
   "cell_type": "code",
   "execution_count": 14,
   "id": "34ea2e51-d958-4e83-b1cb-41ea1c706686",
   "metadata": {},
   "outputs": [
    {
     "data": {
      "text/plain": [
       "'hello world!\\nhello world!\\nhello world!\\nhello world!\\nhello world!\\nhello world!'"
      ]
     },
     "execution_count": 14,
     "metadata": {},
     "output_type": "execute_result"
    }
   ],
   "source": [
    "text"
   ]
  },
  {
   "cell_type": "code",
   "execution_count": 15,
   "id": "22b5535c-0459-460b-b755-4426df3cc6a1",
   "metadata": {},
   "outputs": [],
   "source": [
    "file = open('hello.txt','r')\n",
    "text = file.readline()"
   ]
  },
  {
   "cell_type": "code",
   "execution_count": 16,
   "id": "f33673c3-275c-4b50-8fd5-2363e68919d4",
   "metadata": {},
   "outputs": [
    {
     "data": {
      "text/plain": [
       "'hello world!\\n'"
      ]
     },
     "execution_count": 16,
     "metadata": {},
     "output_type": "execute_result"
    }
   ],
   "source": [
    "text"
   ]
  },
  {
   "cell_type": "code",
   "execution_count": 17,
   "id": "1ac405e7-82bb-45fb-8e63-d6efd8e3efc5",
   "metadata": {},
   "outputs": [],
   "source": [
    "file = open('hello.txt','r')\n",
    "text = file.readlines()"
   ]
  },
  {
   "cell_type": "code",
   "execution_count": 18,
   "id": "bd389be4-6747-4402-bfb5-0063df4bec92",
   "metadata": {},
   "outputs": [
    {
     "data": {
      "text/plain": [
       "['hello world!\\n',\n",
       " 'hello world!\\n',\n",
       " 'hello world!\\n',\n",
       " 'hello world!\\n',\n",
       " 'hello world!\\n',\n",
       " 'hello world!']"
      ]
     },
     "execution_count": 18,
     "metadata": {},
     "output_type": "execute_result"
    }
   ],
   "source": [
    "text"
   ]
  },
  {
   "cell_type": "code",
   "execution_count": 19,
   "id": "37089bda-a76f-498c-8478-d1d6f399ed67",
   "metadata": {},
   "outputs": [],
   "source": [
    "file.close()"
   ]
  },
  {
   "cell_type": "code",
   "execution_count": 22,
   "id": "eef6c2e4-c0e9-4549-b528-f22705761fd9",
   "metadata": {},
   "outputs": [],
   "source": [
    "# dump-저장(파일로 읽고 쓰고 할 때) dumps-읽어들일 때(변수안에 있는 걸 저장할 때)"
   ]
  },
  {
   "cell_type": "code",
   "execution_count": 20,
   "id": "4ddd71ce-2d12-44d0-bbe2-8444befee70c",
   "metadata": {},
   "outputs": [],
   "source": [
    "import pickle"
   ]
  },
  {
   "cell_type": "code",
   "execution_count": 25,
   "id": "5399e4d9-7973-44f1-bf99-87b602d69e06",
   "metadata": {},
   "outputs": [
    {
     "data": {
      "text/plain": [
       "{'아이스아메리카노': 3000, '라떼': 4000, '코코아': 3500}"
      ]
     },
     "execution_count": 25,
     "metadata": {},
     "output_type": "execute_result"
    }
   ],
   "source": [
    "menu"
   ]
  }
 ],
 "metadata": {
  "kernelspec": {
   "display_name": "Python 3 (ipykernel)",
   "language": "python",
   "name": "python3"
  },
  "language_info": {
   "codemirror_mode": {
    "name": "ipython",
    "version": 3
   },
   "file_extension": ".py",
   "mimetype": "text/x-python",
   "name": "python",
   "nbconvert_exporter": "python",
   "pygments_lexer": "ipython3",
   "version": "3.9.7"
  }
 },
 "nbformat": 4,
 "nbformat_minor": 5
}
