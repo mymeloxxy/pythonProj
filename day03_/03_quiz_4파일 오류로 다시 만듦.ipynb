{
 "cells": [
  {
   "cell_type": "code",
   "execution_count": 1,
   "id": "8b4b65e9-a993-436b-a750-6296051a93ce",
   "metadata": {},
   "outputs": [
    {
     "name": "stdin",
     "output_type": "stream",
     "text": [
      "\n",
      "----------------------------------------------------------\n",
      "1. 메뉴입력 2. 메뉴수정 3. 메뉴목록 4 메뉴삭제 5. 프로그램종료\n",
      "----------------------------------------------------------\n",
      "메뉴선택 >>>  6\n"
     ]
    },
    {
     "name": "stdout",
     "output_type": "stream",
     "text": [
      "메뉴를 잘못 선택 하였습니다.\n"
     ]
    },
    {
     "name": "stdin",
     "output_type": "stream",
     "text": [
      "\n",
      "----------------------------------------------------------\n",
      "1. 메뉴입력 2. 메뉴수정 3. 메뉴목록 4 메뉴삭제 5. 프로그램종료\n",
      "----------------------------------------------------------\n",
      "메뉴선택 >>>  5\n"
     ]
    },
    {
     "name": "stdout",
     "output_type": "stream",
     "text": [
      "프로그램을 종료합니다.\n"
     ]
    }
   ],
   "source": [
    "menu = {'아이스아메리카노':3000,'라떼':4000,'코코아':3500}\n",
    "while True:\n",
    "    choice = input('''\n",
    "----------------------------------------------------------\n",
    "1. 메뉴입력 2. 메뉴수정 3. 메뉴목록 4 메뉴삭제 5. 프로그램종료\n",
    "----------------------------------------------------------\n",
    "메뉴선택 >>> ''')\n",
    "    if choice == '1':\n",
    "        print('현재메뉴 :',list(menu.keys()))\n",
    "        name = input('추가할 메뉴명을 입력하세요 >>>')\n",
    "        price = 'a'\n",
    "        while not price.isdecimal():\n",
    "            price = input('추가할 메뉴의 가격을 입력하세요 >>>')\n",
    "        menu[name]=int(price)\n",
    "    elif choice == '2':\n",
    "        print('현재메뉴 :',list(menu.keys()))\n",
    "        name = ''\n",
    "        while not name in menu.keys():\n",
    "            name = input('수정할 메뉴명을 입력하세요 >>>')\n",
    "        price = 'a'\n",
    "        while not price.isdecimal():\n",
    "            price = input('수정할 메뉴의 가격을 입력하세요 >>>')\n",
    "        menu[name]=int(price)\n",
    "    elif choice == '3':\n",
    "        print('----- menu -----')\n",
    "        for item in sorted(menu.items(),key=lambda data:data[1],reverse=True):\n",
    "            print(f'{item[0]} : {item[1]:,}')\n",
    "    elif choice == '4':\n",
    "        print('현재메뉴 :',list(menu.keys()))\n",
    "        name = ''\n",
    "        while not name in menu.keys():\n",
    "            name = input('삭제할 메뉴명을 입력하세요 >>>')\n",
    "        del menu[name]\n",
    "    elif choice == '5':\n",
    "        print('프로그램을 종료합니다.')\n",
    "        break\n",
    "    else:\n",
    "        print('메뉴를 잘못 선택 하였습니다.')"
   ]
  },
  {
   "cell_type": "raw",
   "id": "cd4d87f1-949a-4498-b388-937c2ffd4601",
   "metadata": {},
   "source": [
    "quiz 04>\n",
    "quiz 03에 내용을 저장하고 읽기\n",
    "파일은 열었으면 무조건 닫아줘야됨"
   ]
  },
  {
   "cell_type": "code",
   "execution_count": 3,
   "id": "5124dee8-6cfb-401e-91c5-e18a1eec109c",
   "metadata": {},
   "outputs": [],
   "source": [
    "file = open('hello.txt','w')"
   ]
  },
  {
   "cell_type": "code",
   "execution_count": 4,
   "id": "7bcf7b6d-0d63-464c-ada1-0dfd16d7c164",
   "metadata": {},
   "outputs": [
    {
     "data": {
      "text/plain": [
       "12"
      ]
     },
     "execution_count": 4,
     "metadata": {},
     "output_type": "execute_result"
    }
   ],
   "source": [
    "file.write('hello world!')"
   ]
  },
  {
   "cell_type": "code",
   "execution_count": 5,
   "id": "d743a62b-a10e-4fb4-a519-a4b7ed190ebb",
   "metadata": {},
   "outputs": [],
   "source": [
    "file.close()"
   ]
  },
  {
   "cell_type": "code",
   "execution_count": 6,
   "id": "db8d3e23-597d-4538-b0bd-b00c78b4bbff",
   "metadata": {},
   "outputs": [],
   "source": [
    "file = open('hello.txt','r')\n",
    "text = file.read()"
   ]
  },
  {
   "cell_type": "code",
   "execution_count": 33,
   "id": "df5ab14f-d928-45d6-afed-9e3dec45e0d8",
   "metadata": {},
   "outputs": [
    {
     "data": {
      "text/plain": [
       "['hello world!\\n',\n",
       " 'hello world!\\n',\n",
       " 'hello world!\\n',\n",
       " 'hello world!\\n',\n",
       " 'hello world!']"
      ]
     },
     "execution_count": 33,
     "metadata": {},
     "output_type": "execute_result"
    }
   ],
   "source": [
    "text"
   ]
  },
  {
   "cell_type": "code",
   "execution_count": 9,
   "id": "9472cb55-55a0-4b59-8274-d3b9502a6c11",
   "metadata": {},
   "outputs": [],
   "source": [
    "file = open('hello.txt','r')\n",
    "text = file.readline()"
   ]
  },
  {
   "cell_type": "code",
   "execution_count": 28,
   "id": "c298f07b-571e-4d99-9150-fd4337cdf727",
   "metadata": {},
   "outputs": [
    {
     "data": {
      "text/plain": [
       "['hello world!\\n',\n",
       " 'hello world!\\n',\n",
       " 'hello world!\\n',\n",
       " 'hello world!\\n',\n",
       " 'hello world!']"
      ]
     },
     "execution_count": 28,
     "metadata": {},
     "output_type": "execute_result"
    }
   ],
   "source": [
    "text"
   ]
  },
  {
   "cell_type": "code",
   "execution_count": 24,
   "id": "c1d608d5-47e7-47b3-9116-1c7950bc1176",
   "metadata": {},
   "outputs": [],
   "source": [
    "file = open('hello.txt','r')\n",
    "text = file.readlines()"
   ]
  },
  {
   "cell_type": "code",
   "execution_count": 30,
   "id": "11078f8f-961a-4ed8-8713-ce412c3f8873",
   "metadata": {},
   "outputs": [
    {
     "data": {
      "text/plain": [
       "['hello world!\\n',\n",
       " 'hello world!\\n',\n",
       " 'hello world!\\n',\n",
       " 'hello world!\\n',\n",
       " 'hello world!']"
      ]
     },
     "execution_count": 30,
     "metadata": {},
     "output_type": "execute_result"
    }
   ],
   "source": [
    "text"
   ]
  },
  {
   "cell_type": "code",
   "execution_count": 13,
   "id": "0799a9a2-c840-457b-8f66-0fafd83e793d",
   "metadata": {},
   "outputs": [],
   "source": [
    "file.close()"
   ]
  },
  {
   "cell_type": "code",
   "execution_count": 14,
   "id": "72232a5e-9165-484c-8e7a-637bc13ff6b7",
   "metadata": {},
   "outputs": [],
   "source": [
    "# dump-저장(파일로 읽고 쓰고 할 때) dumps-읽어들일 때(변수안에 있는 걸 저장할 때)"
   ]
  },
  {
   "cell_type": "code",
   "execution_count": 15,
   "id": "b4488fa1-fc7a-4ff4-a391-0764d8faad86",
   "metadata": {},
   "outputs": [],
   "source": [
    "import pickle"
   ]
  },
  {
   "cell_type": "code",
   "execution_count": 16,
   "id": "8c9436e1-7d7f-4ade-ba92-8bba149b59e8",
   "metadata": {},
   "outputs": [
    {
     "data": {
      "text/plain": [
       "{'아이스아메리카노': 3000, '라떼': 4000, '코코아': 3500}"
      ]
     },
     "execution_count": 16,
     "metadata": {},
     "output_type": "execute_result"
    }
   ],
   "source": [
    "menu"
   ]
  },
  {
   "cell_type": "code",
   "execution_count": 59,
   "id": "488b1d5a-57d4-424e-af69-cdbf353f622a",
   "metadata": {},
   "outputs": [],
   "source": [
    "f = open('menu.pickle','wb')\n",
    "pickle.dump(menu,f)\n",
    "f.close()"
   ]
  },
  {
   "cell_type": "code",
   "execution_count": 18,
   "id": "76813828-dede-4c44-88c6-5f94f3f40768",
   "metadata": {},
   "outputs": [],
   "source": [
    "f = open('menu.pickle','wb')\n",
    "pickle.dump(menu,f)\n",
    "f.close()"
   ]
  },
  {
   "cell_type": "code",
   "execution_count": 19,
   "id": "080e6712-9e3b-47f0-ab39-81e26463b389",
   "metadata": {},
   "outputs": [],
   "source": [
    "f = open('menu.pickle','rb')\n",
    "data = pickle.load(f)\n",
    "f.close()"
   ]
  },
  {
   "cell_type": "code",
   "execution_count": 20,
   "id": "74dd4f27-447a-45a6-8f70-2526c49a0cdb",
   "metadata": {},
   "outputs": [
    {
     "data": {
      "text/plain": [
       "dict"
      ]
     },
     "execution_count": 20,
     "metadata": {},
     "output_type": "execute_result"
    }
   ],
   "source": [
    "type(data)"
   ]
  },
  {
   "cell_type": "code",
   "execution_count": 21,
   "id": "809c8bf5-4881-4953-86e2-d557ab6f0141",
   "metadata": {},
   "outputs": [
    {
     "data": {
      "text/plain": [
       "{'아이스아메리카노': 3000, '라떼': 4000, '코코아': 3500}"
      ]
     },
     "execution_count": 21,
     "metadata": {},
     "output_type": "execute_result"
    }
   ],
   "source": [
    "data"
   ]
  },
  {
   "cell_type": "code",
   "execution_count": 34,
   "id": "1e5c8c18-4dd9-4309-a6b9-89b8540fd688",
   "metadata": {},
   "outputs": [],
   "source": [
    "import json"
   ]
  },
  {
   "cell_type": "code",
   "execution_count": 62,
   "id": "086be466-b152-49ee-947b-7f615e2e7411",
   "metadata": {},
   "outputs": [],
   "source": [
    "f = open('menu.json','w')\n",
    "json.dump(menu,f)\n",
    "f.close()"
   ]
  },
  {
   "cell_type": "code",
   "execution_count": 63,
   "id": "8e37c21d-27a4-44a6-87ff-37d2cd552a2f",
   "metadata": {},
   "outputs": [],
   "source": [
    "f = open('menu.json','r')\n",
    "data = json.load(f)\n",
    "f.close()"
   ]
  },
  {
   "cell_type": "code",
   "execution_count": 64,
   "id": "9692a7ee-2f91-4f45-838f-771600de106f",
   "metadata": {},
   "outputs": [
    {
     "data": {
      "text/plain": [
       "dict"
      ]
     },
     "execution_count": 64,
     "metadata": {},
     "output_type": "execute_result"
    }
   ],
   "source": [
    "type(data)"
   ]
  },
  {
   "cell_type": "code",
   "execution_count": 40,
   "id": "33f3b6d4-1a8f-460c-baea-40121a9034be",
   "metadata": {},
   "outputs": [
    {
     "data": {
      "text/plain": [
       "{'아이스아메리카노': 3000, '라떼': 4000, '코코아': 3500}"
      ]
     },
     "execution_count": 40,
     "metadata": {},
     "output_type": "execute_result"
    }
   ],
   "source": [
    "data"
   ]
  },
  {
   "cell_type": "raw",
   "id": "8365179a-4d71-4dfe-90e0-9aa0d756bbb0",
   "metadata": {},
   "source": [
    "quiz 04>\n",
    "quiz 03에 내용을 프로그램 시작시 읽어오고 프로그램 종료시에 저장"
   ]
  },
  {
   "cell_type": "code",
   "execution_count": 42,
   "id": "3e8ac621-26e0-40aa-aec1-6dd00b475c34",
   "metadata": {},
   "outputs": [
    {
     "name": "stdin",
     "output_type": "stream",
     "text": [
      "\n",
      "----------------------------------------------------------\n",
      "1. 메뉴입력 2. 메뉴수정 3. 메뉴목록 4 메뉴삭제 5. 프로그램종료\n",
      "----------------------------------------------------------\n",
      "메뉴선택 >>>  5\n"
     ]
    },
    {
     "name": "stdout",
     "output_type": "stream",
     "text": [
      "프로그램을 종료합니다.\n"
     ]
    }
   ],
   "source": [
    "menu = {'아이스아메리카노':3000,'라떼':4000,'코코아':3500}\n",
    "while True:\n",
    "    choice = input('''\n",
    "----------------------------------------------------------\n",
    "1. 메뉴입력 2. 메뉴수정 3. 메뉴목록 4 메뉴삭제 5. 프로그램종료\n",
    "----------------------------------------------------------\n",
    "메뉴선택 >>> ''')\n",
    "    if choice == '1':\n",
    "        print('현재메뉴 :',list(menu.keys()))\n",
    "        name = input('추가할 메뉴명을 입력하세요 >>>')\n",
    "        price = 'a'\n",
    "        while not price.isdecimal():\n",
    "            price = input('추가할 메뉴의 가격을 입력하세요 >>>')\n",
    "        menu[name]=int(price)\n",
    "    elif choice == '2':\n",
    "        print('현재메뉴 :',list(menu.keys()))\n",
    "        name = ''\n",
    "        while not name in menu.keys():\n",
    "            name = input('수정할 메뉴명을 입력하세요 >>>')\n",
    "        price = 'a'\n",
    "        while not price.isdecimal():\n",
    "            price = input('수정할 메뉴의 가격을 입력하세요 >>>')\n",
    "        menu[name]=int(price)\n",
    "    elif choice == '3':\n",
    "        print('----- menu -----')\n",
    "        for item in sorted(menu.items(),key=lambda data:data[1],reverse=True):\n",
    "            print(f'{item[0]} : {item[1]:,}')\n",
    "    elif choice == '4':\n",
    "        print('현재메뉴 :',list(menu.keys()))\n",
    "        name = ''\n",
    "        while not name in menu.keys():\n",
    "            name = input('삭제할 메뉴명을 입력하세요 >>>')\n",
    "        del menu[name]\n",
    "    elif choice == '5':\n",
    "        print('프로그램을 종료합니다.')\n",
    "        break\n",
    "    else:\n",
    "        print('메뉴를 잘못 선택 하였습니다.')"
   ]
  },
  {
   "cell_type": "code",
   "execution_count": 43,
   "id": "000d38df-742e-4391-b057-296cdbb5237d",
   "metadata": {},
   "outputs": [
    {
     "ename": "ValueError",
     "evalue": "invalid mode: 'wd'",
     "output_type": "error",
     "traceback": [
      "\u001b[1;31m---------------------------------------------------------------------------\u001b[0m",
      "\u001b[1;31mValueError\u001b[0m                                Traceback (most recent call last)",
      "\u001b[1;32m~\\AppData\\Local\\Temp/ipykernel_13228/2621636130.py\u001b[0m in \u001b[0;36m<module>\u001b[1;34m\u001b[0m\n\u001b[1;32m----> 1\u001b[1;33m \u001b[0mf\u001b[0m \u001b[1;33m=\u001b[0m \u001b[0mopen\u001b[0m\u001b[1;33m(\u001b[0m\u001b[1;34m'menu.pickle'\u001b[0m\u001b[1;33m,\u001b[0m\u001b[1;34m'wd'\u001b[0m\u001b[1;33m)\u001b[0m\u001b[1;33m\u001b[0m\u001b[1;33m\u001b[0m\u001b[0m\n\u001b[0m\u001b[0;32m      2\u001b[0m \u001b[0mpickle\u001b[0m\u001b[1;33m.\u001b[0m\u001b[0mdumps\u001b[0m\u001b[1;33m(\u001b[0m\u001b[0mmenu\u001b[0m\u001b[1;33m,\u001b[0m\u001b[0mf\u001b[0m\u001b[1;33m)\u001b[0m\u001b[1;33m\u001b[0m\u001b[1;33m\u001b[0m\u001b[0m\n\u001b[0;32m      3\u001b[0m \u001b[0mf\u001b[0m\u001b[1;33m.\u001b[0m\u001b[0mclose\u001b[0m\u001b[1;33m(\u001b[0m\u001b[1;33m)\u001b[0m\u001b[1;33m\u001b[0m\u001b[1;33m\u001b[0m\u001b[0m\n",
      "\u001b[1;31mValueError\u001b[0m: invalid mode: 'wd'"
     ]
    }
   ],
   "source": [
    "f = open('menu.pickle','wd')\n",
    "pickle.dumps(menu,f)\n",
    "f.close()"
   ]
  },
  {
   "cell_type": "code",
   "execution_count": 67,
   "id": "b696acf7-6d46-4a26-9331-2d9a8b5405c4",
   "metadata": {},
   "outputs": [
    {
     "name": "stdin",
     "output_type": "stream",
     "text": [
      "\n",
      "----------------------------------------------------------\n",
      "1. 메뉴입력 2. 메뉴수정 3. 메뉴목록 4 메뉴삭제 5. 프로그램종료\n",
      "----------------------------------------------------------\n",
      "메뉴선택 >>>  1\n"
     ]
    },
    {
     "name": "stdout",
     "output_type": "stream",
     "text": [
      "현재메뉴 : ['아이스아메리카노', '라떼', '코코아']\n"
     ]
    },
    {
     "name": "stdin",
     "output_type": "stream",
     "text": [
      "추가할 메뉴명을 입력하세요 >>> 우유\n",
      "추가할 메뉴의 가격을 입력하세요 >>> 2000\n",
      "\n",
      "----------------------------------------------------------\n",
      "1. 메뉴입력 2. 메뉴수정 3. 메뉴목록 4 메뉴삭제 5. 프로그램종료\n",
      "----------------------------------------------------------\n",
      "메뉴선택 >>>  3\n"
     ]
    },
    {
     "name": "stdout",
     "output_type": "stream",
     "text": [
      "----- menu -----\n",
      "라떼 : 4,000\n",
      "코코아 : 3,500\n",
      "아이스아메리카노 : 3,000\n",
      "우유 : 2,000\n"
     ]
    },
    {
     "name": "stdin",
     "output_type": "stream",
     "text": [
      "\n",
      "----------------------------------------------------------\n",
      "1. 메뉴입력 2. 메뉴수정 3. 메뉴목록 4 메뉴삭제 5. 프로그램종료\n",
      "----------------------------------------------------------\n",
      "메뉴선택 >>>  5\n"
     ]
    },
    {
     "name": "stdout",
     "output_type": "stream",
     "text": [
      "프로그램을 종료합니다.\n"
     ]
    }
   ],
   "source": [
    "import json\n",
    "\n",
    "f = open('menu.json','r')\n",
    "menu = json.load(f)\n",
    "f.close()\n",
    "\n",
    "# menu = {'아이스아메리카노':3000,'라떼':4000,'코코아':3500}\n",
    "while True:\n",
    "    choice = input('''\n",
    "----------------------------------------------------------\n",
    "1. 메뉴입력 2. 메뉴수정 3. 메뉴목록 4 메뉴삭제 5. 프로그램종료\n",
    "----------------------------------------------------------\n",
    "메뉴선택 >>> ''')\n",
    "    if choice == '1':\n",
    "        print('현재메뉴 :',list(menu.keys()))\n",
    "        name = input('추가할 메뉴명을 입력하세요 >>>')\n",
    "        price = 'a'\n",
    "        while not price.isdecimal():\n",
    "            price = input('추가할 메뉴의 가격을 입력하세요 >>>')\n",
    "        menu[name]=int(price)\n",
    "    elif choice == '2':\n",
    "        print('현재메뉴 :',list(menu.keys()))\n",
    "        name = ''\n",
    "        while not name in menu.keys():\n",
    "            name = input('수정할 메뉴명을 입력하세요 >>>')\n",
    "        price = 'a'\n",
    "        while not price.isdecimal():\n",
    "            price = input('수정할 메뉴의 가격을 입력하세요 >>>')\n",
    "        menu[name]=int(price)\n",
    "    elif choice == '3':\n",
    "        print('----- menu -----')\n",
    "        for item in sorted(menu.items(),key=lambda data:data[1],reverse=True):\n",
    "            print(f'{item[0]} : {item[1]:,}')\n",
    "    elif choice == '4':\n",
    "        print('현재메뉴 :',list(menu.keys()))\n",
    "        name = ''\n",
    "        while not name in menu.keys():\n",
    "            name = input('삭제할 메뉴명을 입력하세요 >>>')\n",
    "        del menu[name]\n",
    "    elif choice == '5':\n",
    "        print('프로그램을 종료합니다.')\n",
    "        f = open('menu.json','w')\n",
    "        json.dump(menu,f)\n",
    "        f.close()\n",
    "        break\n",
    "    else:\n",
    "        print('메뉴를 잘못 선택 하였습니다.')"
   ]
  }
 ],
 "metadata": {
  "kernelspec": {
   "display_name": "Python 3 (ipykernel)",
   "language": "python",
   "name": "python3"
  },
  "language_info": {
   "codemirror_mode": {
    "name": "ipython",
    "version": 3
   },
   "file_extension": ".py",
   "mimetype": "text/x-python",
   "name": "python",
   "nbconvert_exporter": "python",
   "pygments_lexer": "ipython3",
   "version": "3.9.7"
  }
 },
 "nbformat": 4,
 "nbformat_minor": 5
}
