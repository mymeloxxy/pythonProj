{
 "cells": [
  {
   "cell_type": "raw",
   "id": "982c8563-f1d1-4cda-93f5-9b3629c30986",
   "metadata": {},
   "source": [
    "quiz 06>\n",
    "앞에 타자 게임을 활용 while True사용\n",
    "- 1. 문제추가 2. 타자게임 3. 등수리스트 4. 종료하기\n",
    "- 문제추가 후 데이터는 파일로 저장\n",
    "- 문제추가는 단어를 입력받아서 중복되지 않도록 않게 추가, 종료 전까지 계속 추가 작업 진행\n",
    "-print(random.sample(range(1,46),6))\n",
    "- 타자게임은 시간을 체크하고, 걸린시간을 사용자명과 함께 저장 (딕셔너리로 저장(dic) = 등수데이터)\n",
    "- 등수리스트는 걸리시간이 적은 순서대로 정렬해서 출력( _.sort-> print)\n",
    "- 종료하기는 등수데이터를 저장하고 진행\n",
    "- 프로그램이 시작될 때 문제와 등수정보를 읽어 옴\n",
    "if 1\n",
    "elif 2\n",
    "elif 3\n",
    "elif 4\n",
    "\n"
   ]
  },
  {
   "cell_type": "code",
   "execution_count": null,
   "id": "1ce60789-3316-4750-82b1-7a88cf2e1e82",
   "metadata": {
    "tags": []
   },
   "outputs": [],
   "source": [
    "import random,time\n",
    "\n",
    "word = [\"cat\",\"dog\",\"fox\",\"monkey\",\"mouse\",\"panda\",\"frog\",\"snake\",\"wolf\"]\n",
    "n = 1\n",
    "quiz = random.choice(word)\n",
    "input('시작!(enter)')\n",
    "start = time.time()\n",
    "while n <= 5:\n",
    "    print(f'{n}번')\n",
    "    print(quiz)\n",
    "    x = input()\n",
    "    if quiz == x:\n",
    "        print('통과!')\n",
    "        n += 1\n",
    "        quiz = random.choice(word)\n",
    "    else:\n",
    "        print('오타! 다시 도전!')\n",
    "print('5문제 다 맞췄습니다.')\n",
    "end = time.time()\n",
    "print(f'걸린시간:{end-start:.0f}초')"
   ]
  },
  {
   "cell_type": "code",
   "execution_count": null,
   "id": "25dab859-b1ab-4040-88c5-392f5123ce1a",
   "metadata": {},
   "outputs": [],
   "source": [
    "# 2. 타자게임 완성하기"
   ]
  },
  {
   "cell_type": "code",
   "execution_count": null,
   "id": "7b3a9cf7-548b-4d95-85c4-b6d3854fb1db",
   "metadata": {},
   "outputs": [
    {
     "name": "stdin",
     "output_type": "stream",
     "text": [
      "\n",
      "1.문제추가 2.타자게임 3.등수리스트 4.종료하기\n",
      "메뉴선택 >>>  2\n",
      "시작!(enter) \n"
     ]
    },
    {
     "name": "stdout",
     "output_type": "stream",
     "text": [
      "1번\n",
      "wolf\n"
     ]
    },
    {
     "name": "stdin",
     "output_type": "stream",
     "text": [
      " wolf\n"
     ]
    },
    {
     "name": "stdout",
     "output_type": "stream",
     "text": [
      "통과!\n",
      "2번\n",
      "frog\n"
     ]
    },
    {
     "name": "stdin",
     "output_type": "stream",
     "text": [
      " frog\n"
     ]
    },
    {
     "name": "stdout",
     "output_type": "stream",
     "text": [
      "통과!\n",
      "3번\n",
      "panda\n"
     ]
    },
    {
     "name": "stdin",
     "output_type": "stream",
     "text": [
      " panda\n"
     ]
    },
    {
     "name": "stdout",
     "output_type": "stream",
     "text": [
      "통과!\n",
      "4번\n",
      "wolf\n"
     ]
    },
    {
     "name": "stdin",
     "output_type": "stream",
     "text": [
      " wolf\n"
     ]
    },
    {
     "name": "stdout",
     "output_type": "stream",
     "text": [
      "통과!\n",
      "5번\n",
      "snake\n"
     ]
    },
    {
     "name": "stdin",
     "output_type": "stream",
     "text": [
      " snake\n"
     ]
    },
    {
     "name": "stdout",
     "output_type": "stream",
     "text": [
      "통과!\n",
      "5문제 다 맞췄습니다.\n",
      "걸린시간:9초\n"
     ]
    },
    {
     "name": "stdin",
     "output_type": "stream",
     "text": [
      "사용자명을 입력하세요 >>> aaa\n",
      "사용자명이 중복됩니다. 다른 이름을 입력하세요. >>> bbb\n"
     ]
    },
    {
     "name": "stdout",
     "output_type": "stream",
     "text": [
      "{'aaa': 10.111, 'bbb': 8.64480710029602}\n"
     ]
    },
    {
     "name": "stdin",
     "output_type": "stream",
     "text": [
      "\n",
      "1.문제추가 2.타자게임 3.등수리스트 4.종료하기\n",
      "메뉴선택 >>>  4\n",
      "\n",
      "1.문제추가 2.타자게임 3.등수리스트 4.종료하기\n",
      "메뉴선택 >>>  4\n"
     ]
    }
   ],
   "source": [
    "import random,time\n",
    "word = [\"cat\",\"dog\",\"fox\",\"monkey\",\"mouse\",\"panda\",\"frog\",\"snake\",\"wolf\"]\n",
    "rank = {'aaa':10.111}\n",
    "\n",
    "while True:\n",
    "    menu = input('''\n",
    "1.문제추가 2.타자게임 3.등수리스트 4.종료하기\n",
    "메뉴선택 >>> ''')\n",
    "    if menu == '1':\n",
    "        pass\n",
    "    elif menu == '2':\n",
    "        n = 1\n",
    "        quiz = random.choice(word)\n",
    "        input('시작!(enter)')\n",
    "        start = time.time()\n",
    "        while n <= 5:\n",
    "            print(f'{n}번')\n",
    "            print(quiz)\n",
    "            x = input()\n",
    "            if quiz == x:\n",
    "                print('통과!')\n",
    "                n += 1\n",
    "                quiz = random.choice(word)\n",
    "            else:\n",
    "                print('오타! 다시 도전!')\n",
    "        print('5문제 다 맞췄습니다.')\n",
    "        end = time.time()\n",
    "        print(f'걸린시간:{end-start:.0f}초')\n",
    "        name = input('사용자명을 입력하세요 >>>')\n",
    "        while name in rank:\n",
    "            name = input('사용자명이 중복됩니다. 다른 이름을 입력하세요. >>>')\n",
    "        rank[name]=end-start\n",
    "        print(rank)\n",
    "    elif menu == '3':\n",
    "        pass\n",
    "    elif menu == '4':\n",
    "        pass\n",
    "    else:\n",
    "        print('메뉴선택을 잘못하셨습니다.')"
   ]
  },
  {
   "cell_type": "code",
   "execution_count": 1,
   "id": "af46a1ca-f5d7-4f88-b42c-1f75f93980ac",
   "metadata": {},
   "outputs": [],
   "source": [
    "# 4. 종료하기 입력방법"
   ]
  },
  {
   "cell_type": "raw",
   "id": "7ba0200a-53e4-419e-b0e6-aa37a4364ea4",
   "metadata": {},
   "source": [
    "4번에\n",
    "f = open('rank.json','w')\n",
    "json.dump(fank,f)\n",
    "f.close()\n",
    "도 되지만\n",
    "\n",
    "with open('rank.json','w') as f:\n",
    "    json.dump(rank,f)\n",
    "더 간편해서 이렇게 써도됨"
   ]
  },
  {
   "cell_type": "code",
   "execution_count": 4,
   "id": "3b74ebf8-9f08-4c39-8258-f43285395c24",
   "metadata": {},
   "outputs": [
    {
     "name": "stdin",
     "output_type": "stream",
     "text": [
      "\n",
      "1.문제추가 2.타자게임 3.등수리스트 4.종료하기\n",
      "메뉴선택 >>>  4\n"
     ]
    },
    {
     "name": "stdout",
     "output_type": "stream",
     "text": [
      "프로그램을 종료합니다.\n"
     ]
    }
   ],
   "source": [
    "import random,time,json\n",
    "word = [\"cat\",\"dog\",\"fox\",\"monkey\",\"mouse\",\"panda\",\"frog\",\"snake\",\"wolf\"]\n",
    "rank = {'aaa':10.111}\n",
    "\n",
    "while True:\n",
    "    menu = input('''\n",
    "1.문제추가 2.타자게임 3.등수리스트 4.종료하기\n",
    "메뉴선택 >>> ''')\n",
    "    if menu == '1':\n",
    "        pass\n",
    "    elif menu == '2':\n",
    "        n = 1\n",
    "        quiz = random.choice(word)\n",
    "        input('시작!(enter)')\n",
    "        start = time.time()\n",
    "        while n <= 5:\n",
    "            print(f'{n}번')\n",
    "            print(quiz)\n",
    "            x = input()\n",
    "            if quiz == x:\n",
    "                print('통과!')\n",
    "                n += 1\n",
    "                quiz = random.choice(word)\n",
    "            else:\n",
    "                print('오타! 다시 도전!')\n",
    "        print('5문제 다 맞췄습니다.')\n",
    "        end = time.time()\n",
    "        print(f'걸린시간:{end-start:.0f}초')\n",
    "        name = input('사용자명을 입력하세요 >>>')\n",
    "        while name in rank:\n",
    "            name = input('사용자명이 중복됩니다. 다른 이름을 입력하세요. >>>')\n",
    "        rank[name]=end-start\n",
    "        print(rank)\n",
    "    elif menu == '3':\n",
    "        pass\n",
    "    elif menu == '4':\n",
    "        print('프로그램을 종료합니다.')\n",
    "        f = open('rank.json','w')\n",
    "        json.dump(rank,f)\n",
    "        f.close()\n",
    "        break\n",
    "    else:\n",
    "        print('메뉴선택을 잘못하셨습니다.')"
   ]
  },
  {
   "cell_type": "code",
   "execution_count": 5,
   "id": "ecac032b-ef17-4de0-99e3-52409253fdfd",
   "metadata": {},
   "outputs": [],
   "source": [
    "# 프로그램이 시작될 때 문제와 등수정보를 읽어오는 법\n",
    "r-읽기모드"
   ]
  },
  {
   "cell_type": "code",
   "execution_count": 9,
   "id": "ad7aa6c0-6deb-4a60-9ee3-c6ac520d4ec0",
   "metadata": {},
   "outputs": [
    {
     "name": "stdin",
     "output_type": "stream",
     "text": [
      "\n",
      "1.문제추가 2.타자게임 3.등수리스트 4.종료하기\n",
      "메뉴선택 >>>  4\n"
     ]
    },
    {
     "name": "stdout",
     "output_type": "stream",
     "text": [
      "프로그램을 종료합니다.\n"
     ]
    }
   ],
   "source": [
    "import random,time,json\n",
    "\n",
    "word = [\"cat\",\"dog\",\"fox\",\"monkey\",\"mouse\",\"panda\",\"frog\",\"snake\",\"wolf\"]\n",
    "# rank = {'aaa':10.111}\n",
    "\n",
    "# with open('word.json','r') as f:\n",
    "#     word = json.load(f)\n",
    "with open('rank.json','r') as f:\n",
    "    rank = json.load(f) \n",
    "\n",
    "while True:\n",
    "    menu = input('''\n",
    "1.문제추가 2.타자게임 3.등수리스트 4.종료하기\n",
    "메뉴선택 >>> ''')\n",
    "    if menu == '1':\n",
    "        pass\n",
    "    elif menu == '2':\n",
    "        n = 1\n",
    "        quiz = random.choice(word)\n",
    "        input('시작!(enter)')\n",
    "        start = time.time()\n",
    "        while n <= 5:\n",
    "            print(f'{n}번')\n",
    "            print(quiz)\n",
    "            x = input()\n",
    "            if quiz == x:\n",
    "                print('통과!')\n",
    "                n += 1\n",
    "                quiz = random.choice(word)\n",
    "            else:\n",
    "                print('오타! 다시 도전!')\n",
    "        print('5문제 다 맞췄습니다.')\n",
    "        end = time.time()\n",
    "        print(f'걸린시간:{end-start:.0f}초')\n",
    "        name = input('사용자명을 입력하세요 >>>')\n",
    "        while name in rank:\n",
    "            name = input('사용자명이 중복됩니다. 다른 이름을 입력하세요. >>>')\n",
    "        rank[name]=end-start\n",
    "        print(rank)\n",
    "    elif menu == '3':\n",
    "        pass\n",
    "    elif menu == '4':\n",
    "        print('프로그램을 종료합니다.')\n",
    "        f = open('rank.json','w')\n",
    "        json.dump(rank,f)\n",
    "        f.close()\n",
    "        break\n",
    "    else:\n",
    "        print('메뉴선택을 잘못하셨습니다.')"
   ]
  },
  {
   "cell_type": "code",
   "execution_count": 11,
   "id": "3f7db1c9-2117-49ec-88a5-8589fc01acb2",
   "metadata": {},
   "outputs": [],
   "source": [
    "# 1. 문제추가 후 데이터는 파일저장, 단어를 입력받아 중복되지 않게 추가, 종료싸인이 들어오기 전 까지는 계속 무한으로 추가 될 수 있게"
   ]
  },
  {
   "cell_type": "code",
   "execution_count": 26,
   "id": "5eceb7ff-e1d7-4cd0-9063-e5dd50d8ac56",
   "metadata": {},
   "outputs": [
    {
     "name": "stdin",
     "output_type": "stream",
     "text": [
      "\n",
      "1.문제추가 2.타자게임 3.등수리스트 4.종료하기\n",
      "메뉴선택 >>>  4\n"
     ]
    },
    {
     "name": "stdout",
     "output_type": "stream",
     "text": [
      "프로그램을 종료합니다.\n"
     ]
    }
   ],
   "source": [
    "import random,time,json\n",
    "\n",
    "word = [\"cat\",\"dog\",\"fox\",\"monkey\",\"mouse\",\"panda\",\"frog\",\"snake\",\"wolf\"]\n",
    "# rank = {'aaa':10.111}\n",
    "\n",
    "# with open('word.json','r') as f:\n",
    "#     word = json.load(f)\n",
    "with open('rank.json','r') as f:\n",
    "    rank = json.load(f) \n",
    "\n",
    "while True:\n",
    "    menu = input('''\n",
    "1.문제추가 2.타자게임 3.등수리스트 4.종료하기\n",
    "메뉴선택 >>> ''')\n",
    "    if menu == '1':\n",
    "        while True:\n",
    "            quiz = input('추가할 단어를 입력(종료:0) >>>')\n",
    "            while quiz in word :\n",
    "                quiz = input('중복된 단어 입니다. 다시 입력(종료:0) >>>')\n",
    "            if quiz == '0':\n",
    "                break\n",
    "            word.append(quiz)\n",
    "            print(word)\n",
    "        with open('word.json','w') as f:\n",
    "            json.dump(word,f)\n",
    "    elif menu == '2':\n",
    "        n = 1\n",
    "        quiz = random.choice(word)\n",
    "        input('시작!(enter)')\n",
    "        start = time.time()\n",
    "        while n <= 5:\n",
    "            print(f'{n}번')\n",
    "            print(quiz)\n",
    "            x = input()\n",
    "            if quiz == x:\n",
    "                print('통과!')\n",
    "                n += 1\n",
    "                quiz = random.choice(word)\n",
    "            else:\n",
    "                print('오타! 다시 도전!')\n",
    "        print('5문제 다 맞췄습니다.')\n",
    "        end = time.time()\n",
    "        print(f'걸린시간:{end-start:.0f}초')\n",
    "        name = input('사용자명을 입력하세요 >>>')\n",
    "        while name in rank:\n",
    "            name = input('사용자명이 중복됩니다. 다른 이름을 입력하세요. >>>')\n",
    "        rank[name]=end-start\n",
    "        print(rank)\n",
    "    elif menu == '3':\n",
    "        pass\n",
    "    elif menu == '4':\n",
    "        print('프로그램을 종료합니다.')\n",
    "        f = open('rank.json','w')\n",
    "        json.dump(rank,f)\n",
    "        f.close()\n",
    "        break\n",
    "    else:\n",
    "        print('메뉴선택을 잘못하셨습니다.')"
   ]
  },
  {
   "cell_type": "code",
   "execution_count": 17,
   "id": "bbcc68b2-56bc-46c6-9dec-d0fa43376700",
   "metadata": {},
   "outputs": [
    {
     "name": "stdin",
     "output_type": "stream",
     "text": [
      "\n",
      "1.문제추가 2.타자게임 3.등수리스트 4.종료하기\n",
      "메뉴선택 >>>  4\n"
     ]
    },
    {
     "name": "stdout",
     "output_type": "stream",
     "text": [
      "프로그램을 종료합니다.\n"
     ]
    }
   ],
   "source": [
    "import random,time,json\n",
    "\n",
    "# word = [\"cat\",\"dog\",\"fox\",\"monkey\",\"mouse\",\"panda\",\"frog\",\"snake\",\"wolf\"]\n",
    "# rank = {'aaa':10.111}\n",
    "\n",
    "with open('word.json','r') as f:\n",
    "    word = json.load(f)\n",
    "with open('rank.json','r') as f:\n",
    "    rank = json.load(f) \n",
    "\n",
    "while True:\n",
    "    menu = input('''\n",
    "1.문제추가 2.타자게임 3.등수리스트 4.종료하기\n",
    "메뉴선택 >>> ''')\n",
    "    if menu == '1':\n",
    "        while True:\n",
    "            quiz = input('추가할 단어를 입력(종료:0) >>>')\n",
    "            while quiz in word :\n",
    "                quiz = input('중복된 단어 입니다. 다시 입력(종료:0) >>>')\n",
    "            if quiz == '0':\n",
    "                break\n",
    "            word.append(quiz)\n",
    "            print(word)\n",
    "        with open('word.json','w') as f:\n",
    "            json.dump(word,f)\n",
    "    elif menu == '2':\n",
    "        n = 1\n",
    "        quiz = random.choice(word)\n",
    "        input('시작!(enter)')\n",
    "        start = time.time()\n",
    "        while n <= 5:\n",
    "            print(f'{n}번')\n",
    "            print(quiz)\n",
    "            x = input()\n",
    "            if quiz == x:\n",
    "                print('통과!')\n",
    "                n += 1\n",
    "                quiz = random.choice(word)\n",
    "            else:\n",
    "                print('오타! 다시 도전!')\n",
    "        print('5문제 다 맞췄습니다.')\n",
    "        end = time.time()\n",
    "        print(f'걸린시간:{end-start:.0f}초')\n",
    "        name = input('사용자명을 입력하세요 >>>')\n",
    "        while name in rank:\n",
    "            name = input('사용자명이 중복됩니다. 다른 이름을 입력하세요. >>>')\n",
    "        rank[name]=end-start\n",
    "        print(rank)\n",
    "    elif menu == '3':\n",
    "        pass\n",
    "    elif menu == '4':\n",
    "        print('프로그램을 종료합니다.')\n",
    "        f = open('rank.json','w')\n",
    "        json.dump(rank,f)\n",
    "        f.close()\n",
    "        break\n",
    "    else:\n",
    "        print('메뉴선택을 잘못하셨습니다.')"
   ]
  },
  {
   "cell_type": "code",
   "execution_count": 19,
   "id": "576ba1a0-e332-4e01-9682-290668e58d80",
   "metadata": {},
   "outputs": [],
   "source": [
    "# 등수 리스트"
   ]
  },
  {
   "cell_type": "code",
   "execution_count": 25,
   "id": "e0229e6a-0bda-43ad-8850-1ffbd5d3d0cc",
   "metadata": {},
   "outputs": [
    {
     "name": "stdin",
     "output_type": "stream",
     "text": [
      "\n",
      "1.문제추가 2.타자게임 3.등수리스트 4.종료하기\n",
      "메뉴선택 >>>  3\n"
     ]
    },
    {
     "name": "stdout",
     "output_type": "stream",
     "text": [
      "1등 ddd 6.49\n",
      "2등 ccc 6.69\n",
      "3등 bbb 7.70\n",
      "4등 aaa 10.11\n"
     ]
    },
    {
     "name": "stdin",
     "output_type": "stream",
     "text": [
      "\n",
      "1.문제추가 2.타자게임 3.등수리스트 4.종료하기\n",
      "메뉴선택 >>>  4\n"
     ]
    },
    {
     "name": "stdout",
     "output_type": "stream",
     "text": [
      "프로그램을 종료합니다.\n"
     ]
    }
   ],
   "source": [
    "import random,time,json\n",
    "\n",
    "# word = [\"cat\",\"dog\",\"fox\",\"monkey\",\"mouse\",\"panda\",\"frog\",\"snake\",\"wolf\"]\n",
    "# rank = {'aaa':10.111}\n",
    "\n",
    "with open('word.json','r') as f:\n",
    "    word = json.load(f)\n",
    "with open('rank.json','r') as f:\n",
    "    rank = json.load(f) \n",
    "\n",
    "while True:\n",
    "    menu = input('''\n",
    "1.문제추가 2.타자게임 3.등수리스트 4.종료하기\n",
    "메뉴선택 >>> ''')\n",
    "    if menu == '1':\n",
    "        while True:\n",
    "            quiz = input('추가할 단어를 입력(종료:0) >>>')\n",
    "            while quiz in word :\n",
    "                quiz = input('중복된 단어 입니다. 다시 입력(종료:0) >>>')\n",
    "            if quiz == '0':\n",
    "                break\n",
    "            word.append(quiz)\n",
    "            print(word)\n",
    "        with open('word.json','w') as f:\n",
    "            json.dump(word,f)\n",
    "    elif menu == '2':\n",
    "        n = 1\n",
    "        quiz = random.choice(word)\n",
    "        input('시작!(enter)')\n",
    "        start = time.time()\n",
    "        while n <= 5:\n",
    "            print(f'{n}번')\n",
    "            print(quiz)\n",
    "            x = input()\n",
    "            if quiz == x:\n",
    "                print('통과!')\n",
    "                n += 1\n",
    "                quiz = random.choice(word)\n",
    "            else:\n",
    "                print('오타! 다시 도전!')\n",
    "        print('5문제 다 맞췄습니다.')\n",
    "        end = time.time()\n",
    "        print(f'걸린시간:{end-start:.0f}초')\n",
    "        name = input('사용자명을 입력하세요 >>>')\n",
    "        while name in rank:\n",
    "            name = input('사용자명이 중복됩니다. 다른 이름을 입력하세요. >>>')\n",
    "        rank[name]=end-start\n",
    "        print(rank)\n",
    "    elif menu == '3':\n",
    "        ranklist = sorted(rank.items(),key=lambda x:x[1])\n",
    "        for index,item in enumerate(ranklist):\n",
    "            print(f'{index+1}등 {item[0]} {item[1]:.2f}')\n",
    "    elif menu == '4':\n",
    "        print('프로그램을 종료합니다.')\n",
    "        f = open('rank.json','w')\n",
    "        json.dump(rank,f)\n",
    "        f.close()\n",
    "        break\n",
    "    else:\n",
    "        print('메뉴선택을 잘못하셨습니다.')"
   ]
  }
 ],
 "metadata": {
  "kernelspec": {
   "display_name": "Python 3 (ipykernel)",
   "language": "python",
   "name": "python3"
  },
  "language_info": {
   "codemirror_mode": {
    "name": "ipython",
    "version": 3
   },
   "file_extension": ".py",
   "mimetype": "text/x-python",
   "name": "python",
   "nbconvert_exporter": "python",
   "pygments_lexer": "ipython3",
   "version": "3.9.7"
  }
 },
 "nbformat": 4,
 "nbformat_minor": 5
}
