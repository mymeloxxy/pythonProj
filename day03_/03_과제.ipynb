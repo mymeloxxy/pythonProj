{
 "cells": [
  {
   "cell_type": "raw",
   "id": "33ba1df5-073e-4980-9c6e-4b94e7834c54",
   "metadata": {},
   "source": [
    "회원관리시스템\n",
    "a.회원정보 추가 f.검색 u.수정 d.삭제 s.목록 x.종료\n",
    "- 회원추가 후 데이터는 파일로 저장\n",
    "- 종료하기는 회원정보를 저장하고 진행\n",
    "- 프로그램이 시작될 때 회원정보를 읽어 옴\n"
   ]
  },
  {
   "cell_type": "code",
   "execution_count": 22,
   "id": "030472c7-3fc8-4c26-a478-54da9d45cdea",
   "metadata": {},
   "outputs": [
    {
     "name": "stdin",
     "output_type": "stream",
     "text": [
      "회원정보 추가(1), 검색(2), 삭제(3), 목록(4), 종료(5):  5\n"
     ]
    },
    {
     "name": "stdout",
     "output_type": "stream",
     "text": [
      "프로그램을 종료합니다.\n"
     ]
    }
   ],
   "source": [
    "\n",
    "members = {}\n",
    "while True:\n",
    "    menu = input('회원정보 추가(1), 검색(2), 삭제(3), 목록(4), 종료(5): ')\n",
    "    if menu=='1':\n",
    "        name = input('이름 입력: ').title()\n",
    "        phone = input('전화번호 입력: ')\n",
    "        members[name] = phone\n",
    "        print(f'{name} 입력 완료')\n",
    "        print(f'{name}:', phone)\n",
    "\n",
    "    elif menu=='2':\n",
    "        name = input('검색할 이름 입력: ').title()\n",
    "        phone = members.get(name, '존재하지 않습니다.')\n",
    "        print(f'{name}:', phone)\n",
    "\n",
    "    elif menu=='3':\n",
    "        name = input('삭제할 이름 입력: ').title()\n",
    "        if name not in members.keys():\n",
    "            print(f'{name} 회원은 존재하지 않습니다.')\n",
    "            continue\n",
    "        else:\n",
    "            del members[name]\n",
    "\n",
    "    elif menu=='4':\n",
    "        for k, v in members.items():\n",
    "            print(f'{k}: {v}')\n",
    "\n",
    "    elif menu=='5':\n",
    "        print('프로그램을 종료합니다.')\n",
    "        break"
   ]
  },
  {
   "cell_type": "code",
   "execution_count": 9,
   "id": "5b5f15bd-41e2-44c9-b169-a8743b650cd6",
   "metadata": {},
   "outputs": [
    {
     "name": "stdin",
     "output_type": "stream",
     "text": [
      "회원정보 추가(1), 검색(2), 삭제(3), 목록(4), 종료(5):  4\n",
      "회원정보 추가(1), 검색(2), 삭제(3), 목록(4), 종료(5):  5\n"
     ]
    },
    {
     "name": "stdout",
     "output_type": "stream",
     "text": [
      "프로그램을 종료합니다.\n"
     ]
    }
   ],
   "source": [
    "members = {}\n",
    "while True:\n",
    "    menu = input('회원정보 추가(1), 검색(2), 삭제(3), 목록(4), 종료(5): ')\n",
    "    if menu=='1':\n",
    "        name = input('이름 입력: ').title()\n",
    "        phone = input('전화번호 입력: ')\n",
    "        members[name] = phone\n",
    "        print(f'{name} 입력 완료')\n",
    "        print(f'{name}:', phone)\n",
    "        with open('members.json','w') as f:\n",
    "            json.dump(members,f)\n",
    "\n",
    "    elif menu=='2':\n",
    "        name = input('검색할 이름 입력: ').title()\n",
    "        phone = members.get(name, '존재하지 않습니다.')\n",
    "        print(f'{name}:', phone)\n",
    "\n",
    "    elif menu=='3':\n",
    "        name = input('삭제할 이름 입력: ').title()\n",
    "        if name not in members.keys():\n",
    "            print(f'{name} 회원은 존재하지 않습니다.')\n",
    "            continue\n",
    "        else:\n",
    "            del members[name]\n",
    "\n",
    "    elif menu=='4':\n",
    "        for k, v in members.items():\n",
    "            print(f'{k}: {v}')\n",
    "\n",
    "    elif menu=='5':\n",
    "        print('프로그램을 종료합니다.')\n",
    "        f = open('members.json','w')\n",
    "        json.dump(members,f)\n",
    "        f.close()\n",
    "        break"
   ]
  },
  {
   "cell_type": "code",
   "execution_count": null,
   "id": "f5852b78-9d6b-4035-891a-da60bf1a8bcd",
   "metadata": {},
   "outputs": [],
   "source": [
    "import json\n",
    "\n",
    "f = open('members.json','r')\n",
    "members= json.load(f)\n",
    "f.close()\n",
    "\n",
    "while True:\n",
    "    menu = input('회원정보 추가(a), 검색(f), 수정(u), 삭제(d), 목록(s), 종료(x): ')\n",
    "    if menu=='a':\n",
    "        name = input('이름 입력: ')\n",
    "        phone = input('전화번호 입력 ')\n",
    "        members[name] = phone\n",
    "\n",
    "        print(f'{name} 입력 완료')\n",
    "        print(f'{name}:', phone)\n",
    "\n",
    "\n",
    "    elif menu=='f':\n",
    "        name = input('검색할 이름 입력: ')\n",
    "        phone = members.get(name, '존재하지 않습니다.')\n",
    "\n",
    "        print(f'{name}:', phone)\n",
    "\n",
    "\n",
    "    elif menu=='u':\n",
    "        name = input('수정할 이름 입력: ').title()\n",
    "        if name not in members.keys(): \n",
    "\n",
    "            print(f'{name} 회원은 존재하지 않습니다.')\n",
    "\n",
    "            continue \n",
    "        else:\n",
    "            phone = input('새로운 전화번호 입력: ')\n",
    "            members[name] = phone\n",
    "\n",
    "            print(f\"{name} 수정 완료\")\n",
    "            print(f'{name}:', phone)\n",
    "\n",
    "\n",
    "    elif menu=='d':\n",
    "        name = input('삭제할 이름 입력: ').title()\n",
    "        if name not in members.keys():\n",
    "\n",
    "            print(f'{name} 회원은 존재하지 않습니다.')\n",
    "\n",
    "            continue\n",
    "        else:\n",
    "            del members[name]\n",
    "\n",
    "            print(f\"{name} 삭제 완료\")\n",
    "\n",
    "\n",
    "\n",
    "    elif menu=='s':\n",
    "\n",
    "        for k, v in members.items(): \n",
    "            print(f'{k}: {v}')\n",
    "\n",
    "\n",
    "    elif menu=='x':\n",
    "        print('프로그램을 종료합니다.')\n",
    "        f=open('members.json','w')\n",
    "        json.dump(members,f)\n",
    "        f.close()\n",
    "        break "
   ]
  }
 ],
 "metadata": {
  "kernelspec": {
   "display_name": "Python 3 (ipykernel)",
   "language": "python",
   "name": "python3"
  },
  "language_info": {
   "codemirror_mode": {
    "name": "ipython",
    "version": 3
   },
   "file_extension": ".py",
   "mimetype": "text/x-python",
   "name": "python",
   "nbconvert_exporter": "python",
   "pygments_lexer": "ipython3",
   "version": "3.9.7"
  }
 },
 "nbformat": 4,
 "nbformat_minor": 5
}
