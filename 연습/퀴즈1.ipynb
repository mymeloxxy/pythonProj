{
 "cells": [
  {
   "cell_type": "code",
   "execution_count": 3,
   "id": "ddfd5d13-78a7-4e2f-afd8-67abb9673533",
   "metadata": {},
   "outputs": [],
   "source": [
    "a = 'mymelody'"
   ]
  },
  {
   "cell_type": "code",
   "execution_count": 4,
   "id": "87957ae5-71a9-40e9-a055-9e412ede577a",
   "metadata": {},
   "outputs": [
    {
     "data": {
      "text/plain": [
       "str"
      ]
     },
     "execution_count": 4,
     "metadata": {},
     "output_type": "execute_result"
    }
   ],
   "source": [
    "type(a)"
   ]
  },
  {
   "cell_type": "code",
   "execution_count": 5,
   "id": "bd3728bd-a5f4-419b-baf9-61b67002583f",
   "metadata": {},
   "outputs": [],
   "source": [
    "b = 3"
   ]
  },
  {
   "cell_type": "code",
   "execution_count": 6,
   "id": "55084eca-1a5a-4b1b-822f-0a92e54be6c5",
   "metadata": {},
   "outputs": [
    {
     "data": {
      "text/plain": [
       "int"
      ]
     },
     "execution_count": 6,
     "metadata": {},
     "output_type": "execute_result"
    }
   ],
   "source": [
    "type(b)"
   ]
  },
  {
   "cell_type": "code",
   "execution_count": 7,
   "id": "c168f4fc-3173-4785-9946-5a3949857a0b",
   "metadata": {},
   "outputs": [],
   "source": [
    "c = 3.3"
   ]
  },
  {
   "cell_type": "code",
   "execution_count": 8,
   "id": "d7a8db73-1694-44b2-a4f6-f58d8c19ae3f",
   "metadata": {},
   "outputs": [
    {
     "data": {
      "text/plain": [
       "float"
      ]
     },
     "execution_count": 8,
     "metadata": {},
     "output_type": "execute_result"
    }
   ],
   "source": [
    "type(c)"
   ]
  },
  {
   "cell_type": "code",
   "execution_count": 10,
   "id": "fae1ef35-fd1a-48a4-af1b-02aa3a20b501",
   "metadata": {},
   "outputs": [
    {
     "data": {
      "text/plain": [
       "['mymelody']"
      ]
     },
     "execution_count": 10,
     "metadata": {},
     "output_type": "execute_result"
    }
   ],
   "source": [
    "a.split()"
   ]
  },
  {
   "cell_type": "code",
   "execution_count": 11,
   "id": "825cd5ac-b8c3-4c9f-8600-e68f15d0563b",
   "metadata": {},
   "outputs": [],
   "source": [
    "d = 'm y m e l o d y'"
   ]
  },
  {
   "cell_type": "code",
   "execution_count": 12,
   "id": "55b1fae4-58af-4a1c-b66c-78df2221bbe9",
   "metadata": {},
   "outputs": [
    {
     "data": {
      "text/plain": [
       "['m', 'y', 'm', 'e', 'l', 'o', 'd', 'y']"
      ]
     },
     "execution_count": 12,
     "metadata": {},
     "output_type": "execute_result"
    }
   ],
   "source": [
    "d.split()"
   ]
  },
  {
   "cell_type": "code",
   "execution_count": 13,
   "id": "1c9c069f-ae96-4645-95f8-8f12c51ad85e",
   "metadata": {},
   "outputs": [],
   "source": [
    "a = 'mymelody,my,melody'"
   ]
  },
  {
   "cell_type": "code",
   "execution_count": 19,
   "id": "374337f4-b7b0-4842-93b2-83bf945dda4d",
   "metadata": {},
   "outputs": [
    {
     "data": {
      "text/plain": [
       "['mymelody', 'my', 'melody']"
      ]
     },
     "execution_count": 19,
     "metadata": {},
     "output_type": "execute_result"
    }
   ],
   "source": [
    "a.split(sep=',')"
   ]
  },
  {
   "cell_type": "code",
   "execution_count": 24,
   "id": "030b1c81-a344-412f-99fa-75d8f5899ccd",
   "metadata": {},
   "outputs": [
    {
     "data": {
      "text/plain": [
       "'mymelody,my,melody'"
      ]
     },
     "execution_count": 24,
     "metadata": {},
     "output_type": "execute_result"
    }
   ],
   "source": [
    "''.join(a)"
   ]
  },
  {
   "cell_type": "code",
   "execution_count": 25,
   "id": "c73c372d-d555-4216-b0ff-108538cf2bc8",
   "metadata": {},
   "outputs": [
    {
     "data": {
      "text/plain": [
       "'m,y,m,e,l,o,d,y,,,m,y,,,m,e,l,o,d,y'"
      ]
     },
     "execution_count": 25,
     "metadata": {},
     "output_type": "execute_result"
    }
   ],
   "source": [
    "','.join(a)"
   ]
  },
  {
   "cell_type": "raw",
   "id": "5a8c8e53-9bc5-4626-a714-f811f5f0a0b3",
   "metadata": {},
   "source": [
    "quiz 01>\n",
    "주민등록번호 14자리를 입력받아서 성별을 체크합니다.\n",
    "프로그램 종료는 (q,Q)를 누를때 까지 반복처리합니다.\n",
    "\n",
    "입력예:123456-1234567\n",
    "    조건처리: -길이값 체크\n",
    "-성별 체크(가능값:1,2,3,4)\n",
    "출력 : 여성입니다, or 남성입니다"
   ]
  },
  {
   "cell_type": "code",
   "execution_count": 32,
   "id": "6ff568f6-630c-4a51-a012-222117a6fd2b",
   "metadata": {},
   "outputs": [
    {
     "name": "stdin",
     "output_type": "stream",
     "text": [
      "주민등록번호를 입력하세요(14자리,종료:q,Q) 123456-1234567\n"
     ]
    },
    {
     "name": "stdout",
     "output_type": "stream",
     "text": [
      "남성입니다.\n"
     ]
    },
    {
     "name": "stdin",
     "output_type": "stream",
     "text": [
      "주민등록번호를 입력하세요(14자리,종료:q,Q) ㅂ\n"
     ]
    },
    {
     "name": "stdout",
     "output_type": "stream",
     "text": [
      "입력오류입니다. 다시 입력하세요.\n"
     ]
    },
    {
     "name": "stdin",
     "output_type": "stream",
     "text": [
      "주민등록번호를 입력하세요(14자리,종료:q,Q) q\n"
     ]
    },
    {
     "name": "stdout",
     "output_type": "stream",
     "text": [
      "프로그램을 종료합니다.\n"
     ]
    }
   ],
   "source": [
    "while True:\n",
    "    invalue = input('주민등록번호를 입력하세요(14자리,종료:q,Q)')\n",
    "    if len(invalue) == 1 and invalue.lower() == 'q':\n",
    "        print('프로그램을 종료합니다.')\n",
    "        break\n",
    "    elif len(invalue) == 14 and invalue[6] == '-' and invalue[7] in ['1','2','3','4']:\n",
    "        if invalue[7] in ['1','3']:\n",
    "            print('남성입니다.')\n",
    "        else:\n",
    "            print('여성입니다.')\n",
    "    else:\n",
    "        print('입력오류입니다. 다시 입력하세요.')"
   ]
  },
  {
   "cell_type": "code",
   "execution_count": 41,
   "id": "4af5f41f-c381-48c1-b3c3-22961d2c67a7",
   "metadata": {},
   "outputs": [
    {
     "ename": "SyntaxError",
     "evalue": "invalid syntax (Temp/ipykernel_6420/3759184941.py, line 7)",
     "output_type": "error",
     "traceback": [
      "\u001b[1;36m  File \u001b[1;32m\"C:\\Users\\Admin\\AppData\\Local\\Temp/ipykernel_6420/3759184941.py\"\u001b[1;36m, line \u001b[1;32m7\u001b[0m\n\u001b[1;33m    elif ['1','3']:\u001b[0m\n\u001b[1;37m    ^\u001b[0m\n\u001b[1;31mSyntaxError\u001b[0m\u001b[1;31m:\u001b[0m invalid syntax\n"
     ]
    }
   ],
   "source": [
    "while True:\n",
    "    invalue = input('주민등록번호를 입력하세요(14자리,종료:q,Q)')\n",
    "    if len(invalue) == 1 and invalue.lower() == 'q':\n",
    "        print('프로그램을 종료합니다.')\n",
    "        break\n",
    "    elif len(invalue) == 14 and invalue[6] == '-' and invalue[7] in ['1','2','3','4']:\n",
    "        elif ['1','3']:\n",
    "            print('남성입니다.')\n",
    "        else:\n",
    "            print('여성입니다.')\n",
    "    else:\n",
    "        print('입력오류입니다. 다시 입력하세요.)"
   ]
  },
  {
   "cell_type": "code",
   "execution_count": null,
   "id": "09dfc863-c098-47c5-bd82-245dadd725f8",
   "metadata": {},
   "outputs": [],
   "source": []
  },
  {
   "cell_type": "code",
   "execution_count": 40,
   "id": "2f9c65a3-78c0-4200-b183-c41c883400ca",
   "metadata": {},
   "outputs": [
    {
     "name": "stdin",
     "output_type": "stream",
     "text": [
      "주민등록번호를 입력하세요(14자리,종료:q,Q) q\n"
     ]
    },
    {
     "name": "stdout",
     "output_type": "stream",
     "text": [
      "프로그램을 종료합니다\n"
     ]
    }
   ],
   "source": [
    "while True:\n",
    "    invalue = input('주민등록번호를 입력하세요(14자리,종료:q,Q)')\n",
    "    if len(invalue) == 1 and invalue.lower() == 'q':\n",
    "        print('프로그램을 종료합니다')\n",
    "        break\n",
    "    elif len(invalue) == 14 and invalue[6] == '-' and invalue[7] in ['1','2','3','4']:\n",
    "        if invalue[7] in ['1','3']:\n",
    "            print('남성입니다.')\n",
    "        else:\n",
    "            print('여성입니다.')\n",
    "    else:\n",
    "        print('입력오류입니다. 다시 입력하세요.')"
   ]
  },
  {
   "cell_type": "code",
   "execution_count": 1,
   "id": "3a639066-de50-4e43-8e78-20854eca7109",
   "metadata": {},
   "outputs": [
    {
     "name": "stdin",
     "output_type": "stream",
     "text": [
      "주민등록번호를 입력하세요(14자리,종료:q,Q) q\n"
     ]
    },
    {
     "name": "stdout",
     "output_type": "stream",
     "text": [
      "프로그램을 종료합니다.\n"
     ]
    }
   ],
   "source": [
    "while True:\n",
    "    invalue = input('주민등록번호를 입력하세요(14자리,종료:q,Q)')\n",
    "    if len(invalue) == 1 and invalue.lower() == 'q':\n",
    "        print('프로그램을 종료합니다.')\n",
    "        break\n",
    "    elif len(invalue) == 14 and invalue[6] == '-' and invalue[7] in ['1','2','3','4']:\n",
    "        if invalue[7] in ['1','3']:\n",
    "            print('남성입니다.')\n",
    "        else:\n",
    "            print('여성입니다.')\n",
    "    else:\n",
    "        print('프로그램을 종료합니다.')"
   ]
  },
  {
   "cell_type": "code",
   "execution_count": null,
   "id": "3203b623-de3e-4e12-bfe8-ee185a830828",
   "metadata": {},
   "outputs": [],
   "source": []
  },
  {
   "cell_type": "code",
   "execution_count": null,
   "id": "4b1a487c-9f2c-403c-8307-ccaaa96ac82e",
   "metadata": {},
   "outputs": [],
   "source": []
  }
 ],
 "metadata": {
  "kernelspec": {
   "display_name": "Python 3 (ipykernel)",
   "language": "python",
   "name": "python3"
  },
  "language_info": {
   "codemirror_mode": {
    "name": "ipython",
    "version": 3
   },
   "file_extension": ".py",
   "mimetype": "text/x-python",
   "name": "python",
   "nbconvert_exporter": "python",
   "pygments_lexer": "ipython3",
   "version": "3.9.7"
  }
 },
 "nbformat": 4,
 "nbformat_minor": 5
}
