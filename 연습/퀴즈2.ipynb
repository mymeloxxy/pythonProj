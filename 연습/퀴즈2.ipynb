{
 "cells": [
  {
   "cell_type": "raw",
   "id": "d517d674-4044-4b76-945c-0666afb6080b",
   "metadata": {},
   "source": [
    "quiz 02>\n",
    "로또 번호 추출기\n",
    "총 5세트의 번호를 추출합니다.\n",
    "한 세트당 번호는 6개 입니다.\n",
    "번호는 1-45 사이의 번호만 가능합니다.\n",
    "번호는 중복되면 안됩니다.\n",
    "번호를 출력시 오름차순으로 정렬해서 출력합니다."
   ]
  },
  {
   "cell_type": "code",
   "execution_count": null,
   "id": "43cb83c8-803d-4727-8873-f65214460ba0",
   "metadata": {},
   "outputs": [],
   "source": [
    "for i in range(5):\n",
    "    import random\n",
    "    lotto = [0,0,0,0,0,0]\n",
    "    for x in range(6):\n",
    "        num = 0\n",
    "        while (num in lotto):\n",
    "            num = random.randint(1,45)\n",
    "            lotto[x] = num\n",
    "    lotto.sort()\n",
    "    print(lotto)"
   ]
  },
  {
   "cell_type": "code",
   "execution_count": null,
   "id": "6287c30d-954d-478a-9dd1-48c1bd39855e",
   "metadata": {},
   "outputs": [],
   "source": [
    "import random\n",
    "for i in range(5):\n",
    "    lotto = [0,0,0,0,0,0]\n",
    "    for x in range(6):\n",
    "        num = 0\n",
    "        while (num in lotto):\n",
    "            num = random.randint(1,45)\n",
    "        lotto[x] = num\n",
    "    lotto.sort()\n",
    "    print(lotto)"
   ]
  },
  {
   "cell_type": "code",
   "execution_count": null,
   "id": "a4c9365e-c18e-4083-af2c-6cc2563779bb",
   "metadata": {},
   "outputs": [],
   "source": []
  }
 ],
 "metadata": {
  "kernelspec": {
   "display_name": "Python 3 (ipykernel)",
   "language": "python",
   "name": "python3"
  },
  "language_info": {
   "codemirror_mode": {
    "name": "ipython",
    "version": 3
   },
   "file_extension": ".py",
   "mimetype": "text/x-python",
   "name": "python",
   "nbconvert_exporter": "python",
   "pygments_lexer": "ipython3",
   "version": "3.9.7"
  }
 },
 "nbformat": 4,
 "nbformat_minor": 5
}
